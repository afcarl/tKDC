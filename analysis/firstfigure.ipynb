{
 "cells": [
  {
   "cell_type": "code",
   "execution_count": 1,
   "metadata": {
    "collapsed": false
   },
   "outputs": [],
   "source": [
    "import matplotlib\n",
    "matplotlib.use('PDF')\n",
    "import numpy as np\n",
    "import sklearn\n",
    "import scipy.stats\n",
    "import matplotlib.pyplot as plt\n",
    "import timeit\n",
    "import pandas as pd\n",
    "import math\n",
    "import itertools\n",
    "import time\n",
    "\n",
    "import sklearn.neighbors\n",
    "from sklearn.neighbors import (\n",
    "    KernelDensity,\n",
    "    KDTree,\n",
    ")"
   ]
  },
  {
   "cell_type": "code",
   "execution_count": 2,
   "metadata": {
    "collapsed": true
   },
   "outputs": [],
   "source": [
    "df = pd.read_csv(\"../data/shuttle.csv\")"
   ]
  },
  {
   "cell_type": "code",
   "execution_count": 3,
   "metadata": {
    "collapsed": true
   },
   "outputs": [],
   "source": [
    "def estimate_kde_bw(data):\n",
    "    bw = np.std(data, axis=0) * (data.shape[0])**(-1.0/(data.shape[1]+4))\n",
    "    return bw"
   ]
  },
  {
   "cell_type": "code",
   "execution_count": 48,
   "metadata": {
    "collapsed": false
   },
   "outputs": [],
   "source": [
    "stepx = 4\n",
    "stepy = 2\n",
    "xrange = [-52, 80+stepx]\n",
    "yrange = [-4, 80+stepy]"
   ]
  },
  {
   "cell_type": "code",
   "execution_count": 49,
   "metadata": {
    "collapsed": false
   },
   "outputs": [],
   "source": [
    "xe = np.arange(xrange[0],xrange[1],stepx)\n",
    "ye = np.arange(yrange[0],yrange[1],stepy)\n",
    "H, xedges, yedges = np.histogram2d(\n",
    "    df[\"4\"],df[\"6\"], \n",
    "    bins=[xe,ye], \n",
    "    range=[xrange,yrange],\n",
    ")\n",
    "X, Y = np.meshgrid(xedges, yedges)"
   ]
  },
  {
   "cell_type": "code",
   "execution_count": 50,
   "metadata": {
    "collapsed": false
   },
   "outputs": [
    {
     "name": "stderr",
     "output_type": "stream",
     "text": [
      "/usr/local/lib/python3.5/site-packages/matplotlib/pyplot.py:524: RuntimeWarning: More than 20 figures have been opened. Figures created through the pyplot interface (`matplotlib.pyplot.figure`) are retained until explicitly closed and may consume too much memory. (To control this warning, see the rcParam `figure.max_open_warning`).\n",
      "  max_open_warning, RuntimeWarning)\n",
      "/usr/local/lib/python3.5/site-packages/matplotlib/tight_layout.py:222: UserWarning: tight_layout : falling back to Agg renderer\n",
      "  warnings.warn(\"tight_layout : falling back to Agg renderer\")\n"
     ]
    }
   ],
   "source": [
    "fig = plt.figure(figsize=(3,4), dpi=300)\n",
    "plt.pcolor(\n",
    "    X,Y,H.T,\n",
    "    norm=matplotlib.colors.LogNorm(),\n",
    "    edgecolors=\"none\",\n",
    "#     linewidths=.05,\n",
    "    cmap=\"Blues\"\n",
    ")\n",
    "cb = plt.colorbar(orientation=\"horizontal\")\n",
    "cb.set_label(\"bin count\")\n",
    "plt.xlim(*xrange)\n",
    "plt.ylim(*yrange)\n",
    "plt.xlabel(\"A\")\n",
    "plt.ylabel(\"B\")\n",
    "fig.tight_layout()\n",
    "plt.savefig(\"hist2.pdf\")"
   ]
  },
  {
   "cell_type": "code",
   "execution_count": 51,
   "metadata": {
    "collapsed": false
   },
   "outputs": [
    {
     "name": "stderr",
     "output_type": "stream",
     "text": [
      "/usr/local/lib/python3.5/site-packages/matplotlib/pyplot.py:524: RuntimeWarning: More than 20 figures have been opened. Figures created through the pyplot interface (`matplotlib.pyplot.figure`) are retained until explicitly closed and may consume too much memory. (To control this warning, see the rcParam `figure.max_open_warning`).\n",
      "  max_open_warning, RuntimeWarning)\n",
      "/usr/local/lib/python3.5/site-packages/matplotlib/tight_layout.py:222: UserWarning: tight_layout : falling back to Agg renderer\n",
      "  warnings.warn(\"tight_layout : falling back to Agg renderer\")\n"
     ]
    }
   ],
   "source": [
    "fig = plt.figure(figsize=(3,4), dpi=300)\n",
    "plt.imshow(\n",
    "    H.T[::-1,:],\n",
    "    aspect=\"auto\",\n",
    "    norm=matplotlib.colors.LogNorm(),\n",
    "    cmap=\"Blues\",\n",
    "    interpolation=\"nearest\",\n",
    "    extent=(xrange[0],xrange[1],yrange[0],yrange[1])\n",
    ")\n",
    "cb = plt.colorbar(orientation=\"horizontal\")\n",
    "cb.set_label(\"bin count\")\n",
    "# plt.xlim(*xrange)\n",
    "# plt.ylim(*yrange)\n",
    "plt.xlabel(\"A\")\n",
    "plt.ylabel(\"B\")\n",
    "fig.tight_layout()\n",
    "plt.savefig(\"hist3.pdf\")"
   ]
  },
  {
   "cell_type": "code",
   "execution_count": 17,
   "metadata": {
    "collapsed": false
   },
   "outputs": [
    {
     "name": "stderr",
     "output_type": "stream",
     "text": [
      "/usr/local/lib/python3.5/site-packages/matplotlib/tight_layout.py:222: UserWarning: tight_layout : falling back to Agg renderer\n",
      "  warnings.warn(\"tight_layout : falling back to Agg renderer\")\n"
     ]
    }
   ],
   "source": [
    "fig = plt.figure(figsize=(3,4), dpi=300)\n",
    "plt.hist2d(\n",
    "    df[\"4\"],df[\"6\"], \n",
    "    bins=[np.arange(xrange[0],xrange[1]+stepx,stepx),np.arange(yrange[0],yrange[1]+stepy,stepy)], \n",
    "    range=[xrange,yrange],\n",
    "    norm=matplotlib.colors.LogNorm(),\n",
    "    cmap=\"Blues\",\n",
    ")\n",
    "cb = plt.colorbar(orientation=\"horizontal\")\n",
    "cb.set_label(\"bin count\")\n",
    "plt.xlim(*xrange)\n",
    "plt.ylim(*yrange)\n",
    "plt.xlabel(\"A\")\n",
    "plt.ylabel(\"B\")\n",
    "fig.tight_layout()\n",
    "plt.savefig(\"shuttle_hist.pdf\")"
   ]
  },
  {
   "cell_type": "code",
   "execution_count": 115,
   "metadata": {
    "collapsed": false
   },
   "outputs": [
    {
     "name": "stderr",
     "output_type": "stream",
     "text": [
      "/usr/local/lib/python3.5/site-packages/matplotlib/pyplot.py:524: RuntimeWarning: More than 20 figures have been opened. Figures created through the pyplot interface (`matplotlib.pyplot.figure`) are retained until explicitly closed and may consume too much memory. (To control this warning, see the rcParam `figure.max_open_warning`).\n",
      "  max_open_warning, RuntimeWarning)\n",
      "/usr/local/lib/python3.5/site-packages/matplotlib/tight_layout.py:222: UserWarning: tight_layout : falling back to Agg renderer\n",
      "  warnings.warn(\"tight_layout : falling back to Agg renderer\")\n"
     ]
    }
   ],
   "source": [
    "fig = plt.figure(figsize=(3,4), dpi=300)\n",
    "plt.hexbin(\n",
    "    df[[4]], df[[6]], \n",
    "    extent=(-50,80,-5,80), gridsize=(int(30*.8),int(40*.8)), \n",
    "    linewidths=(.2,), norm=matplotlib.colors.LogNorm(), cmap='Greys')\n",
    "cb = plt.colorbar(orientation=\"horizontal\")\n",
    "cb.set_label(\"bin count\")\n",
    "plt.xlim(-50,80)\n",
    "plt.ylim(-5,80)\n",
    "plt.xlabel(\"A4\")\n",
    "plt.ylabel(\"A6\")\n",
    "fig.tight_layout()\n",
    "plt.savefig(\"shuttle_hexbin.pdf\")"
   ]
  },
  {
   "cell_type": "code",
   "execution_count": 7,
   "metadata": {
    "collapsed": false
   },
   "outputs": [
    {
     "name": "stdout",
     "output_type": "stream",
     "text": [
      "[ 3.65966579  2.21493988]\n"
     ]
    },
    {
     "data": {
      "text/plain": [
       "KernelDensity(algorithm='kd_tree', atol=0, bandwidth=0.7, breadth_first=True,\n",
       "       kernel='gaussian', leaf_size=40, metric='euclidean',\n",
       "       metric_params=None, rtol=0.1)"
      ]
     },
     "execution_count": 7,
     "metadata": {},
     "output_type": "execute_result"
    }
   ],
   "source": [
    "bw = estimate_kde_bw(df[[4,6]].values)\n",
    "print(bw)\n",
    "data = df[[4,6]].values/bw\n",
    "tol = .1\n",
    "kde = KernelDensity(\n",
    "    bandwidth=.7,\n",
    "    kernel='gaussian',\n",
    "    algorithm='kd_tree',\n",
    "    rtol=tol,\n",
    ")\n",
    "kde.fit(data)"
   ]
  },
  {
   "cell_type": "code",
   "execution_count": 8,
   "metadata": {
    "collapsed": true
   },
   "outputs": [],
   "source": [
    "x = np.arange(xrange[0],xrange[1],.5)\n",
    "y = np.arange(yrange[0],yrange[1],.5)\n",
    "X,Y = np.meshgrid(x,y,indexing=\"ij\")\n",
    "Z = np.zeros((len(x),len(y)))\n",
    "for i in range(len(x)):\n",
    "    for j in range(len(y)):\n",
    "        Z[i,j]=kde.score_samples([[X[i,j],Y[i,j]]] / bw)[0]"
   ]
  },
  {
   "cell_type": "code",
   "execution_count": 9,
   "metadata": {
    "collapsed": false
   },
   "outputs": [
    {
     "name": "stderr",
     "output_type": "stream",
     "text": [
      "/usr/local/lib/python3.5/site-packages/matplotlib/axes/_axes.py:545: UserWarning: No labelled objects found. Use label='...' kwarg on individual plots.\n",
      "  warnings.warn(\"No labelled objects found. \"\n",
      "/usr/local/lib/python3.5/site-packages/matplotlib/tight_layout.py:222: UserWarning: tight_layout : falling back to Agg renderer\n",
      "  warnings.warn(\"tight_layout : falling back to Agg renderer\")\n"
     ]
    }
   ],
   "source": [
    "fig = plt.figure(figsize=(3,4), dpi=300)\n",
    "cs = plt.contourf(X,Y,np.exp(Z),levels=[0, np.exp(-8.0), 1], colors=['w','C0','k'])\n",
    "cb = plt.colorbar(\n",
    "    orientation=\"horizontal\",\n",
    "    format=\"%.1g\"\n",
    ")\n",
    "cb.set_label(\"density\")\n",
    "plt.legend()\n",
    "plt.xlim(*xrange)\n",
    "plt.ylim(*yrange)\n",
    "plt.xlabel(\"A\")\n",
    "plt.ylabel(\"B\")\n",
    "fig.tight_layout()\n",
    "plt.savefig(\"shuttle_classify.pdf\")"
   ]
  },
  {
   "cell_type": "code",
   "execution_count": null,
   "metadata": {
    "collapsed": true
   },
   "outputs": [],
   "source": []
  }
 ],
 "metadata": {
  "kernelspec": {
   "display_name": "Python 3",
   "language": "python",
   "name": "python3"
  },
  "language_info": {
   "codemirror_mode": {
    "name": "ipython",
    "version": 3
   },
   "file_extension": ".py",
   "mimetype": "text/x-python",
   "name": "python",
   "nbconvert_exporter": "python",
   "pygments_lexer": "ipython3",
   "version": "3.5.2"
  }
 },
 "nbformat": 4,
 "nbformat_minor": 2
}
