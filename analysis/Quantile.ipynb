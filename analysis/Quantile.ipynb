{
 "cells": [
  {
   "cell_type": "code",
   "execution_count": 3,
   "metadata": {
    "collapsed": true
   },
   "outputs": [],
   "source": [
    "import scipy.stats\n",
    "import scipy.misc\n",
    "import numpy as np\n",
    "import math"
   ]
  },
  {
   "cell_type": "code",
   "execution_count": 4,
   "metadata": {
    "collapsed": true
   },
   "outputs": [],
   "source": [
    "def get_endpoints(n, p, alpha):\n",
    "    center = n * p\n",
    "    lower = math.floor(n * p)\n",
    "    upper = math.ceil(n * p)\n",
    "    for x in range(n):\n",
    "        p2 = scipy.stats.binom.cdf(k=upper,n=n,p=p) \n",
    "        p1 = scipy.stats.binom.cdf(k=lower-1,n=n,p=p)\n",
    "        pc = scipy.stats.binom.cdf(k=round(center),n=n,p=p)\n",
    "        prob = p2 - p1\n",
    "#         print(\"{}:{}\".format(pc - p1, p2 - pc))\n",
    "        if (prob > alpha):\n",
    "            return (lower, upper)\n",
    "        else:\n",
    "            lower -= 1\n",
    "            upper += 1"
   ]
  },
  {
   "cell_type": "code",
   "execution_count": 34,
   "metadata": {
    "collapsed": true
   },
   "outputs": [],
   "source": [
    "def my_cdf(n, p, k):\n",
    "    pmass = 0\n",
    "    for i in range(k+1):\n",
    "        pmass += scipy.stats.binom.pmf(i, n, p)\n",
    "    return pmass"
   ]
  },
  {
   "cell_type": "code",
   "execution_count": 35,
   "metadata": {
    "collapsed": false
   },
   "outputs": [
    {
     "data": {
      "text/plain": [
       "0.52656253406483045"
      ]
     },
     "execution_count": 35,
     "metadata": {},
     "output_type": "execute_result"
    }
   ],
   "source": [
    "my_cdf(10000,0.01,100)"
   ]
  },
  {
   "cell_type": "code",
   "execution_count": 5,
   "metadata": {
    "collapsed": false,
    "scrolled": true
   },
   "outputs": [
    {
     "data": {
      "text/plain": [
       "(164, 236)"
      ]
     },
     "execution_count": 5,
     "metadata": {},
     "output_type": "execute_result"
    }
   ],
   "source": [
    "get_endpoints(20000,0.01,.99)"
   ]
  },
  {
   "cell_type": "code",
   "execution_count": 38,
   "metadata": {
    "collapsed": false
   },
   "outputs": [
    {
     "data": {
      "text/plain": [
       "25.620926505495465"
      ]
     },
     "execution_count": 38,
     "metadata": {},
     "output_type": "execute_result"
    }
   ],
   "source": [
    "2.575 * math.sqrt(10000 * 0.01 * (1-0.01))"
   ]
  },
  {
   "cell_type": "code",
   "execution_count": 39,
   "metadata": {
    "collapsed": false
   },
   "outputs": [
    {
     "data": {
      "text/plain": [
       "(2, 18)"
      ]
     },
     "execution_count": 39,
     "metadata": {},
     "output_type": "execute_result"
    }
   ],
   "source": [
    "get_endpoints(1000,0.01,.99)"
   ]
  },
  {
   "cell_type": "code",
   "execution_count": 40,
   "metadata": {
    "collapsed": false
   },
   "outputs": [
    {
     "data": {
      "text/plain": [
       "8.102048352114421"
      ]
     },
     "execution_count": 40,
     "metadata": {},
     "output_type": "execute_result"
    }
   ],
   "source": [
    "2.575 * math.sqrt(1000 * 0.01 * (1-0.01))"
   ]
  },
  {
   "cell_type": "code",
   "execution_count": 52,
   "metadata": {
    "collapsed": false
   },
   "outputs": [
    {
     "data": {
      "text/plain": [
       "(919, 1081)"
      ]
     },
     "execution_count": 52,
     "metadata": {},
     "output_type": "execute_result"
    }
   ],
   "source": [
    "get_endpoints(100000,0.01,.99)"
   ]
  },
  {
   "cell_type": "markdown",
   "metadata": {
    "collapsed": true
   },
   "source": [
    "# Test Quantile"
   ]
  },
  {
   "cell_type": "code",
   "execution_count": 1,
   "metadata": {
    "collapsed": true
   },
   "outputs": [],
   "source": [
    "import pandas as pd"
   ]
  },
  {
   "cell_type": "code",
   "execution_count": 7,
   "metadata": {
    "collapsed": true
   },
   "outputs": [],
   "source": [
    "df = pd.read_csv(\n",
    "    \"~/Documents/Projects/tKDE/experiments/simplekde/scores/simple_energy_d4_10k.csv\",\n",
    "    header=None\n",
    ")"
   ]
  },
  {
   "cell_type": "code",
   "execution_count": 12,
   "metadata": {
    "collapsed": false
   },
   "outputs": [],
   "source": [
    "ordered = np.sort(df[0].values)"
   ]
  },
  {
   "cell_type": "code",
   "execution_count": 15,
   "metadata": {
    "collapsed": false
   },
   "outputs": [
    {
     "data": {
      "text/plain": [
       "array([  1.90063355e-10,   1.96368824e-10,   2.06077111e-10,\n",
       "         2.06176948e-10,   2.06922918e-10,   2.07538560e-10,\n",
       "         2.08476514e-10,   2.11031122e-10,   2.12097066e-10,\n",
       "         2.15216217e-10,   2.15360323e-10,   2.17107882e-10,\n",
       "         2.21957567e-10,   2.22984334e-10,   2.23138565e-10,\n",
       "         2.23717670e-10,   2.25535797e-10,   2.27035251e-10,\n",
       "         2.30055951e-10,   2.31387827e-10,   2.31738569e-10,\n",
       "         2.32723609e-10,   2.32944185e-10,   2.34020298e-10,\n",
       "         2.34406101e-10,   2.34467494e-10,   2.36045922e-10,\n",
       "         2.40004063e-10,   2.44977943e-10,   2.46804261e-10,\n",
       "         2.46929026e-10,   2.47090765e-10,   2.47322559e-10,\n",
       "         2.53963915e-10,   2.56312063e-10,   2.59026286e-10,\n",
       "         2.60141324e-10,   2.62914248e-10,   2.64440956e-10,\n",
       "         2.66923614e-10,   2.67568823e-10,   2.71729194e-10,\n",
       "         2.73520819e-10,   2.74195569e-10,   2.76171286e-10,\n",
       "         2.80560823e-10,   2.82059708e-10,   2.82206448e-10,\n",
       "         2.84590045e-10,   2.84819760e-10,   2.85048813e-10,\n",
       "         2.86082098e-10])"
      ]
     },
     "execution_count": 15,
     "metadata": {},
     "output_type": "execute_result"
    }
   ],
   "source": [
    "ordered[73:125]"
   ]
  },
  {
   "cell_type": "code",
   "execution_count": 23,
   "metadata": {
    "collapsed": false
   },
   "outputs": [
    {
     "data": {
      "text/plain": [
       "0.015174271293851465"
      ]
     },
     "execution_count": 23,
     "metadata": {},
     "output_type": "execute_result"
    }
   ],
   "source": [
    "math.sqrt(1/(2*10000) * math.log(1/0.01))"
   ]
  },
  {
   "cell_type": "code",
   "execution_count": 24,
   "metadata": {
    "collapsed": false
   },
   "outputs": [
    {
     "data": {
      "text/plain": [
       "4.252581500589978e-10"
      ]
     },
     "execution_count": 24,
     "metadata": {},
     "output_type": "execute_result"
    }
   ],
   "source": [
    "ordered[250]"
   ]
  },
  {
   "cell_type": "code",
   "execution_count": null,
   "metadata": {
    "collapsed": true
   },
   "outputs": [],
   "source": []
  }
 ],
 "metadata": {
  "kernelspec": {
   "display_name": "Python 3",
   "language": "python",
   "name": "python3"
  },
  "language_info": {
   "codemirror_mode": {
    "name": "ipython",
    "version": 3
   },
   "file_extension": ".py",
   "mimetype": "text/x-python",
   "name": "python",
   "nbconvert_exporter": "python",
   "pygments_lexer": "ipython3",
   "version": "3.5.2"
  }
 },
 "nbformat": 4,
 "nbformat_minor": 0
}
