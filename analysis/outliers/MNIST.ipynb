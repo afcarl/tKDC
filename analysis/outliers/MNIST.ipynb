{
 "cells": [
  {
   "cell_type": "code",
   "execution_count": 1,
   "metadata": {
    "collapsed": false
   },
   "outputs": [],
   "source": [
    "%matplotlib inline\n",
    "import numpy as np\n",
    "import sklearn\n",
    "import scipy.stats\n",
    "import matplotlib\n",
    "import matplotlib.pyplot as plt\n",
    "import timeit\n",
    "import pandas as pd\n",
    "import math\n",
    "import itertools\n",
    "import time\n",
    "\n",
    "import sklearn.neighbors\n",
    "from sklearn.neighbors import (\n",
    "    KernelDensity,\n",
    "    KDTree,\n",
    ")\n",
    "from sklearn.preprocessing import (\n",
    "    RobustScaler\n",
    ")\n",
    "import sklearn.decomposition\n",
    "import sklearn.covariance"
   ]
  },
  {
   "cell_type": "code",
   "execution_count": 2,
   "metadata": {
    "collapsed": true
   },
   "outputs": [],
   "source": [
    "df = pd.read_csv(\n",
    "    \"../rawdata/mnist_train.csv\",\n",
    "    header=None,\n",
    ").rename(\n",
    "    columns={0: \"label\"}\n",
    ")"
   ]
  },
  {
   "cell_type": "code",
   "execution_count": 13,
   "metadata": {
    "collapsed": false
   },
   "outputs": [
    {
     "name": "stdout",
     "output_type": "stream",
     "text": [
      "54077\n",
      "5923\n",
      "5973\n"
     ]
    }
   ],
   "source": [
    "np.random.seed(0)\n",
    "nonzeroes = df[df.label > 0].values[:,1:785]\n",
    "zeroes = df[df.label == 0].values[:,1:785]\n",
    "np.random.shuffle(nonzeroes)\n",
    "np.random.shuffle(zeroes)\n",
    "sz = zeroes[:50]\n",
    "snz = nonzeroes[:50]\n",
    "print(len(nonzeroes))\n",
    "print(len(zeroes))\n",
    "\n",
    "combined = np.vstack([zeroes,snz])\n",
    "print(len(combined))\n",
    "real_outliers = np.concatenate([\n",
    "        np.zeros(len(zeroes), dtype=bool),\n",
    "        np.ones(len(snz), dtype=bool)\n",
    "    ])"
   ]
  },
  {
   "cell_type": "code",
   "execution_count": 4,
   "metadata": {
    "collapsed": true
   },
   "outputs": [],
   "source": [
    "def estimate_kde_bw(data):\n",
    "    q3 = np.percentile(data, 75, axis=0)\n",
    "    q1 = np.percentile(data, 25, axis=0)\n",
    "    iqr = q3 - q1\n",
    "    bw = iqr * (data.shape[0])**(-1.0/(data.shape[1]+4))\n",
    "    return bw"
   ]
  },
  {
   "cell_type": "code",
   "execution_count": 5,
   "metadata": {
    "collapsed": true
   },
   "outputs": [],
   "source": [
    "def eval_scores(scores, true_outliers):\n",
    "    cutoff = np.percentile(scores, 99)\n",
    "    outliers = scores > cutoff\n",
    "    both = sum(np.logical_and(outliers,true_outliers))\n",
    "    predict = sum(outliers)\n",
    "    actual = sum(true_outliers)\n",
    "    print(\"{}/{},{}\".format(both, predict, actual))\n",
    "    return outliers"
   ]
  },
  {
   "cell_type": "code",
   "execution_count": 12,
   "metadata": {
    "collapsed": false
   },
   "outputs": [],
   "source": [
    "pca = sklearn.decomposition.PCA(\n",
    "    n_components = 15,\n",
    "    random_state = 0,\n",
    "    svd_solver='randomized'\n",
    ").fit(df.values[:,1:785])"
   ]
  },
  {
   "cell_type": "code",
   "execution_count": 14,
   "metadata": {
    "collapsed": false
   },
   "outputs": [
    {
     "data": {
      "text/plain": [
       "(5973, 15)"
      ]
     },
     "execution_count": 14,
     "metadata": {},
     "output_type": "execute_result"
    }
   ],
   "source": [
    "rdata = pca.transform(combined)\n",
    "rdata.shape"
   ]
  },
  {
   "cell_type": "markdown",
   "metadata": {},
   "source": [
    "# Covariance"
   ]
  },
  {
   "cell_type": "code",
   "execution_count": 15,
   "metadata": {
    "collapsed": false
   },
   "outputs": [
    {
     "name": "stdout",
     "output_type": "stream",
     "text": [
      "34/60,50\n"
     ]
    }
   ],
   "source": [
    "mcd = sklearn.covariance.EmpiricalCovariance(\n",
    ")\n",
    "mcd.fit(rdata)\n",
    "mcd_scores = mcd.mahalanobis(rdata)\n",
    "outliers = eval_scores(mcd_scores, real_outliers)"
   ]
  },
  {
   "cell_type": "markdown",
   "metadata": {},
   "source": [
    "# KN"
   ]
  },
  {
   "cell_type": "code",
   "execution_count": 16,
   "metadata": {
    "collapsed": false
   },
   "outputs": [],
   "source": [
    "tree = KDTree(\n",
    "    rdata\n",
    ")"
   ]
  },
  {
   "cell_type": "code",
   "execution_count": 22,
   "metadata": {
    "collapsed": false
   },
   "outputs": [
    {
     "name": "stdout",
     "output_type": "stream",
     "text": [
      "35/60,50\n"
     ]
    }
   ],
   "source": [
    "k=3\n",
    "distances, _ = tree.query(rdata, k=k)\n",
    "knndistances = distances[:,k-1]\n",
    "outliers = eval_scores(knndistances, real_outliers)"
   ]
  },
  {
   "cell_type": "code",
   "execution_count": null,
   "metadata": {
    "collapsed": true
   },
   "outputs": [],
   "source": []
  }
 ],
 "metadata": {
  "kernelspec": {
   "display_name": "Python 3",
   "language": "python",
   "name": "python3"
  },
  "language_info": {
   "codemirror_mode": {
    "name": "ipython",
    "version": 3
   },
   "file_extension": ".py",
   "mimetype": "text/x-python",
   "name": "python",
   "nbconvert_exporter": "python",
   "pygments_lexer": "ipython3",
   "version": "3.5.2"
  }
 },
 "nbformat": 4,
 "nbformat_minor": 1
}
