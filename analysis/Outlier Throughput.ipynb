{
 "cells": [
  {
   "cell_type": "code",
   "execution_count": 1,
   "metadata": {
    "collapsed": true
   },
   "outputs": [],
   "source": [
    "%matplotlib inline\n",
    "import numpy as np\n",
    "import sklearn\n",
    "import scipy.stats\n",
    "import matplotlib\n",
    "import matplotlib.pyplot as plt\n",
    "import timeit\n",
    "import pandas as pd\n",
    "import math\n",
    "import itertools\n",
    "import time\n",
    "\n",
    "import sklearn.neighbors\n",
    "from sklearn.neighbors import (\n",
    "    KernelDensity,\n",
    "    KDTree,\n",
    ")\n",
    "from sklearn.preprocessing import (\n",
    "    RobustScaler\n",
    ")\n",
    "import sklearn.decomposition\n",
    "import sklearn.covariance\n",
    "import sklearn.mixture\n",
    "import sklearn.svm"
   ]
  },
  {
   "cell_type": "code",
   "execution_count": 2,
   "metadata": {
    "collapsed": true
   },
   "outputs": [],
   "source": [
    "df = pd.read_csv(\"../data/home_sensor.csv\")"
   ]
  },
  {
   "cell_type": "code",
   "execution_count": 14,
   "metadata": {
    "collapsed": false
   },
   "outputs": [],
   "source": [
    "values = df[list(range(3,7))].head(500000)"
   ]
  },
  {
   "cell_type": "code",
   "execution_count": 18,
   "metadata": {
    "collapsed": true
   },
   "outputs": [],
   "source": [
    "def estimate_kde_bw(data):\n",
    "    q3 = np.percentile(data, 75, axis=0)\n",
    "    q1 = np.percentile(data, 25, axis=0)\n",
    "    iqr = q3 - q1\n",
    "    bw = iqr * (data.shape[0])**(-1.0/(data.shape[1]+4))\n",
    "    return bw"
   ]
  },
  {
   "cell_type": "code",
   "execution_count": 19,
   "metadata": {
    "collapsed": true
   },
   "outputs": [],
   "source": [
    "bw = estimate_kde_bw(values)\n",
    "norm_data = values / bw"
   ]
  },
  {
   "cell_type": "markdown",
   "metadata": {},
   "source": [
    "# GMM"
   ]
  },
  {
   "cell_type": "code",
   "execution_count": 10,
   "metadata": {
    "collapsed": true
   },
   "outputs": [],
   "source": [
    "def calc_gmm(k, data):\n",
    "    gmm = sklearn.mixture.GaussianMixture(\n",
    "        n_components=k,\n",
    "        covariance_type=\"diag\",\n",
    "        random_state=0,\n",
    "    )\n",
    "    gmm.fit(data)\n",
    "    gmm_scores = gmm.score_samples(data)\n",
    "    return gmm_scores"
   ]
  },
  {
   "cell_type": "code",
   "execution_count": 15,
   "metadata": {
    "collapsed": false
   },
   "outputs": [
    {
     "name": "stdout",
     "output_type": "stream",
     "text": [
      "17.687546968460083\n"
     ]
    }
   ],
   "source": [
    "t = time.time()\n",
    "calc_gmm(10,values)\n",
    "print(time.time() - t)"
   ]
  },
  {
   "cell_type": "markdown",
   "metadata": {},
   "source": [
    "# OCSVM"
   ]
  },
  {
   "cell_type": "code",
   "execution_count": 17,
   "metadata": {
    "collapsed": true
   },
   "outputs": [],
   "source": [
    "def calc_svm(nu, gamma, data):\n",
    "    svm = sklearn.svm.OneClassSVM(nu=nu,kernel=\"rbf\",gamma=gamma)\n",
    "    svm.fit(data)\n",
    "    scores = svm.decision_function(data)"
   ]
  },
  {
   "cell_type": "code",
   "execution_count": 22,
   "metadata": {
    "collapsed": true
   },
   "outputs": [],
   "source": [
    "t = time.time()\n",
    "calc_svm(0.01, 1, norm_data.iloc[:100000])"
   ]
  },
  {
   "cell_type": "code",
   "execution_count": null,
   "metadata": {
    "collapsed": true
   },
   "outputs": [],
   "source": []
  }
 ],
 "metadata": {
  "kernelspec": {
   "display_name": "Python 3",
   "language": "python",
   "name": "python3"
  },
  "language_info": {
   "codemirror_mode": {
    "name": "ipython",
    "version": 3
   },
   "file_extension": ".py",
   "mimetype": "text/x-python",
   "name": "python",
   "nbconvert_exporter": "python",
   "pygments_lexer": "ipython3",
   "version": "3.5.2"
  }
 },
 "nbformat": 4,
 "nbformat_minor": 1
}
