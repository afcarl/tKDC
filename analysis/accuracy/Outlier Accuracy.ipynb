{
 "cells": [
  {
   "cell_type": "code",
   "execution_count": 1,
   "metadata": {
    "collapsed": true
   },
   "outputs": [],
   "source": [
    "%matplotlib inline"
   ]
  },
  {
   "cell_type": "code",
   "execution_count": 2,
   "metadata": {
    "collapsed": true
   },
   "outputs": [],
   "source": [
    "import numpy as np\n",
    "import sklearn\n",
    "import scipy.stats\n",
    "import matplotlib\n",
    "import matplotlib.pyplot as plt\n",
    "import timeit\n",
    "import pandas as pd\n",
    "import math\n",
    "import itertools\n",
    "import time\n",
    "import pickle\n",
    "\n",
    "from sklearn.neighbors import (\n",
    "    KernelDensity,\n",
    "    KDTree,\n",
    ")\n",
    "from sklearn.preprocessing import (\n",
    "    RobustScaler\n",
    ")"
   ]
  },
  {
   "cell_type": "code",
   "execution_count": 12,
   "metadata": {
    "collapsed": false
   },
   "outputs": [],
   "source": [
    "expdir = \"../../experiments/smallacc\"\n",
    "datasets = [\n",
    "    \"energy_d2\",\n",
    "    \"energy_d4\",\n",
    "    \"energy_d8\",\n",
    "    \"home_d2\",\n",
    "    \"home_d4\",\n",
    "    \"home_d8\",\n",
    "    \"shuttle_d2\",\n",
    "    \"shuttle_d4\",\n",
    "    \"shuttle_d7\"\n",
    "]\n",
    "algorithms = {\n",
    "    \"ks_binned\": (\"ks\", \"bTRUE\"),\n",
    "    \"ks_unbinned\": (\"ks\", \"bFALSE\"),\n",
    "    \"sklearn_t0\": (\"sklearn\", \"t0.0\"),\n",
    "    \"sklearn_t1\": (\"sklearn\", \"t0.1\"),\n",
    "    \"tkde\": (\"tkde\", None)\n",
    "}\n",
    "csvs = {k: {d:None for d in datasets} for k in algorithms.keys()}"
   ]
  },
  {
   "cell_type": "code",
   "execution_count": 48,
   "metadata": {
    "collapsed": false
   },
   "outputs": [],
   "source": [
    "for k,v in algorithms.items():\n",
    "    prefix = v[0]\n",
    "    suffix = v[1]\n",
    "    for d in datasets:\n",
    "        if suffix is not None:\n",
    "            path = \"{expdir}/{prefix}/scores/{dataset}_{suffix}.csv\".format(\n",
    "                expdir=expdir,\n",
    "                prefix=prefix,\n",
    "                dataset=d,\n",
    "                suffix=v[1]\n",
    "            )\n",
    "        else:\n",
    "            path = \"{expdir}/{prefix}/scores/{dataset}.csv\".format(\n",
    "                expdir=expdir,\n",
    "                prefix=prefix,\n",
    "                dataset=d\n",
    "            )\n",
    "        if prefix == \"ks\":\n",
    "            if \"d8\" in d or \"d7\" in d:\n",
    "                data = None\n",
    "            else:\n",
    "                data = pd.read_csv(path).iloc[:,1]\n",
    "        else:\n",
    "            data = pd.read_csv(path).iloc[:,0]\n",
    "        csvs[k][d] = data"
   ]
  },
  {
   "cell_type": "code",
   "execution_count": 108,
   "metadata": {
    "collapsed": false
   },
   "outputs": [],
   "source": [
    "def compare(d1, d2):\n",
    "    if d2 is None:\n",
    "        return None\n",
    "    assert(len(d1) == len(d2))\n",
    "    d1q = np.percentile(d1, 1.0)\n",
    "    d2q = np.percentile(d2, 1.0)\n",
    "    d1o = d1 < d1q\n",
    "    d2o = d2 < d2q\n",
    "    return (np.sum(d1o & d2o) / np.sum(d1o))"
   ]
  },
  {
   "cell_type": "code",
   "execution_count": 109,
   "metadata": {
    "collapsed": false
   },
   "outputs": [],
   "source": [
    "base = csvs[\"sklearn_t0\"]"
   ]
  },
  {
   "cell_type": "code",
   "execution_count": 119,
   "metadata": {
    "collapsed": false
   },
   "outputs": [],
   "source": [
    "rows = []\n",
    "for alg in algorithms.keys():\n",
    "    for d in datasets:\n",
    "        uloc = d.rfind(\"_\")\n",
    "        rows.append({\n",
    "                \"data\": d[:uloc],\n",
    "                \"dim\": int(d[uloc+2:]),\n",
    "                \"dataset\": d,\n",
    "                \"alg\": alg,\n",
    "                \"recall\": compare(base[d], csvs[alg][d]),\n",
    "            })"
   ]
  },
  {
   "cell_type": "code",
   "execution_count": 120,
   "metadata": {
    "collapsed": false
   },
   "outputs": [],
   "source": [
    "df = pd.DataFrame(rows)\n",
    "columnsTitles = [\"data\", \"dim\", \"dataset\", \"alg\", \"recall\"]\n",
    "df = df.reindex(columns = columnsTitles)"
   ]
  },
  {
   "cell_type": "code",
   "execution_count": 121,
   "metadata": {
    "collapsed": false
   },
   "outputs": [],
   "source": [
    "df.to_csv(\"../results/rawacc.csv\", index=False)"
   ]
  },
  {
   "cell_type": "code",
   "execution_count": null,
   "metadata": {
    "collapsed": true
   },
   "outputs": [],
   "source": []
  }
 ],
 "metadata": {
  "kernelspec": {
   "display_name": "Python 3",
   "language": "python",
   "name": "python3"
  },
  "language_info": {
   "codemirror_mode": {
    "name": "ipython",
    "version": 3
   },
   "file_extension": ".py",
   "mimetype": "text/x-python",
   "name": "python",
   "nbconvert_exporter": "python",
   "pygments_lexer": "ipython3",
   "version": "3.5.2"
  }
 },
 "nbformat": 4,
 "nbformat_minor": 0
}
