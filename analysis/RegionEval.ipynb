{
 "cells": [
  {
   "cell_type": "code",
   "execution_count": 1,
   "metadata": {
    "collapsed": true
   },
   "outputs": [],
   "source": [
    "import numpy as np\n",
    "import sklearn\n",
    "import scipy.stats\n",
    "import matplotlib\n",
    "matplotlib.use('PDF')\n",
    "%matplotlib inline\n",
    "import matplotlib.pyplot as plt\n",
    "import timeit\n",
    "import pandas as pd\n",
    "import math\n",
    "import itertools\n",
    "import time\n",
    "\n",
    "import sklearn.neighbors\n",
    "from sklearn.neighbors import (\n",
    "    KernelDensity,\n",
    "    KDTree,\n",
    ")"
   ]
  },
  {
   "cell_type": "code",
   "execution_count": 2,
   "metadata": {
    "collapsed": true
   },
   "outputs": [],
   "source": [
    "d = 4\n",
    "mu = np.zeros(d)\n",
    "cov = np.identity(d)"
   ]
  },
  {
   "cell_type": "code",
   "execution_count": 4,
   "metadata": {
    "collapsed": true
   },
   "outputs": [],
   "source": [
    "rv = scipy.stats.multivariate_normal(mu, cov)\n",
    "samples = rv.rvs(size=10000000)\n",
    "s_pdfs = rv.pdf(samples)\n",
    "q_p = np.percentile(s_pdfs, 10)\n",
    "n = 100000"
   ]
  },
  {
   "cell_type": "code",
   "execution_count": 20,
   "metadata": {
    "collapsed": false
   },
   "outputs": [],
   "source": [
    "xs = np.arange(-2.5,2.5,0.5)\n",
    "grid_points = []\n",
    "for x1 in xs:\n",
    "    for x2 in xs:\n",
    "        for x3 in xs:\n",
    "            for x4 in xs:\n",
    "                grid_points.append(np.array([x1,x2,x3,x4]))\n",
    "score_samples = np.array(grid_points)"
   ]
  },
  {
   "cell_type": "code",
   "execution_count": 21,
   "metadata": {
    "collapsed": true
   },
   "outputs": [],
   "source": [
    "score_pdfs = rv.pdf(score_points)"
   ]
  },
  {
   "cell_type": "code",
   "execution_count": 22,
   "metadata": {
    "collapsed": true
   },
   "outputs": [],
   "source": [
    "def eval(t, pdfs):\n",
    "    predict = pdfs < t\n",
    "    true = score_pdfs[:m] < t\n",
    "    both = predict & true\n",
    "    return (np.sum(both), np.sum(predict), np.sum(true))"
   ]
  },
  {
   "cell_type": "markdown",
   "metadata": {},
   "source": [
    "# KDE"
   ]
  },
  {
   "cell_type": "code",
   "execution_count": 5,
   "metadata": {
    "collapsed": false
   },
   "outputs": [
    {
     "data": {
      "text/plain": [
       "0.26591479484724945"
      ]
     },
     "execution_count": 5,
     "metadata": {},
     "output_type": "execute_result"
    }
   ],
   "source": [
    "bw = (4/(d+4))**(1/(d+4)) * m ** (-1.0/(d+4))\n",
    "bw"
   ]
  },
  {
   "cell_type": "code",
   "execution_count": 24,
   "metadata": {
    "collapsed": false,
    "scrolled": true
   },
   "outputs": [
    {
     "name": "stdout",
     "output_type": "stream",
     "text": [
      "9.19682472196e-08\n",
      "(5123, 5172, 5283)\n"
     ]
    }
   ],
   "source": [
    "kde = KernelDensity(\n",
    "    bandwidth=bw,\n",
    "    kernel='gaussian',\n",
    "    algorithm='kd_tree',\n",
    "    rtol=1e-3,\n",
    ")\n",
    "kde.fit(samples[:n])\n",
    "kde_scores = kde.score_samples(score_samples)\n",
    "kde_pdfs = np.exp(kde_scores)\n",
    "kde_deltas = kde_pdfs-score_pdfs\n",
    "print((np.mean(kde_deltas**2)))\n",
    "print(eval(q_p, kde_pdfs))"
   ]
  },
  {
   "cell_type": "code",
   "execution_count": 25,
   "metadata": {
    "collapsed": false
   },
   "outputs": [
    {
     "name": "stdout",
     "output_type": "stream",
     "text": [
      "9.70259515685e-07\n",
      "(4776, 5736, 5283)\n"
     ]
    }
   ],
   "source": [
    "kde = KernelDensity(\n",
    "    bandwidth=.1,\n",
    "    kernel='gaussian',\n",
    "    algorithm='kd_tree',\n",
    "    rtol=1e-3,\n",
    ")\n",
    "kde.fit(samples[:n])\n",
    "kde_scores = kde.score_samples(score_samples)\n",
    "kde_pdfs = np.exp(kde_scores)\n",
    "kde_deltas = kde_pdfs-score_pdfs\n",
    "print((np.mean(kde_deltas**2)))\n",
    "print(eval(q_p, kde_pdfs))"
   ]
  },
  {
   "cell_type": "code",
   "execution_count": 26,
   "metadata": {
    "collapsed": false
   },
   "outputs": [
    {
     "name": "stdout",
     "output_type": "stream",
     "text": [
      "3.0126117406e-07\n",
      "(4935, 4935, 5283)\n"
     ]
    }
   ],
   "source": [
    "kde = KernelDensity(\n",
    "    bandwidth=.4,\n",
    "    kernel='gaussian',\n",
    "    algorithm='kd_tree',\n",
    "    rtol=1e-3,\n",
    ")\n",
    "kde.fit(samples[:n])\n",
    "kde_scores = kde.score_samples(score_samples)\n",
    "kde_pdfs = np.exp(kde_scores)\n",
    "kde_deltas = kde_pdfs-score_pdfs\n",
    "print((np.mean(kde_deltas**2)))\n",
    "print(eval(q_p, kde_pdfs))"
   ]
  },
  {
   "cell_type": "markdown",
   "metadata": {},
   "source": [
    "# Histogram"
   ]
  },
  {
   "cell_type": "code",
   "execution_count": 45,
   "metadata": {
    "collapsed": false,
    "scrolled": true
   },
   "outputs": [
    {
     "data": {
      "text/plain": [
       "0.5137297436677244"
      ]
     },
     "execution_count": 45,
     "metadata": {},
     "output_type": "execute_result"
    }
   ],
   "source": [
    "bw = 3.5 * 1 * (n) ** (-1.0/(2+d))\n",
    "bw"
   ]
  },
  {
   "cell_type": "code",
   "execution_count": 46,
   "metadata": {
    "collapsed": true
   },
   "outputs": [],
   "source": [
    "def calc_hist(bdelta):\n",
    "    bins_1d = np.arange(-4, 4.1, bdelta)\n",
    "    bins = np.array([bins_1d] * d)\n",
    "    def to_bin(x):\n",
    "        idxs = np.searchsorted(bins_1d, x)\n",
    "        return np.minimum(np.maximum(idxs,0),len(bins_1d)-2)\n",
    "    H, edges = np.histogramdd(samples[:n], bins=bins, normed=True)\n",
    "    hist_scores = [\n",
    "        H[tuple(to_bin(cursample))] for cursample in score_samples[:m]\n",
    "    ]\n",
    "    return hist_scores"
   ]
  },
  {
   "cell_type": "code",
   "execution_count": 47,
   "metadata": {
    "collapsed": false
   },
   "outputs": [
    {
     "name": "stdout",
     "output_type": "stream",
     "text": [
      "1.45248185195e-06\n",
      "(4587, 5339, 5283)\n"
     ]
    }
   ],
   "source": [
    "hist_scores = calc_hist(0.5)\n",
    "deltas = hist_scores-score_pdfs[:m]\n",
    "print((np.mean(deltas**2)))\n",
    "print(eval(q_p, hist_scores))"
   ]
  },
  {
   "cell_type": "code",
   "execution_count": 48,
   "metadata": {
    "collapsed": false
   },
   "outputs": [
    {
     "name": "stdout",
     "output_type": "stream",
     "text": [
      "4.40642547093e-06\n",
      "(4330, 5896, 5283)\n"
     ]
    }
   ],
   "source": [
    "hist_scores = calc_hist(0.3)\n",
    "deltas = hist_scores-score_pdfs[:m]\n",
    "print((np.mean(deltas**2)))\n",
    "print(eval(q_p, hist_scores))"
   ]
  },
  {
   "cell_type": "code",
   "execution_count": 49,
   "metadata": {
    "collapsed": false
   },
   "outputs": [
    {
     "name": "stdout",
     "output_type": "stream",
     "text": [
      "7.90726644216e-06\n",
      "(3690, 5508, 5283)\n"
     ]
    }
   ],
   "source": [
    "hist_scores = calc_hist(0.7)\n",
    "deltas = hist_scores-score_pdfs[:m]\n",
    "print((np.mean(deltas**2)))\n",
    "print(eval(q_p, hist_scores))"
   ]
  },
  {
   "cell_type": "markdown",
   "metadata": {},
   "source": [
    "# KNN"
   ]
  },
  {
   "cell_type": "code",
   "execution_count": 27,
   "metadata": {
    "collapsed": false
   },
   "outputs": [
    {
     "data": {
      "text/plain": [
       "316.22776601683796"
      ]
     },
     "execution_count": 27,
     "metadata": {},
     "output_type": "execute_result"
    }
   ],
   "source": [
    "bk = n ** (4/(4+d))\n",
    "bk"
   ]
  },
  {
   "cell_type": "code",
   "execution_count": 28,
   "metadata": {
    "collapsed": true
   },
   "outputs": [],
   "source": [
    "import scipy.special\n",
    "def vol_sphere(n,r):\n",
    "    return (math.pi)**(n/2)/(scipy.special.gamma(n/2+1)) * r**n\n",
    "vsphere = vol_sphere(4,1)\n",
    "tree = KDTree(samples[:n])"
   ]
  },
  {
   "cell_type": "code",
   "execution_count": 29,
   "metadata": {
    "collapsed": true
   },
   "outputs": [],
   "source": [
    "def calc_knn(k):\n",
    "    distances, _ = tree.query(score_samples[:m], k=k)\n",
    "    knndistances = distances[:,k-1]\n",
    "    knn_scores = (k/n) / (vsphere * np.power(knndistances, d))\n",
    "    return knn_scores"
   ]
  },
  {
   "cell_type": "code",
   "execution_count": 52,
   "metadata": {
    "collapsed": false
   },
   "outputs": [
    {
     "name": "stdout",
     "output_type": "stream",
     "text": [
      "6.46581544256e-08\n",
      "(4812, 4812, 5283)\n"
     ]
    }
   ],
   "source": [
    "knn_scores = calc_knn(316)\n",
    "knn_deltas = knn_scores-score_pdfs[:m]\n",
    "print((np.mean(knn_deltas**2)))\n",
    "print(eval(q_p, knn_scores))"
   ]
  },
  {
   "cell_type": "code",
   "execution_count": 43,
   "metadata": {
    "collapsed": false
   },
   "outputs": [
    {
     "name": "stdout",
     "output_type": "stream",
     "text": [
      "2.45208613925e-07\n",
      "(5120, 5155, 5283)\n"
     ]
    }
   ],
   "source": [
    "knn_scores = calc_knn(50)\n",
    "knn_deltas = knn_scores-score_pdfs[:m]\n",
    "print((np.mean(knn_deltas**2)))\n",
    "print(eval(q_p, knn_scores))"
   ]
  },
  {
   "cell_type": "code",
   "execution_count": 44,
   "metadata": {
    "collapsed": false
   },
   "outputs": [
    {
     "name": "stdout",
     "output_type": "stream",
     "text": [
      "1.05043666337e-07\n",
      "(4300, 4300, 5283)\n"
     ]
    }
   ],
   "source": [
    "knn_scores = calc_knn(1000)\n",
    "knn_deltas = knn_scores-score_pdfs[:m]\n",
    "print((np.mean(knn_deltas**2)))\n",
    "print(eval(q_p, knn_scores))"
   ]
  },
  {
   "cell_type": "code",
   "execution_count": null,
   "metadata": {
    "collapsed": true
   },
   "outputs": [],
   "source": []
  }
 ],
 "metadata": {
  "kernelspec": {
   "display_name": "Python 3",
   "language": "python",
   "name": "python3"
  },
  "language_info": {
   "codemirror_mode": {
    "name": "ipython",
    "version": 3
   },
   "file_extension": ".py",
   "mimetype": "text/x-python",
   "name": "python",
   "nbconvert_exporter": "python",
   "pygments_lexer": "ipython3",
   "version": "3.5.2"
  }
 },
 "nbformat": 4,
 "nbformat_minor": 1
}
