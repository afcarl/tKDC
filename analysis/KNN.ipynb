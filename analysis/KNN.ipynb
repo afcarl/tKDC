{
 "cells": [
  {
   "cell_type": "code",
   "execution_count": 1,
   "metadata": {
    "collapsed": true
   },
   "outputs": [],
   "source": [
    "%matplotlib inline\n",
    "import numpy as np\n",
    "import sklearn\n",
    "import scipy.stats\n",
    "import matplotlib\n",
    "import matplotlib.pyplot as plt\n",
    "import timeit\n",
    "import pandas as pd\n",
    "import math\n",
    "import itertools\n",
    "import time\n",
    "import pickle\n",
    "\n",
    "from sklearn.neighbors import (\n",
    "    KernelDensity,\n",
    "    KDTree,\n",
    ")\n",
    "from sklearn.preprocessing import (\n",
    "    RobustScaler\n",
    ")"
   ]
  },
  {
   "cell_type": "code",
   "execution_count": 2,
   "metadata": {
    "collapsed": true
   },
   "outputs": [],
   "source": [
    "def estimate_kde_bw(data):\n",
    "    q3 = np.percentile(data, 75, axis=0)\n",
    "    q1 = np.percentile(data, 25, axis=0)\n",
    "    iqr = q3 - q1\n",
    "    bw = iqr * (data.shape[0])**(-1.0/(data.shape[1]+4))\n",
    "    return bw\n",
    "def get_scores(data, numScore=None, k=10, bw=None):\n",
    "    print(\"Starting\", flush=True)\n",
    "    trainstart = time.time()\n",
    "    if bw is None:\n",
    "        bw = estimate_kde_bw(data)\n",
    "    if numScore is None:\n",
    "        numScore = len(data)\n",
    "    print(\"BW calculated {}\".format(bw), flush=True)\n",
    "    scaled_data = data / bw\n",
    "    \n",
    "    # Normalized Computations\n",
    "    kdtree = KDTree(scaled_data)\n",
    "    print(\"Trained\", flush=True)\n",
    "    print(\"Trained in {}\".format(time.time()-trainstart), flush=True)\n",
    "    scorestart = time.time()\n",
    "    scores,_ = kdtree.query(\n",
    "        scaled_data[:numScore],\n",
    "        k=k,\n",
    "        dualtree=True\n",
    "    )\n",
    "    \n",
    "    print(\"Scored {}\".format(numScore), flush=True)\n",
    "    print(\"Scored in {}\".format(time.time()-scorestart), flush=True)\n",
    "        \n",
    "    # Denormalize\n",
    "    return scores[:,k-1]\n"
   ]
  },
  {
   "cell_type": "code",
   "execution_count": 3,
   "metadata": {
    "collapsed": true
   },
   "outputs": [],
   "source": [
    "energy = pd.read_csv(\"../data/us_energy_1p0_metrics.csv\")"
   ]
  },
  {
   "cell_type": "code",
   "execution_count": 7,
   "metadata": {
    "collapsed": true
   },
   "outputs": [],
   "source": [
    "home = pd.read_csv(\"../data/home_sensor.csv\")"
   ]
  },
  {
   "cell_type": "code",
   "execution_count": 11,
   "metadata": {
    "collapsed": true
   },
   "outputs": [],
   "source": [
    "shuttle = pd.read_csv(\"../data/shuttle.csv\")"
   ]
  },
  {
   "cell_type": "code",
   "execution_count": 13,
   "metadata": {
    "collapsed": false
   },
   "outputs": [
    {
     "name": "stdout",
     "output_type": "stream",
     "text": [
      "energy\n",
      "d: 2\n",
      "Starting\n",
      "BW calculated [ 23.25610346   5.44144229]\n",
      "Trained\n",
      "Trained in 30.69838809967041\n",
      "Scored 1000000\n",
      "Scored in 76.91624593734741\n",
      "percentile: 0.011750693237512998\n",
      "d: 4\n",
      "Starting\n",
      "BW calculated [ 41.35584993   9.67640479   7.05733137   5.10227938]\n",
      "Trained\n",
      "Trained in 33.21978712081909\n",
      "Scored 1000000\n",
      "Scored in 96.37732315063477\n",
      "percentile: 0.16678952431251357\n",
      "d: 8\n",
      "Starting\n",
      "BW calculated [ 73.54225642  17.2073514   12.54990707   9.07327836  12.53429871\n",
      "  32.21027153   4.02154726  19.15801935]\n",
      "Trained\n",
      "Trained in 211.20607995986938\n",
      "Scored 1000000\n",
      "Scored in 454.22492718696594\n",
      "percentile: 5.952844557163472\n"
     ]
    }
   ],
   "source": [
    "print(\"energy\")\n",
    "for d in [2,4,8]:\n",
    "    print(\"d: {}\".format(d))\n",
    "    scores = get_scores(\n",
    "        energy[list(range(d))].iloc[:1000000], k=10)\n",
    "    p = np.percentile(scores, 99.0) ** 2\n",
    "    print(\"percentile: {}\".format(p))"
   ]
  },
  {
   "cell_type": "code",
   "execution_count": 10,
   "metadata": {
    "collapsed": false
   },
   "outputs": [
    {
     "name": "stdout",
     "output_type": "stream",
     "text": [
      "home\n",
      "d: 2\n",
      "Starting\n",
      "BW calculated [ 0.07445847  0.18192618]\n",
      "Trained\n",
      "Trained in 2.605396032333374\n",
      "Scored 928991\n",
      "Scored in 52.430914878845215\n",
      "percentile: 0.09881739664872093\n",
      "d: 4\n",
      "Starting\n",
      "BW calculated [ 0.13200222  0.32252423  0.3471802   0.36840824]\n",
      "Trained\n",
      "Trained in 2.8492391109466553\n",
      "Scored 928991\n",
      "Scored in 149.36745405197144\n",
      "percentile: 0.6485160239999515\n",
      "d: 8\n",
      "Starting\n",
      "BW calculated [ 0.23401753  0.5717807   0.61549155  0.65312526  1.12627497  0.81856817\n",
      "  0.49597398  0.54345201]\n",
      "Trained\n",
      "Trained in 5.992555141448975\n",
      "Scored 928991\n",
      "Scored in 146.45897698402405\n",
      "percentile: 1.0547936762814547\n"
     ]
    }
   ],
   "source": [
    "print(\"home\")\n",
    "for d in [2,4,8]:\n",
    "    print(\"d: {}\".format(d))\n",
    "    scores = get_scores(\n",
    "        home[list(range(3,d+3))].iloc[:1000000], k=10)\n",
    "    p = np.percentile(scores, 99.0) ** 2\n",
    "    print(\"percentile: {}\".format(p))"
   ]
  },
  {
   "cell_type": "code",
   "execution_count": 12,
   "metadata": {
    "collapsed": false
   },
   "outputs": [
    {
     "name": "stdout",
     "output_type": "stream",
     "text": [
      "shuttle\n",
      "d: 2\n",
      "Starting\n",
      "BW calculated [  7.77746182e+04   2.33287348e-01]\n",
      "Trained\n",
      "Trained in 0.07338595390319824\n",
      "Scored 43500\n",
      "Scored in 0.5004849433898926\n",
      "percentile: 0.027775475279007568\n",
      "d: 4\n",
      "Starting\n",
      "BW calculated [  1.21369140e+05   3.64050449e-01   4.73221284e-01   5.05329115e-01]\n",
      "Trained\n",
      "Trained in 0.06426000595092773\n",
      "Scored 43500\n",
      "Scored in 1.446791172027588\n",
      "percentile: 1.4588345538925607\n",
      "d: 7\n",
      "Starting\n",
      "BW calculated [  1.74678152e+05   5.23952464e-01   6.81074445e-01   7.27285010e-01\n",
      "   7.77416283e-01   1.34257471e+00   9.75887759e-01]\n",
      "Trained\n",
      "Trained in 0.08105611801147461\n",
      "Scored 43500\n",
      "Scored in 2.2270028591156006\n",
      "percentile: 6.793650606503634\n"
     ]
    }
   ],
   "source": [
    "print(\"shuttle\")\n",
    "print(\"d: 2\")\n",
    "scores = get_scores(\n",
    "    home[[0,2]].iloc[:43500], k=10)\n",
    "p = np.percentile(scores, 99.0) ** 2\n",
    "print(\"percentile: {}\".format(p))\n",
    "print(\"d: 4\")\n",
    "scores = get_scores(\n",
    "    home[[0,2,4,5]].iloc[:43500], k=10)\n",
    "p = np.percentile(scores, 99.0) ** 2\n",
    "print(\"percentile: {}\".format(p))\n",
    "print(\"d: 7\")\n",
    "scores = get_scores(\n",
    "    home[[0,2,4,5,6,7,8]].iloc[:43500], k=10)\n",
    "p = np.percentile(scores, 99.0) ** 2\n",
    "print(\"percentile: {}\".format(p))"
   ]
  },
  {
   "cell_type": "code",
   "execution_count": null,
   "metadata": {
    "collapsed": true
   },
   "outputs": [],
   "source": []
  }
 ],
 "metadata": {
  "kernelspec": {
   "display_name": "Python 3",
   "language": "python",
   "name": "python3"
  },
  "language_info": {
   "codemirror_mode": {
    "name": "ipython",
    "version": 3
   },
   "file_extension": ".py",
   "mimetype": "text/x-python",
   "name": "python",
   "nbconvert_exporter": "python",
   "pygments_lexer": "ipython3",
   "version": "3.5.2"
  }
 },
 "nbformat": 4,
 "nbformat_minor": 1
}
