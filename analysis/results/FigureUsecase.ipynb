{
 "cells": [
  {
   "cell_type": "code",
   "execution_count": 1,
   "metadata": {
    "collapsed": true
   },
   "outputs": [],
   "source": [
    "import matplotlib\n",
    "matplotlib.use('PDF')"
   ]
  },
  {
   "cell_type": "code",
   "execution_count": 2,
   "metadata": {
    "collapsed": true
   },
   "outputs": [],
   "source": [
    "import numpy as np\n",
    "import matplotlib.pyplot as plt\n",
    "import pandas as pd\n",
    "import math\n",
    "import pickle\n",
    "plt.style.use('grayscale')"
   ]
  },
  {
   "cell_type": "code",
   "execution_count": 3,
   "metadata": {
    "collapsed": true
   },
   "outputs": [],
   "source": [
    "def human_format(x):\n",
    "    sigpart = 0\n",
    "    suffix = \"\"\n",
    "    if x < 1000:\n",
    "        return \"{:.3g}\".format(x)\n",
    "    elif x < 1000000:\n",
    "        sigpart = x / 1000\n",
    "        suffix = \"k\"\n",
    "    elif x < 1000000000:\n",
    "        sigpart = x / 1000000\n",
    "        suffix = \"M\"\n",
    "    else:\n",
    "        sigpart = x / 1000000000\n",
    "        suffix = \"B\"\n",
    "    return \"{:.3g} {}\".format(sigpart, suffix)"
   ]
  },
  {
   "cell_type": "markdown",
   "metadata": {},
   "source": [
    "# P"
   ]
  },
  {
   "cell_type": "code",
   "execution_count": 27,
   "metadata": {
    "collapsed": false
   },
   "outputs": [
    {
     "data": {
      "text/html": [
       "<div>\n",
       "<table border=\"1\" class=\"dataframe\">\n",
       "  <thead>\n",
       "    <tr style=\"text-align: right;\">\n",
       "      <th></th>\n",
       "      <th>algorithm</th>\n",
       "      <th>params</th>\n",
       "      <th>Agree</th>\n",
       "      <th>Predicted</th>\n",
       "      <th>Actual</th>\n",
       "      <th>Precision</th>\n",
       "      <th>Recall</th>\n",
       "      <th>F1</th>\n",
       "    </tr>\n",
       "  </thead>\n",
       "  <tbody>\n",
       "    <tr>\n",
       "      <th>0</th>\n",
       "      <td>kde</td>\n",
       "      <td>bw=0.27</td>\n",
       "      <td>143</td>\n",
       "      <td>161</td>\n",
       "      <td>193</td>\n",
       "      <td>0.888199</td>\n",
       "      <td>0.740933</td>\n",
       "      <td>0.80791</td>\n",
       "    </tr>\n",
       "  </tbody>\n",
       "</table>\n",
       "</div>"
      ],
      "text/plain": [
       "  algorithm   params  Agree  Predicted  Actual  Precision    Recall       F1\n",
       "0       kde  bw=0.27    143        161     193   0.888199  0.740933  0.80791"
      ]
     },
     "execution_count": 27,
     "metadata": {},
     "output_type": "execute_result"
    }
   ],
   "source": [
    "pacc = pd.read_csv(\"./usecase_p.csv\")\n",
    "pacc.head(1)"
   ]
  },
  {
   "cell_type": "code",
   "execution_count": 28,
   "metadata": {
    "collapsed": true
   },
   "outputs": [],
   "source": [
    "algorithms = [\"histogram\", \"kde\", \"knn\"]\n",
    "colors = [\"0.2\", \"0.7\", \"1.0\"]"
   ]
  },
  {
   "cell_type": "code",
   "execution_count": 44,
   "metadata": {
    "collapsed": false
   },
   "outputs": [
    {
     "name": "stderr",
     "output_type": "stream",
     "text": [
      "/usr/local/lib/python3.5/site-packages/matplotlib/pyplot.py:524: RuntimeWarning: More than 20 figures have been opened. Figures created through the pyplot interface (`matplotlib.pyplot.figure`) are retained until explicitly closed and may consume too much memory. (To control this warning, see the rcParam `figure.max_open_warning`).\n",
      "  max_open_warning, RuntimeWarning)\n",
      "/usr/local/lib/python3.5/site-packages/matplotlib/tight_layout.py:222: UserWarning: tight_layout : falling back to Agg renderer\n",
      "  warnings.warn(\"tight_layout : falling back to Agg renderer\")\n"
     ]
    }
   ],
   "source": [
    "fig, axs = plt.subplots(nrows=1, ncols=1, dpi=300, figsize=(6,3))\n",
    "ax = axs\n",
    "labels = []\n",
    "for ai, alg in enumerate(algorithms):\n",
    "    data = pacc[pacc.algorithm == alg]\n",
    "    labels += list(data.params)\n",
    "    xlocs = (np.arange(0,3) + ai*4)\n",
    "    ax.bar(left=xlocs,height=data.F1, label=alg, color=colors[ai])\n",
    "ax.set_xticks(np.array([0,1,2,4,5,6,8,9,10]))\n",
    "ax.set_xlim(np.array([-0.25,3])*4)\n",
    "ax.set_xticklabels(labels, rotation=-45, ha='left', va='top', x=-50)\n",
    "# ax.set_xticklabels(labels, rotation=\"vertical\")\n",
    "ax.yaxis.grid(True)\n",
    "ax.set_yticks(np.arange(0,1.1,0.25))\n",
    "ax.set_xlabel(\"Algorithm\")\n",
    "ax.set_ylabel(\"F-Score\")\n",
    "ax.set_title(\"Probability Density Accuracy\")\n",
    "# box = ax.get_position()\n",
    "# ax.set_position([box.x0, box.y0 + box.height * 0.1,\n",
    "#                  box.width, box.height * 0.9])\n",
    "\n",
    "ax.legend(loc='lower center', \n",
    "          bbox_to_anchor=(0.5, -1.5),\n",
    "         ncol=3)\n",
    "fig.tight_layout(rect=[0, .15, 1, 1])\n",
    "fig.savefig(\"../figures/pdfacc.pdf\")\n",
    "fig.clear()"
   ]
  },
  {
   "cell_type": "markdown",
   "metadata": {
    "collapsed": true
   },
   "source": [
    "# Region"
   ]
  },
  {
   "cell_type": "code",
   "execution_count": 47,
   "metadata": {
    "collapsed": false
   },
   "outputs": [
    {
     "data": {
      "text/html": [
       "<div>\n",
       "<table border=\"1\" class=\"dataframe\">\n",
       "  <thead>\n",
       "    <tr style=\"text-align: right;\">\n",
       "      <th></th>\n",
       "      <th>algorithm</th>\n",
       "      <th>params</th>\n",
       "      <th>Agree</th>\n",
       "      <th>Predicted</th>\n",
       "      <th>Actual</th>\n",
       "      <th>Precision</th>\n",
       "      <th>Recall</th>\n",
       "      <th>F1</th>\n",
       "    </tr>\n",
       "  </thead>\n",
       "  <tbody>\n",
       "    <tr>\n",
       "      <th>0</th>\n",
       "      <td>kde</td>\n",
       "      <td>bw=0.27</td>\n",
       "      <td>5123</td>\n",
       "      <td>5172</td>\n",
       "      <td>5283</td>\n",
       "      <td>0.990526</td>\n",
       "      <td>0.969714</td>\n",
       "      <td>0.98001</td>\n",
       "    </tr>\n",
       "  </tbody>\n",
       "</table>\n",
       "</div>"
      ],
      "text/plain": [
       "  algorithm   params  Agree  Predicted  Actual  Precision    Recall       F1\n",
       "0       kde  bw=0.27   5123       5172    5283   0.990526  0.969714  0.98001"
      ]
     },
     "execution_count": 47,
     "metadata": {},
     "output_type": "execute_result"
    }
   ],
   "source": [
    "racc = pd.read_csv(\"./usecase_region.csv\")\n",
    "racc.head(1)"
   ]
  },
  {
   "cell_type": "code",
   "execution_count": 46,
   "metadata": {
    "collapsed": true
   },
   "outputs": [],
   "source": [
    "algorithms = [\"histogram\", \"kde\", \"knn\"]\n",
    "colors = [\"0.2\", \"0.7\", \"1.0\"]"
   ]
  },
  {
   "cell_type": "code",
   "execution_count": 55,
   "metadata": {
    "collapsed": false
   },
   "outputs": [
    {
     "name": "stderr",
     "output_type": "stream",
     "text": [
      "/usr/local/lib/python3.5/site-packages/matplotlib/pyplot.py:524: RuntimeWarning: More than 20 figures have been opened. Figures created through the pyplot interface (`matplotlib.pyplot.figure`) are retained until explicitly closed and may consume too much memory. (To control this warning, see the rcParam `figure.max_open_warning`).\n",
      "  max_open_warning, RuntimeWarning)\n",
      "/usr/local/lib/python3.5/site-packages/matplotlib/tight_layout.py:222: UserWarning: tight_layout : falling back to Agg renderer\n",
      "  warnings.warn(\"tight_layout : falling back to Agg renderer\")\n"
     ]
    }
   ],
   "source": [
    "fig, axs = plt.subplots(nrows=1, ncols=1, dpi=300, figsize=(6,3))\n",
    "ax = axs\n",
    "labels = []\n",
    "for ai, alg in enumerate(algorithms):\n",
    "    data = racc[racc.algorithm == alg]\n",
    "    labels += list(data.params)\n",
    "    xlocs = (np.arange(0,3) + ai*4)\n",
    "    ax.bar(left=xlocs,height=data.F1, label=alg, color=colors[ai])\n",
    "ax.set_xticks(np.array([0,1,2,4,5,6,8,9,10]))\n",
    "ax.set_xlim(np.array([-0.25,3])*4)\n",
    "ax.set_xticklabels(labels, rotation=-45, ha='left', va='top', x=-50)\n",
    "# ax.set_xticklabels(labels, rotation=\"vertical\")\n",
    "ax.yaxis.grid(True)\n",
    "ax.set_yticks(np.arange(0,1.1,0.25))\n",
    "ax.set_xlabel(\"Algorithm\")\n",
    "ax.set_ylabel(\"F-Score\")\n",
    "ax.set_title(\"Region Contour Accuracy\")\n",
    "# box = ax.get_position()\n",
    "# ax.set_position([box.x0, box.y0 + box.height * 0.1,\n",
    "#                  box.width, box.height * 0.9])\n",
    "\n",
    "ax.legend(loc='lower center', \n",
    "          bbox_to_anchor=(0.5, -1.5),\n",
    "         ncol=3)\n",
    "fig.tight_layout(rect=[0, .15, 1, 1])\n",
    "fig.savefig(\"../figures/regionacc.pdf\")\n",
    "fig.clear()"
   ]
  },
  {
   "cell_type": "markdown",
   "metadata": {},
   "source": [
    "# Outlier"
   ]
  },
  {
   "cell_type": "code",
   "execution_count": 65,
   "metadata": {
    "collapsed": false
   },
   "outputs": [
    {
     "data": {
      "text/html": [
       "<div>\n",
       "<table border=\"1\" class=\"dataframe\">\n",
       "  <thead>\n",
       "    <tr style=\"text-align: right;\">\n",
       "      <th></th>\n",
       "      <th>algorithm</th>\n",
       "      <th>Parameters</th>\n",
       "      <th>TruePos</th>\n",
       "      <th>Pos</th>\n",
       "      <th>Anomalies</th>\n",
       "      <th>Runtime</th>\n",
       "    </tr>\n",
       "  </thead>\n",
       "  <tbody>\n",
       "    <tr>\n",
       "      <th>0</th>\n",
       "      <td>MCD</td>\n",
       "      <td>NaN</td>\n",
       "      <td>0</td>\n",
       "      <td>286</td>\n",
       "      <td>186</td>\n",
       "      <td>0.018</td>\n",
       "    </tr>\n",
       "  </tbody>\n",
       "</table>\n",
       "</div>"
      ],
      "text/plain": [
       "  algorithm Parameters  TruePos  Pos  Anomalies  Runtime\n",
       "0       MCD        NaN        0  286        186    0.018"
      ]
     },
     "execution_count": 65,
     "metadata": {},
     "output_type": "execute_result"
    }
   ],
   "source": [
    "oacc = pd.read_csv(\"./outlieracc_shuttle.csv\")\n",
    "oacc.head(1)"
   ]
  },
  {
   "cell_type": "code",
   "execution_count": 66,
   "metadata": {
    "collapsed": false
   },
   "outputs": [],
   "source": [
    "oacc[\"precision\"] = oacc.TruePos/oacc.Pos\n",
    "oacc[\"recall\"] = oacc.TruePos/oacc.Anomalies\n",
    "oacc[\"F1\"] = oacc[\"precision\"] * oacc[\"recall\"] * 2 / (oacc.precision + oacc.recall)"
   ]
  },
  {
   "cell_type": "code",
   "execution_count": 81,
   "metadata": {
    "collapsed": false
   },
   "outputs": [],
   "source": [
    "oacc[\"F1\"] = oacc.F1.fillna(0)"
   ]
  },
  {
   "cell_type": "code",
   "execution_count": 89,
   "metadata": {
    "collapsed": true
   },
   "outputs": [],
   "source": [
    "def make_factor_chart(ax, labels, ys):\n",
    "    xs = np.array(range(len(ys)))\n",
    "    ax.bar(\n",
    "        xs + 0.5,\n",
    "        ys,\n",
    "    )\n",
    "    rects = ax.patches\n",
    "    for rect, label in zip(rects, ys):\n",
    "        height = rect.get_height()\n",
    "        ax.text(\n",
    "            rect.get_x() + rect.get_width()/2, \n",
    "            height,\n",
    "            human_format(float(label)),\n",
    "            ha='center', va='bottom', size = 8,\n",
    "        )\n",
    "    ax.set_xticks(xs + 0.5)\n",
    "    ax.set_xticklabels(labels, rotation=-25, ha='left', va='top',)\n",
    "    ax.yaxis.grid(True)\n",
    "    return ax"
   ]
  },
  {
   "cell_type": "code",
   "execution_count": 91,
   "metadata": {
    "collapsed": false
   },
   "outputs": [
    {
     "name": "stderr",
     "output_type": "stream",
     "text": [
      "/usr/local/lib/python3.5/site-packages/matplotlib/pyplot.py:524: RuntimeWarning: More than 20 figures have been opened. Figures created through the pyplot interface (`matplotlib.pyplot.figure`) are retained until explicitly closed and may consume too much memory. (To control this warning, see the rcParam `figure.max_open_warning`).\n",
      "  max_open_warning, RuntimeWarning)\n",
      "/usr/local/lib/python3.5/site-packages/matplotlib/tight_layout.py:222: UserWarning: tight_layout : falling back to Agg renderer\n",
      "  warnings.warn(\"tight_layout : falling back to Agg renderer\")\n"
     ]
    }
   ],
   "source": [
    "fig, axs = plt.subplots(ncols=1, figsize=(6,3),dpi=300)\n",
    "ax = axs\n",
    "make_factor_chart(ax, oacc.algorithm, oacc.F1)\n",
    "ax.set_ylim(0,1.0)\n",
    "ax.set_yticks(np.arange(0,1.1,0.25))\n",
    "ax.set_title(\"Detecting Rare Shuttle States\")\n",
    "ax.set_ylabel(\"F1 Score\")\n",
    "ax.set_xlabel(\"Algorithm\")\n",
    "fig.tight_layout()\n",
    "fig.savefig(\"../figures/outliers_2.pdf\")\n",
    "fig.clear()"
   ]
  },
  {
   "cell_type": "code",
   "execution_count": null,
   "metadata": {
    "collapsed": true
   },
   "outputs": [],
   "source": []
  }
 ],
 "metadata": {
  "kernelspec": {
   "display_name": "Python 3",
   "language": "python",
   "name": "python3"
  },
  "language_info": {
   "codemirror_mode": {
    "name": "ipython",
    "version": 3
   },
   "file_extension": ".py",
   "mimetype": "text/x-python",
   "name": "python",
   "nbconvert_exporter": "python",
   "pygments_lexer": "ipython3",
   "version": "3.5.2"
  }
 },
 "nbformat": 4,
 "nbformat_minor": 1
}
