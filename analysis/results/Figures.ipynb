{
 "cells": [
  {
   "cell_type": "code",
   "execution_count": 2,
   "metadata": {
    "collapsed": false
   },
   "outputs": [],
   "source": [
    "import matplotlib\n",
    "matplotlib.use('PDF')"
   ]
  },
  {
   "cell_type": "code",
   "execution_count": 3,
   "metadata": {
    "collapsed": true
   },
   "outputs": [],
   "source": [
    "import numpy as np\n",
    "import matplotlib.pyplot as plt\n",
    "import pandas as pd\n",
    "import math\n",
    "import pickle"
   ]
  },
  {
   "cell_type": "code",
   "execution_count": 4,
   "metadata": {
    "collapsed": true
   },
   "outputs": [],
   "source": [
    "plt.style.use('grayscale')"
   ]
  },
  {
   "cell_type": "code",
   "execution_count": 5,
   "metadata": {
    "collapsed": true
   },
   "outputs": [],
   "source": [
    "def human_format(x):\n",
    "    sigpart = 0\n",
    "    suffix = \"\"\n",
    "    if x < 1000:\n",
    "        return \"{:.3g}\".format(x)\n",
    "    elif x < 1000000:\n",
    "        sigpart = x / 1000\n",
    "        suffix = \"k\"\n",
    "    elif x < 1000000000:\n",
    "        sigpart = x / 1000000\n",
    "        suffix = \"M\"\n",
    "    else:\n",
    "        sigpart = x / 1000000000\n",
    "        suffix = \"B\"\n",
    "    return \"{:.3g} {}\".format(sigpart, suffix)"
   ]
  },
  {
   "cell_type": "markdown",
   "metadata": {},
   "source": [
    "# Throughput"
   ]
  },
  {
   "cell_type": "code",
   "execution_count": 16,
   "metadata": {
    "collapsed": false,
    "scrolled": false
   },
   "outputs": [
    {
     "data": {
      "text/html": [
       "<div>\n",
       "<table border=\"1\" class=\"dataframe\">\n",
       "  <thead>\n",
       "    <tr style=\"text-align: right;\">\n",
       "      <th></th>\n",
       "      <th>algorithm</th>\n",
       "      <th>dataset</th>\n",
       "      <th>dimension</th>\n",
       "      <th>dataset size</th>\n",
       "      <th>num_scored</th>\n",
       "      <th>train</th>\n",
       "      <th>score</th>\n",
       "      <th>effective_time</th>\n",
       "      <th>throughput</th>\n",
       "    </tr>\n",
       "  </thead>\n",
       "  <tbody>\n",
       "    <tr>\n",
       "      <th>0</th>\n",
       "      <td>ic2</td>\n",
       "      <td>energy</td>\n",
       "      <td>1</td>\n",
       "      <td>500000</td>\n",
       "      <td>500000</td>\n",
       "      <td>2.68</td>\n",
       "      <td>1.62</td>\n",
       "      <td>4.30</td>\n",
       "      <td>116279.0698</td>\n",
       "    </tr>\n",
       "    <tr>\n",
       "      <th>1</th>\n",
       "      <td>ic2</td>\n",
       "      <td>energy</td>\n",
       "      <td>2</td>\n",
       "      <td>500000</td>\n",
       "      <td>500000</td>\n",
       "      <td>2.02</td>\n",
       "      <td>0.91</td>\n",
       "      <td>2.93</td>\n",
       "      <td>170648.4642</td>\n",
       "    </tr>\n",
       "  </tbody>\n",
       "</table>\n",
       "</div>"
      ],
      "text/plain": [
       "  algorithm dataset  dimension  dataset size  num_scored  train  score  \\\n",
       "0       ic2  energy          1        500000      500000   2.68   1.62   \n",
       "1       ic2  energy          2        500000      500000   2.02   0.91   \n",
       "\n",
       "   effective_time   throughput  \n",
       "0            4.30  116279.0698  \n",
       "1            2.93  170648.4642  "
      ]
     },
     "execution_count": 16,
     "metadata": {},
     "output_type": "execute_result"
    }
   ],
   "source": [
    "throughput = pd.read_csv(\"./throughput.csv\")\n",
    "throughput.head(2)"
   ]
  },
  {
   "cell_type": "code",
   "execution_count": 17,
   "metadata": {
    "collapsed": true
   },
   "outputs": [],
   "source": [
    "algorithms = [\"ic2\", \"ks\", \"sklearn\", \"naive\"]\n",
    "datasets = [\"energy\", \"home\"]"
   ]
  },
  {
   "cell_type": "code",
   "execution_count": 18,
   "metadata": {
    "collapsed": true
   },
   "outputs": [],
   "source": [
    "markers = [\"o\",\"^\",\"s\",\".\"]\n",
    "linestyles = [\"-\",\"--\",\"-\",\"-\"]"
   ]
  },
  {
   "cell_type": "code",
   "execution_count": 1,
   "metadata": {
    "collapsed": false
   },
   "outputs": [
    {
     "ename": "NameError",
     "evalue": "name 'plt' is not defined",
     "output_type": "error",
     "traceback": [
      "\u001b[0;31m---------------------------------------------------------------------------\u001b[0m",
      "\u001b[0;31mNameError\u001b[0m                                 Traceback (most recent call last)",
      "\u001b[0;32m<ipython-input-1-e87b906fd0d4>\u001b[0m in \u001b[0;36m<module>\u001b[0;34m()\u001b[0m\n\u001b[0;32m----> 1\u001b[0;31m \u001b[0mfig\u001b[0m\u001b[0;34m,\u001b[0m \u001b[0maxs\u001b[0m \u001b[0;34m=\u001b[0m \u001b[0mplt\u001b[0m\u001b[0;34m.\u001b[0m\u001b[0msubplots\u001b[0m\u001b[0;34m(\u001b[0m\u001b[0mnrows\u001b[0m\u001b[0;34m=\u001b[0m\u001b[0;36m2\u001b[0m\u001b[0;34m,\u001b[0m \u001b[0mfigsize\u001b[0m\u001b[0;34m=\u001b[0m\u001b[0;34m(\u001b[0m\u001b[0;36m7\u001b[0m\u001b[0;34m,\u001b[0m\u001b[0;36m8\u001b[0m\u001b[0;34m)\u001b[0m\u001b[0;34m,\u001b[0m\u001b[0mdpi\u001b[0m\u001b[0;34m=\u001b[0m\u001b[0;36m300\u001b[0m\u001b[0;34m)\u001b[0m\u001b[0;34m\u001b[0m\u001b[0m\n\u001b[0m\u001b[1;32m      2\u001b[0m \u001b[0;34m\u001b[0m\u001b[0m\n\u001b[1;32m      3\u001b[0m \u001b[0;32mfor\u001b[0m \u001b[0mdi\u001b[0m \u001b[0;32min\u001b[0m \u001b[0mrange\u001b[0m\u001b[0;34m(\u001b[0m\u001b[0;36m2\u001b[0m\u001b[0;34m)\u001b[0m\u001b[0;34m:\u001b[0m\u001b[0;34m\u001b[0m\u001b[0m\n\u001b[1;32m      4\u001b[0m     \u001b[0md\u001b[0m \u001b[0;34m=\u001b[0m \u001b[0mdatasets\u001b[0m\u001b[0;34m[\u001b[0m\u001b[0mdi\u001b[0m\u001b[0;34m]\u001b[0m\u001b[0;34m\u001b[0m\u001b[0m\n\u001b[1;32m      5\u001b[0m     \u001b[0max\u001b[0m \u001b[0;34m=\u001b[0m \u001b[0maxs\u001b[0m\u001b[0;34m[\u001b[0m\u001b[0mdi\u001b[0m\u001b[0;34m]\u001b[0m\u001b[0;34m\u001b[0m\u001b[0m\n",
      "\u001b[0;31mNameError\u001b[0m: name 'plt' is not defined"
     ]
    }
   ],
   "source": [
    "fig, axs = plt.subplots(nrows=2, figsize=(7,8),dpi=300)\n",
    "\n",
    "for di in range(2):\n",
    "    d = datasets[di]\n",
    "    ax = axs[di]\n",
    "    for i in range(4):\n",
    "        a = algorithms[i]\n",
    "        m = markers[i]\n",
    "        data = throughput[(throughput.dataset == d) & (throughput.algorithm == a)]\n",
    "        ax.semilogy(data.dimension, data.throughput, \n",
    "                    label=a, marker=m, linestyle=linestyles[i])\n",
    "    ax.set_xlim(0.5,8.5)\n",
    "    ax.yaxis.grid(True)\n",
    "    ax.set_xlabel(\"Dataset Dimensionality\")\n",
    "    ax.set_ylabel(\"Throughput (pts / s)\")\n",
    "    ax.set_title(\"Data: {}\".format(d))\n",
    "    ax.legend(loc=0, ncol=2)\n",
    "fig.tight_layout()\n",
    "fig.savefig(\"../figures/throughput_mpl.pdf\")\n",
    "fig.clear()"
   ]
  },
  {
   "cell_type": "code",
   "execution_count": null,
   "metadata": {
    "collapsed": true
   },
   "outputs": [],
   "source": [
    "        baseline = throughput[(throughput.dataset == d) & (throughput.algorithm == 'naive')]\n",
    "\n",
    "        if a != 'naive':\n",
    "            for curdim in data.dimension:\n",
    "                cur_throughput = data[data.dimension == curdim].throughput.values[0]\n",
    "                base_throughput = baseline[baseline.dimension == curdim].throughput.values[0]\n",
    "                curratio = cur_throughput / base_throughput\n",
    "                ax.annotate(\n",
    "                    human_format(curratio),\n",
    "                    (curdim,cur_throughput),\n",
    "                    xytext=(3, 3), textcoords='offset points')"
   ]
  },
  {
   "cell_type": "markdown",
   "metadata": {},
   "source": [
    "# Accuracy"
   ]
  },
  {
   "cell_type": "code",
   "execution_count": 22,
   "metadata": {
    "collapsed": false
   },
   "outputs": [
    {
     "data": {
      "text/html": [
       "<div>\n",
       "<table border=\"1\" class=\"dataframe\">\n",
       "  <thead>\n",
       "    <tr style=\"text-align: right;\">\n",
       "      <th></th>\n",
       "      <th>algorithm</th>\n",
       "      <th>dataset</th>\n",
       "      <th>dimension</th>\n",
       "      <th>true_below</th>\n",
       "      <th>est_below</th>\n",
       "      <th>tp_below</th>\n",
       "      <th>precision</th>\n",
       "      <th>recall</th>\n",
       "      <th>f_score</th>\n",
       "    </tr>\n",
       "  </thead>\n",
       "  <tbody>\n",
       "    <tr>\n",
       "      <th>0</th>\n",
       "      <td>sklearn_t0</td>\n",
       "      <td>energy</td>\n",
       "      <td>2</td>\n",
       "      <td>500</td>\n",
       "      <td>500</td>\n",
       "      <td>500</td>\n",
       "      <td>1.0</td>\n",
       "      <td>1.0</td>\n",
       "      <td>1.0</td>\n",
       "    </tr>\n",
       "    <tr>\n",
       "      <th>1</th>\n",
       "      <td>sklearn_t0</td>\n",
       "      <td>energy</td>\n",
       "      <td>4</td>\n",
       "      <td>500</td>\n",
       "      <td>500</td>\n",
       "      <td>500</td>\n",
       "      <td>1.0</td>\n",
       "      <td>1.0</td>\n",
       "      <td>1.0</td>\n",
       "    </tr>\n",
       "  </tbody>\n",
       "</table>\n",
       "</div>"
      ],
      "text/plain": [
       "    algorithm dataset  dimension  true_below  est_below  tp_below  precision  \\\n",
       "0  sklearn_t0  energy          2         500        500       500        1.0   \n",
       "1  sklearn_t0  energy          4         500        500       500        1.0   \n",
       "\n",
       "   recall  f_score  \n",
       "0     1.0      1.0  \n",
       "1     1.0      1.0  "
      ]
     },
     "execution_count": 22,
     "metadata": {},
     "output_type": "execute_result"
    }
   ],
   "source": [
    "acc = pd.read_csv(\"./rawacc_2.csv\")\n",
    "acc.head(2)"
   ]
  },
  {
   "cell_type": "code",
   "execution_count": 108,
   "metadata": {
    "collapsed": true
   },
   "outputs": [],
   "source": [
    "algorithms = [\"sklearn\", \"ic2\", \"ks\"]\n",
    "datasets = [\"energy\", \"home\", \"shuttle\"]\n",
    "colors = [\"0.2\", \"0.7\", \"1.0\"]\n",
    "dimensions = [[2], [4], [7,8]]"
   ]
  },
  {
   "cell_type": "code",
   "execution_count": 112,
   "metadata": {
    "collapsed": false
   },
   "outputs": [
    {
     "name": "stderr",
     "output_type": "stream",
     "text": [
      "/usr/local/lib/python3.5/site-packages/matplotlib/pyplot.py:524: RuntimeWarning: More than 20 figures have been opened. Figures created through the pyplot interface (`matplotlib.pyplot.figure`) are retained until explicitly closed and may consume too much memory. (To control this warning, see the rcParam `figure.max_open_warning`).\n",
      "  max_open_warning, RuntimeWarning)\n"
     ]
    }
   ],
   "source": [
    "fig, axs = plt.subplots(nrows=3, ncols=1, figsize=(7,8),dpi=300)\n",
    "fig.subplots_adjust(hspace=0.5)\n",
    "for di in range(len(dimensions)):\n",
    "    dims = dimensions[di]\n",
    "    ax = axs[di]\n",
    "    for si in range(len(datasets)):\n",
    "        dname = datasets[si]\n",
    "        data = acc[(acc.dataset == dname) & (acc.dimension.isin(dims))]\n",
    "        data = data[data.algorithm.isin(algorithms)]\n",
    "        xlocs = np.arange(0,len(algorithms)) * 5 + si\n",
    "        if len(data) == 2:\n",
    "            xlocs = np.arange(0,len(algorithms)-1) * 5 + si\n",
    "        ax.bar(left=xlocs,height=data.f_score,label=dname, color=colors[si])\n",
    "    ax.set_xticks(np.arange(0,len(algorithms)) * 5 + 1.5)\n",
    "    ax.set_xlim(np.array([-0.3,3])*5)\n",
    "    ax.set_xticklabels(algorithms)\n",
    "    if di == 0:\n",
    "        ax.set_ylim(0.90,1.0)\n",
    "    if di == 2:\n",
    "        ax.set_ylim(0.80,1.0)\n",
    "    ax.yaxis.grid(True)\n",
    "    ax.set_xlabel(\"Algorithm\")\n",
    "    ax.set_ylabel(\"F-score\")\n",
    "    ax.set_title(\"Dimensions: {}\".format(dims))\n",
    "    if di == 2:\n",
    "        ax.legend(loc=0)\n",
    "fig.savefig(\"../figures/rawacc_mpl.pdf\")\n",
    "plt.tight_layout()\n",
    "fig.clear()"
   ]
  },
  {
   "cell_type": "markdown",
   "metadata": {},
   "source": [
    "# Scalability"
   ]
  },
  {
   "cell_type": "code",
   "execution_count": 15,
   "metadata": {
    "collapsed": false
   },
   "outputs": [
    {
     "data": {
      "text/html": [
       "<div>\n",
       "<table border=\"1\" class=\"dataframe\">\n",
       "  <thead>\n",
       "    <tr style=\"text-align: right;\">\n",
       "      <th></th>\n",
       "      <th>dim</th>\n",
       "      <th>train</th>\n",
       "      <th>score</th>\n",
       "      <th>data</th>\n",
       "    </tr>\n",
       "  </thead>\n",
       "  <tbody>\n",
       "    <tr>\n",
       "      <th>0</th>\n",
       "      <td>1</td>\n",
       "      <td>2.72</td>\n",
       "      <td>1.11</td>\n",
       "      <td>energy500k</td>\n",
       "    </tr>\n",
       "    <tr>\n",
       "      <th>1</th>\n",
       "      <td>2</td>\n",
       "      <td>1.93</td>\n",
       "      <td>1.10</td>\n",
       "      <td>NaN</td>\n",
       "    </tr>\n",
       "    <tr>\n",
       "      <th>2</th>\n",
       "      <td>3</td>\n",
       "      <td>2.29</td>\n",
       "      <td>1.76</td>\n",
       "      <td>NaN</td>\n",
       "    </tr>\n",
       "    <tr>\n",
       "      <th>3</th>\n",
       "      <td>4</td>\n",
       "      <td>2.89</td>\n",
       "      <td>3.71</td>\n",
       "      <td>NaN</td>\n",
       "    </tr>\n",
       "    <tr>\n",
       "      <th>4</th>\n",
       "      <td>5</td>\n",
       "      <td>4.13</td>\n",
       "      <td>5.31</td>\n",
       "      <td>NaN</td>\n",
       "    </tr>\n",
       "    <tr>\n",
       "      <th>5</th>\n",
       "      <td>6</td>\n",
       "      <td>5.78</td>\n",
       "      <td>7.48</td>\n",
       "      <td>NaN</td>\n",
       "    </tr>\n",
       "    <tr>\n",
       "      <th>6</th>\n",
       "      <td>7</td>\n",
       "      <td>9.57</td>\n",
       "      <td>10.06</td>\n",
       "      <td>NaN</td>\n",
       "    </tr>\n",
       "    <tr>\n",
       "      <th>7</th>\n",
       "      <td>8</td>\n",
       "      <td>10.07</td>\n",
       "      <td>12.38</td>\n",
       "      <td>NaN</td>\n",
       "    </tr>\n",
       "  </tbody>\n",
       "</table>\n",
       "</div>"
      ],
      "text/plain": [
       "   dim  train  score        data\n",
       "0    1   2.72   1.11  energy500k\n",
       "1    2   1.93   1.10         NaN\n",
       "2    3   2.29   1.76         NaN\n",
       "3    4   2.89   3.71         NaN\n",
       "4    5   4.13   5.31         NaN\n",
       "5    6   5.78   7.48         NaN\n",
       "6    7   9.57  10.06         NaN\n",
       "7    8  10.07  12.38         NaN"
      ]
     },
     "execution_count": 15,
     "metadata": {},
     "output_type": "execute_result"
    }
   ],
   "source": [
    "dimensions = pd.read_csv(\"./scale_dim.csv\")\n",
    "dimensions"
   ]
  },
  {
   "cell_type": "code",
   "execution_count": 19,
   "metadata": {
    "collapsed": false
   },
   "outputs": [
    {
     "name": "stderr",
     "output_type": "stream",
     "text": [
      "/usr/local/lib/python3.5/site-packages/matplotlib/tight_layout.py:222: UserWarning: tight_layout : falling back to Agg renderer\n",
      "  warnings.warn(\"tight_layout : falling back to Agg renderer\")\n"
     ]
    }
   ],
   "source": [
    "fig = plt.figure(figsize=(6,3),dpi=300)\n",
    "ax = plt.subplot(111)\n",
    "ax.plot(dimensions[\"dim\"],dimensions[\"train\"],marker='s',linestyle='--')\n",
    "ax.plot(dimensions[\"dim\"],dimensions[\"score\"],marker='o')\n",
    "ax.set_xlim(0.5,8.5)\n",
    "ax.yaxis.grid(True)\n",
    "ax.set_xlabel(\"Dataset Dimensionality\")\n",
    "ax.set_ylabel(\"Runtime (s)\")\n",
    "ax.set_title(\"US Energy 500k Dataset\")\n",
    "ax.legend(loc=2)\n",
    "fig.tight_layout()\n",
    "fig.savefig(\"../figures/scalability_dim.pdf\")\n",
    "fig.clear()"
   ]
  },
  {
   "cell_type": "code",
   "execution_count": 6,
   "metadata": {
    "collapsed": false,
    "scrolled": false
   },
   "outputs": [
    {
     "data": {
      "text/html": [
       "<div>\n",
       "<table border=\"1\" class=\"dataframe\">\n",
       "  <thead>\n",
       "    <tr style=\"text-align: right;\">\n",
       "      <th></th>\n",
       "      <th>Dataset Size</th>\n",
       "      <th>train</th>\n",
       "      <th>score</th>\n",
       "    </tr>\n",
       "  </thead>\n",
       "  <tbody>\n",
       "    <tr>\n",
       "      <th>0</th>\n",
       "      <td>100000</td>\n",
       "      <td>1.78</td>\n",
       "      <td>0.389</td>\n",
       "    </tr>\n",
       "    <tr>\n",
       "      <th>1</th>\n",
       "      <td>200000</td>\n",
       "      <td>1.85</td>\n",
       "      <td>1.000</td>\n",
       "    </tr>\n",
       "    <tr>\n",
       "      <th>2</th>\n",
       "      <td>300000</td>\n",
       "      <td>2.78</td>\n",
       "      <td>1.960</td>\n",
       "    </tr>\n",
       "    <tr>\n",
       "      <th>3</th>\n",
       "      <td>400000</td>\n",
       "      <td>3.73</td>\n",
       "      <td>2.840</td>\n",
       "    </tr>\n",
       "    <tr>\n",
       "      <th>4</th>\n",
       "      <td>500000</td>\n",
       "      <td>3.80</td>\n",
       "      <td>4.000</td>\n",
       "    </tr>\n",
       "    <tr>\n",
       "      <th>5</th>\n",
       "      <td>700000</td>\n",
       "      <td>4.51</td>\n",
       "      <td>7.220</td>\n",
       "    </tr>\n",
       "    <tr>\n",
       "      <th>6</th>\n",
       "      <td>1000000</td>\n",
       "      <td>6.22</td>\n",
       "      <td>12.000</td>\n",
       "    </tr>\n",
       "  </tbody>\n",
       "</table>\n",
       "</div>"
      ],
      "text/plain": [
       "   Dataset Size  train   score\n",
       "0        100000   1.78   0.389\n",
       "1        200000   1.85   1.000\n",
       "2        300000   2.78   1.960\n",
       "3        400000   3.73   2.840\n",
       "4        500000   3.80   4.000\n",
       "5        700000   4.51   7.220\n",
       "6       1000000   6.22  12.000"
      ]
     },
     "execution_count": 6,
     "metadata": {},
     "output_type": "execute_result"
    }
   ],
   "source": [
    "size = pd.read_csv(\"../results/scale_size.csv\")\n",
    "size"
   ]
  },
  {
   "cell_type": "code",
   "execution_count": 10,
   "metadata": {
    "collapsed": false
   },
   "outputs": [],
   "source": [
    "size[\"size100\"] = (size[\"Dataset Size\"] / 100000).astype(int)"
   ]
  },
  {
   "cell_type": "code",
   "execution_count": 13,
   "metadata": {
    "collapsed": false
   },
   "outputs": [
    {
     "name": "stderr",
     "output_type": "stream",
     "text": [
      "/usr/local/lib/python3.5/site-packages/matplotlib/tight_layout.py:222: UserWarning: tight_layout : falling back to Agg renderer\n",
      "  warnings.warn(\"tight_layout : falling back to Agg renderer\")\n"
     ]
    }
   ],
   "source": [
    "fig = plt.figure(figsize=(6,3),dpi=300)\n",
    "ax = plt.subplot(111)\n",
    "ax.plot(size[\"size100\"],size[\"train\"], marker='s',linestyle='--')\n",
    "ax.plot(size[\"size100\"],size[\"score\"], marker='o')\n",
    "ax.set_xlim(0,11)\n",
    "ax.set_ylim(0,13)\n",
    "ticklocs = np.arange(1,11,1)\n",
    "ax.yaxis.grid(True)\n",
    "ax.xaxis.set_ticks(ticklocs)\n",
    "ax.xaxis.set_ticklabels(map(human_format, ticklocs))\n",
    "ax.set_xlabel(\"Dataset Size (100k Points)\")\n",
    "ax.set_ylabel(\"Runtime (s)\")\n",
    "ax.set_title(\"US Energy 4d Dataset\")\n",
    "ax.legend(loc=2)\n",
    "fig.tight_layout()\n",
    "fig.savefig(\"../figures/scalability_size.pdf\")\n",
    "fig.clear()"
   ]
  },
  {
   "cell_type": "markdown",
   "metadata": {},
   "source": [
    "# Impact of Quantile Estimation Precision"
   ]
  },
  {
   "cell_type": "code",
   "execution_count": 20,
   "metadata": {
    "collapsed": false
   },
   "outputs": [
    {
     "data": {
      "text/html": [
       "<div>\n",
       "<table border=\"1\" class=\"dataframe\">\n",
       "  <thead>\n",
       "    <tr style=\"text-align: right;\">\n",
       "      <th></th>\n",
       "      <th>p</th>\n",
       "      <th>Num Scored</th>\n",
       "      <th>Training Time</th>\n",
       "      <th>Scoring Time</th>\n",
       "      <th>Throughput</th>\n",
       "    </tr>\n",
       "  </thead>\n",
       "  <tbody>\n",
       "    <tr>\n",
       "      <th>0</th>\n",
       "      <td>0.01</td>\n",
       "      <td>500000</td>\n",
       "      <td>4.50</td>\n",
       "      <td>4.23</td>\n",
       "      <td>57273.768610</td>\n",
       "    </tr>\n",
       "    <tr>\n",
       "      <th>1</th>\n",
       "      <td>0.05</td>\n",
       "      <td>500000</td>\n",
       "      <td>5.52</td>\n",
       "      <td>11.50</td>\n",
       "      <td>29377.203290</td>\n",
       "    </tr>\n",
       "    <tr>\n",
       "      <th>2</th>\n",
       "      <td>0.10</td>\n",
       "      <td>500000</td>\n",
       "      <td>5.02</td>\n",
       "      <td>23.04</td>\n",
       "      <td>17818.959370</td>\n",
       "    </tr>\n",
       "    <tr>\n",
       "      <th>3</th>\n",
       "      <td>0.20</td>\n",
       "      <td>500000</td>\n",
       "      <td>13.81</td>\n",
       "      <td>55.57</td>\n",
       "      <td>7206.687806</td>\n",
       "    </tr>\n",
       "    <tr>\n",
       "      <th>4</th>\n",
       "      <td>0.30</td>\n",
       "      <td>500000</td>\n",
       "      <td>17.34</td>\n",
       "      <td>100.07</td>\n",
       "      <td>4258.581041</td>\n",
       "    </tr>\n",
       "    <tr>\n",
       "      <th>5</th>\n",
       "      <td>0.40</td>\n",
       "      <td>500000</td>\n",
       "      <td>28.51</td>\n",
       "      <td>143.68</td>\n",
       "      <td>2903.769092</td>\n",
       "    </tr>\n",
       "    <tr>\n",
       "      <th>6</th>\n",
       "      <td>0.50</td>\n",
       "      <td>500000</td>\n",
       "      <td>30.95</td>\n",
       "      <td>116.08</td>\n",
       "      <td>3400.666531</td>\n",
       "    </tr>\n",
       "    <tr>\n",
       "      <th>7</th>\n",
       "      <td>0.60</td>\n",
       "      <td>500000</td>\n",
       "      <td>69.00</td>\n",
       "      <td>181.60</td>\n",
       "      <td>1995.211492</td>\n",
       "    </tr>\n",
       "    <tr>\n",
       "      <th>8</th>\n",
       "      <td>0.70</td>\n",
       "      <td>500000</td>\n",
       "      <td>159.80</td>\n",
       "      <td>158.90</td>\n",
       "      <td>1568.873549</td>\n",
       "    </tr>\n",
       "    <tr>\n",
       "      <th>9</th>\n",
       "      <td>0.80</td>\n",
       "      <td>500000</td>\n",
       "      <td>170.40</td>\n",
       "      <td>170.00</td>\n",
       "      <td>1468.860165</td>\n",
       "    </tr>\n",
       "    <tr>\n",
       "      <th>10</th>\n",
       "      <td>0.90</td>\n",
       "      <td>500000</td>\n",
       "      <td>152.90</td>\n",
       "      <td>204.30</td>\n",
       "      <td>1399.776036</td>\n",
       "    </tr>\n",
       "    <tr>\n",
       "      <th>11</th>\n",
       "      <td>0.99</td>\n",
       "      <td>500000</td>\n",
       "      <td>149.00</td>\n",
       "      <td>76.10</td>\n",
       "      <td>2221.235007</td>\n",
       "    </tr>\n",
       "  </tbody>\n",
       "</table>\n",
       "</div>"
      ],
      "text/plain": [
       "       p  Num Scored  Training Time  Scoring Time    Throughput\n",
       "0   0.01      500000           4.50          4.23  57273.768610\n",
       "1   0.05      500000           5.52         11.50  29377.203290\n",
       "2   0.10      500000           5.02         23.04  17818.959370\n",
       "3   0.20      500000          13.81         55.57   7206.687806\n",
       "4   0.30      500000          17.34        100.07   4258.581041\n",
       "5   0.40      500000          28.51        143.68   2903.769092\n",
       "6   0.50      500000          30.95        116.08   3400.666531\n",
       "7   0.60      500000          69.00        181.60   1995.211492\n",
       "8   0.70      500000         159.80        158.90   1568.873549\n",
       "9   0.80      500000         170.40        170.00   1468.860165\n",
       "10  0.90      500000         152.90        204.30   1399.776036\n",
       "11  0.99      500000         149.00         76.10   2221.235007"
      ]
     },
     "execution_count": 20,
     "metadata": {},
     "output_type": "execute_result"
    }
   ],
   "source": [
    "quantiles = pd.read_csv(\"./pscaling.csv\")\n",
    "quantiles"
   ]
  },
  {
   "cell_type": "code",
   "execution_count": 23,
   "metadata": {
    "collapsed": false
   },
   "outputs": [
    {
     "name": "stderr",
     "output_type": "stream",
     "text": [
      "/usr/local/lib/python3.5/site-packages/matplotlib/tight_layout.py:222: UserWarning: tight_layout : falling back to Agg renderer\n",
      "  warnings.warn(\"tight_layout : falling back to Agg renderer\")\n"
     ]
    }
   ],
   "source": [
    "fig = plt.figure(figsize = (6, 3), dpi=300)\n",
    "ax = plt.subplot(111)\n",
    "ax.semilogy(\n",
    "    quantiles[\"p\"],\n",
    "    quantiles[\"Throughput\"], \n",
    "    marker='o', \n",
    "    label=\"IC2\")\n",
    "ax.semilogy(\n",
    "    [0.01,1],\n",
    "    [65, 65],\n",
    "    linestyle=\"--\",\n",
    "    label=\"sk-learn\"\n",
    ")\n",
    "ax.set_xlabel(\"Threshold Quantile p\")\n",
    "ax.set_ylim(10 ,2 * 10**5)\n",
    "ax.set_ylabel(\"Throughput (pts / s)\")\n",
    "ax.yaxis.grid(True)\n",
    "ax.set_title(\"Energy Dataset, 500k points, Throughput vs Quantile\")\n",
    "ax.legend(loc=0, ncol=2)\n",
    "\n",
    "fig.tight_layout()\n",
    "fig.savefig(\"../figures/pscaling.pdf\")\n",
    "fig.clear()"
   ]
  },
  {
   "cell_type": "markdown",
   "metadata": {
    "collapsed": true
   },
   "source": [
    "# Prob Estimation"
   ]
  },
  {
   "cell_type": "code",
   "execution_count": 115,
   "metadata": {
    "collapsed": true
   },
   "outputs": [],
   "source": [
    "pacc = pd.read_csv(\"./pacc.csv\")"
   ]
  },
  {
   "cell_type": "code",
   "execution_count": 116,
   "metadata": {
    "collapsed": false,
    "scrolled": false
   },
   "outputs": [
    {
     "data": {
      "text/html": [
       "<div>\n",
       "<table border=\"1\" class=\"dataframe\">\n",
       "  <thead>\n",
       "    <tr style=\"text-align: right;\">\n",
       "      <th></th>\n",
       "      <th>algorithm</th>\n",
       "      <th>params</th>\n",
       "      <th>MSE</th>\n",
       "    </tr>\n",
       "  </thead>\n",
       "  <tbody>\n",
       "    <tr>\n",
       "      <th>0</th>\n",
       "      <td>kde</td>\n",
       "      <td>bw=0.266</td>\n",
       "      <td>6.400000e-07</td>\n",
       "    </tr>\n",
       "    <tr>\n",
       "      <th>1</th>\n",
       "      <td>kde</td>\n",
       "      <td>bw=0.1</td>\n",
       "      <td>3.980000e-06</td>\n",
       "    </tr>\n",
       "    <tr>\n",
       "      <th>2</th>\n",
       "      <td>kde</td>\n",
       "      <td>bw=0.4</td>\n",
       "      <td>2.540000e-06</td>\n",
       "    </tr>\n",
       "    <tr>\n",
       "      <th>3</th>\n",
       "      <td>histogram</td>\n",
       "      <td>bw=0.35</td>\n",
       "      <td>1.520558e-05</td>\n",
       "    </tr>\n",
       "    <tr>\n",
       "      <th>4</th>\n",
       "      <td>knn</td>\n",
       "      <td>k=10</td>\n",
       "      <td>1.190581e-05</td>\n",
       "    </tr>\n",
       "    <tr>\n",
       "      <th>5</th>\n",
       "      <td>knn</td>\n",
       "      <td>k=350</td>\n",
       "      <td>3.339049e-07</td>\n",
       "    </tr>\n",
       "    <tr>\n",
       "      <th>6</th>\n",
       "      <td>knn</td>\n",
       "      <td>k=5000</td>\n",
       "      <td>2.503313e-06</td>\n",
       "    </tr>\n",
       "  </tbody>\n",
       "</table>\n",
       "</div>"
      ],
      "text/plain": [
       "   algorithm    params           MSE\n",
       "0        kde  bw=0.266  6.400000e-07\n",
       "1        kde    bw=0.1  3.980000e-06\n",
       "2        kde    bw=0.4  2.540000e-06\n",
       "3  histogram   bw=0.35  1.520558e-05\n",
       "4        knn      k=10  1.190581e-05\n",
       "5        knn     k=350  3.339049e-07\n",
       "6        knn    k=5000  2.503313e-06"
      ]
     },
     "execution_count": 116,
     "metadata": {},
     "output_type": "execute_result"
    }
   ],
   "source": [
    "pacc"
   ]
  },
  {
   "cell_type": "code",
   "execution_count": 117,
   "metadata": {
    "collapsed": true
   },
   "outputs": [],
   "source": [
    "algorithms = [\"histogram\", \"kde\", \"knn\"]"
   ]
  },
  {
   "cell_type": "code",
   "execution_count": null,
   "metadata": {
    "collapsed": true
   },
   "outputs": [],
   "source": [
    "fig, axs = plt.subplots(nrows=1, ncols=1, dpi=300)\n",
    "ax = axs[0]\n",
    "for ai, alg in enumerate():\n",
    "    data = pacc[pacc.algorithm == alg]\n",
    "    xlocs = np.arange(0,len(algorithms)) * 5 + si\n",
    "    ax.bar(left=xlocs,height=pacc.mse,label=dname, color=colors[si])\n",
    "ax.set_xticks(np.arange(0,len(algorithms)) * 5 + 1.5)\n",
    "ax.set_xlim(np.array([-0.3,3])*5)\n",
    "ax.set_xticklabels(algorithms)\n",
    "ax.yaxis.grid(True)\n",
    "ax.set_xlabel(\"Algorithm\")\n",
    "ax.set_ylabel(\"MSE\")\n",
    "ax.set_title(\"MSE of pdf Estimates\")\n",
    "ax.legend(loc=0)\n",
    "fig.savefig(\"../figures/pdfacc.pdf\")\n",
    "plt.tight_layout()\n",
    "fig.clear()"
   ]
  }
 ],
 "metadata": {
  "kernelspec": {
   "display_name": "Python 3",
   "language": "python",
   "name": "python3"
  },
  "language_info": {
   "codemirror_mode": {
    "name": "ipython",
    "version": 3
   },
   "file_extension": ".py",
   "mimetype": "text/x-python",
   "name": "python",
   "nbconvert_exporter": "python",
   "pygments_lexer": "ipython3",
   "version": "3.5.2"
  }
 },
 "nbformat": 4,
 "nbformat_minor": 1
}
