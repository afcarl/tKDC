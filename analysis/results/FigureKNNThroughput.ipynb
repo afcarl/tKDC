{
 "cells": [
  {
   "cell_type": "code",
   "execution_count": 1,
   "metadata": {
    "collapsed": true
   },
   "outputs": [],
   "source": [
    "import matplotlib\n",
    "matplotlib.use('PDF')"
   ]
  },
  {
   "cell_type": "code",
   "execution_count": 3,
   "metadata": {
    "collapsed": true
   },
   "outputs": [],
   "source": [
    "import numpy as np\n",
    "import matplotlib.pyplot as plt\n",
    "import pandas as pd\n",
    "import math"
   ]
  },
  {
   "cell_type": "code",
   "execution_count": 4,
   "metadata": {
    "collapsed": true
   },
   "outputs": [],
   "source": [
    "plt.style.use('grayscale')"
   ]
  },
  {
   "cell_type": "code",
   "execution_count": 5,
   "metadata": {
    "collapsed": true
   },
   "outputs": [],
   "source": [
    "knn = pd.read_csv(\"./knn.csv\")"
   ]
  },
  {
   "cell_type": "code",
   "execution_count": 18,
   "metadata": {
    "collapsed": false
   },
   "outputs": [],
   "source": [
    "algorithms = [\"ic2\", \"sklearn\"]\n",
    "datasets = [\"energy\", \"home\"]\n",
    "markers = [\"o\",\"s\",]\n",
    "linestyles = [\"-\",\"-\"]"
   ]
  },
  {
   "cell_type": "code",
   "execution_count": 19,
   "metadata": {
    "collapsed": false
   },
   "outputs": [
    {
     "data": {
      "text/html": [
       "<div>\n",
       "<table border=\"1\" class=\"dataframe\">\n",
       "  <thead>\n",
       "    <tr style=\"text-align: right;\">\n",
       "      <th></th>\n",
       "      <th>data</th>\n",
       "      <th>dim</th>\n",
       "      <th>size</th>\n",
       "      <th>alg</th>\n",
       "      <th>train</th>\n",
       "      <th>test</th>\n",
       "      <th>throughput</th>\n",
       "    </tr>\n",
       "  </thead>\n",
       "  <tbody>\n",
       "    <tr>\n",
       "      <th>0</th>\n",
       "      <td>energy</td>\n",
       "      <td>2</td>\n",
       "      <td>1000000</td>\n",
       "      <td>sklearn</td>\n",
       "      <td>30.9</td>\n",
       "      <td>75.67</td>\n",
       "      <td>9383.5038</td>\n",
       "    </tr>\n",
       "  </tbody>\n",
       "</table>\n",
       "</div>"
      ],
      "text/plain": [
       "     data  dim     size      alg  train   test  throughput\n",
       "0  energy    2  1000000  sklearn   30.9  75.67   9383.5038"
      ]
     },
     "execution_count": 19,
     "metadata": {},
     "output_type": "execute_result"
    }
   ],
   "source": [
    "knn.head(1)"
   ]
  },
  {
   "cell_type": "code",
   "execution_count": 23,
   "metadata": {
    "collapsed": false
   },
   "outputs": [
    {
     "name": "stderr",
     "output_type": "stream",
     "text": [
      "/usr/local/lib/python3.5/site-packages/matplotlib/tight_layout.py:222: UserWarning: tight_layout : falling back to Agg renderer\n",
      "  warnings.warn(\"tight_layout : falling back to Agg renderer\")\n"
     ]
    }
   ],
   "source": [
    "fig, axs = plt.subplots(nrows=2, figsize=(7,6),dpi=300)\n",
    "\n",
    "for di in range(len(datasets)):\n",
    "    d = datasets[di]\n",
    "    ax = axs[di]\n",
    "    for i in range(len(algorithms)):\n",
    "        a = algorithms[i]\n",
    "        m = markers[i]\n",
    "        data = knn[(knn.data == d) & (knn.alg == a)]\n",
    "        ax.semilogy(data.dim, data.throughput, \n",
    "                    label=a, marker=m, linestyle=linestyles[i])\n",
    "    ax.set_xlim(0.5,8.5)\n",
    "    ax.yaxis.grid(True)\n",
    "    ax.set_xlabel(\"Dataset Dimensionality\")\n",
    "    ax.set_ylabel(\"Throughput (pts / s)\")\n",
    "    ax.set_title(\"Data: {}\".format(d))\n",
    "    if di == len(datasets) - 1:\n",
    "        ax.legend(loc=0, ncol=2)\n",
    "fig.tight_layout()\n",
    "fig.savefig(\"../figures/throughput_knn.pdf\")\n",
    "fig.clear()"
   ]
  },
  {
   "cell_type": "code",
   "execution_count": null,
   "metadata": {
    "collapsed": true
   },
   "outputs": [],
   "source": []
  }
 ],
 "metadata": {
  "kernelspec": {
   "display_name": "Python 3",
   "language": "python",
   "name": "python3"
  },
  "language_info": {
   "codemirror_mode": {
    "name": "ipython",
    "version": 3
   },
   "file_extension": ".py",
   "mimetype": "text/x-python",
   "name": "python",
   "nbconvert_exporter": "python",
   "pygments_lexer": "ipython3",
   "version": "3.5.2"
  }
 },
 "nbformat": 4,
 "nbformat_minor": 1
}
