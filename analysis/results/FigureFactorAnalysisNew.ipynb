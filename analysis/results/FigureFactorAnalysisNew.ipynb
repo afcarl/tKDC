{
 "cells": [
  {
   "cell_type": "code",
   "execution_count": 1,
   "metadata": {
    "collapsed": true
   },
   "outputs": [],
   "source": [
    "import matplotlib\n",
    "matplotlib.use('PDF')"
   ]
  },
  {
   "cell_type": "code",
   "execution_count": 2,
   "metadata": {
    "collapsed": true
   },
   "outputs": [],
   "source": [
    "import numpy as np\n",
    "import matplotlib.pyplot as plt\n",
    "import pandas as pd\n",
    "import math"
   ]
  },
  {
   "cell_type": "code",
   "execution_count": 3,
   "metadata": {
    "collapsed": true
   },
   "outputs": [],
   "source": [
    "def human_format(x):\n",
    "    sigpart = 0\n",
    "    suffix = \"\"\n",
    "    if x < 1000:\n",
    "        return \"{:.3g}\".format(x)\n",
    "    elif x < 1000000:\n",
    "        sigpart = x / 1000\n",
    "        suffix = \"k\"\n",
    "    elif x < 1000000000:\n",
    "        sigpart = x / 1000000\n",
    "        suffix = \"M\"\n",
    "    else:\n",
    "        sigpart = x / 1000000000\n",
    "        suffix = \"B\"\n",
    "    return \"{:.3g}{}\".format(sigpart, suffix)"
   ]
  },
  {
   "cell_type": "code",
   "execution_count": 16,
   "metadata": {
    "collapsed": false
   },
   "outputs": [
    {
     "data": {
      "text/html": [
       "<div>\n",
       "<table border=\"1\" class=\"dataframe\">\n",
       "  <thead>\n",
       "    <tr style=\"text-align: right;\">\n",
       "      <th></th>\n",
       "      <th>factor</th>\n",
       "      <th>throughput</th>\n",
       "      <th>kernels</th>\n",
       "    </tr>\n",
       "  </thead>\n",
       "  <tbody>\n",
       "    <tr>\n",
       "      <th>0</th>\n",
       "      <td>Baseline</td>\n",
       "      <td>10.0</td>\n",
       "      <td>566615.750000</td>\n",
       "    </tr>\n",
       "    <tr>\n",
       "      <th>1</th>\n",
       "      <td>+Threshold</td>\n",
       "      <td>4800.0</td>\n",
       "      <td>609.969100</td>\n",
       "    </tr>\n",
       "    <tr>\n",
       "      <th>2</th>\n",
       "      <td>+Tolerance</td>\n",
       "      <td>51000.0</td>\n",
       "      <td>151.139068</td>\n",
       "    </tr>\n",
       "    <tr>\n",
       "      <th>3</th>\n",
       "      <td>+Equiwidth</td>\n",
       "      <td>85000.0</td>\n",
       "      <td>90.919384</td>\n",
       "    </tr>\n",
       "    <tr>\n",
       "      <th>4</th>\n",
       "      <td>+Grid</td>\n",
       "      <td>114000.0</td>\n",
       "      <td>55.398756</td>\n",
       "    </tr>\n",
       "  </tbody>\n",
       "</table>\n",
       "</div>"
      ],
      "text/plain": [
       "       factor  throughput        kernels\n",
       "0    Baseline        10.0  566615.750000\n",
       "1  +Threshold      4800.0     609.969100\n",
       "2  +Tolerance     51000.0     151.139068\n",
       "3  +Equiwidth     85000.0      90.919384\n",
       "4       +Grid    114000.0      55.398756"
      ]
     },
     "execution_count": 16,
     "metadata": {},
     "output_type": "execute_result"
    }
   ],
   "source": [
    "factors = pd.read_csv(\"./factors.csv\")\n",
    "factors"
   ]
  },
  {
   "cell_type": "code",
   "execution_count": 17,
   "metadata": {
    "collapsed": false,
    "scrolled": true
   },
   "outputs": [
    {
     "data": {
      "text/html": [
       "<div>\n",
       "<table border=\"1\" class=\"dataframe\">\n",
       "  <thead>\n",
       "    <tr style=\"text-align: right;\">\n",
       "      <th></th>\n",
       "      <th>lesion</th>\n",
       "      <th>Num Scored</th>\n",
       "      <th>Scoring Time</th>\n",
       "      <th>throughput</th>\n",
       "      <th>Total Kernels</th>\n",
       "      <th>kernels</th>\n",
       "    </tr>\n",
       "  </thead>\n",
       "  <tbody>\n",
       "    <tr>\n",
       "      <th>0</th>\n",
       "      <td>Complete</td>\n",
       "      <td>500000</td>\n",
       "      <td>3.650</td>\n",
       "      <td>136986.301400</td>\n",
       "      <td>27699378</td>\n",
       "      <td>55.398756</td>\n",
       "    </tr>\n",
       "    <tr>\n",
       "      <th>1</th>\n",
       "      <td>-Threshold</td>\n",
       "      <td>50</td>\n",
       "      <td>1.697</td>\n",
       "      <td>29.463760</td>\n",
       "      <td>9659249</td>\n",
       "      <td>193184.980000</td>\n",
       "    </tr>\n",
       "    <tr>\n",
       "      <th>2</th>\n",
       "      <td>-Tolerance</td>\n",
       "      <td>50000</td>\n",
       "      <td>5.750</td>\n",
       "      <td>8695.652174</td>\n",
       "      <td>37719841</td>\n",
       "      <td>754.396820</td>\n",
       "    </tr>\n",
       "    <tr>\n",
       "      <th>3</th>\n",
       "      <td>-Equiwidth</td>\n",
       "      <td>500000</td>\n",
       "      <td>8.230</td>\n",
       "      <td>60753.341430</td>\n",
       "      <td>49021247</td>\n",
       "      <td>98.042494</td>\n",
       "    </tr>\n",
       "    <tr>\n",
       "      <th>4</th>\n",
       "      <td>-Grid</td>\n",
       "      <td>500000</td>\n",
       "      <td>5.370</td>\n",
       "      <td>93109.869650</td>\n",
       "      <td>45459692</td>\n",
       "      <td>90.919384</td>\n",
       "    </tr>\n",
       "  </tbody>\n",
       "</table>\n",
       "</div>"
      ],
      "text/plain": [
       "       lesion  Num Scored  Scoring Time     throughput  Total Kernels  \\\n",
       "0    Complete      500000         3.650  136986.301400       27699378   \n",
       "1  -Threshold          50         1.697      29.463760        9659249   \n",
       "2  -Tolerance       50000         5.750    8695.652174       37719841   \n",
       "3  -Equiwidth      500000         8.230   60753.341430       49021247   \n",
       "4       -Grid      500000         5.370   93109.869650       45459692   \n",
       "\n",
       "         kernels  \n",
       "0      55.398756  \n",
       "1  193184.980000  \n",
       "2     754.396820  \n",
       "3      98.042494  \n",
       "4      90.919384  "
      ]
     },
     "execution_count": 17,
     "metadata": {},
     "output_type": "execute_result"
    }
   ],
   "source": [
    "lesions = pd.read_csv(\"./lesion.csv\")\n",
    "lesions"
   ]
  },
  {
   "cell_type": "code",
   "execution_count": 18,
   "metadata": {
    "collapsed": false
   },
   "outputs": [],
   "source": [
    "def make_factor_chart(ax, labels, ys):\n",
    "    xs = np.array(range(len(ys)))\n",
    "    ax.bar(\n",
    "        xs,\n",
    "        ys,\n",
    "        log=True,\n",
    "    )\n",
    "    rects = ax.patches\n",
    "    for rect, label in zip(rects, ys):\n",
    "        height = rect.get_height()\n",
    "        ax.text(\n",
    "            rect.get_x() + rect.get_width()/2, \n",
    "            height,\n",
    "            human_format(float(label)),\n",
    "            ha='center', va='bottom', size = 8,\n",
    "        )\n",
    "    ax.set_xticks(xs)\n",
    "    ax.set_xticklabels(labels, rotation=-45,ha='left',va='top')\n",
    "#     ax.yaxis.grid(True)\n",
    "    return ax"
   ]
  },
  {
   "cell_type": "code",
   "execution_count": 19,
   "metadata": {
    "collapsed": false
   },
   "outputs": [
    {
     "name": "stderr",
     "output_type": "stream",
     "text": [
      "/usr/local/lib/python3.5/site-packages/matplotlib/tight_layout.py:222: UserWarning: tight_layout : falling back to Agg renderer\n",
      "  warnings.warn(\"tight_layout : falling back to Agg renderer\")\n"
     ]
    }
   ],
   "source": [
    "fig, axs = plt.subplots(ncols=2, figsize=(6,3.3),dpi=300)\n",
    "ax = axs[0]\n",
    "make_factor_chart(ax, factors.factor, factors.throughput)\n",
    "ax.set_ylim(1,10**6)\n",
    "ax.set_title(\"Throughput\")\n",
    "ax.set_ylabel(\"Points / s\")\n",
    "ax.set_xlabel(\"Optimization\")\n",
    "ax = axs[1]\n",
    "make_factor_chart(ax, factors.factor, factors.kernels)\n",
    "ax.set_ylim(10,2*10**6)\n",
    "ax.set_title(\"Kernel Evaluations\")\n",
    "ax.set_ylabel(\"Kernels Evaluations / pt\")\n",
    "ax.set_xlabel(\"Optimization\")\n",
    "\n",
    "fig.tight_layout()\n",
    "fig.savefig(\"../figures/factor_new.pdf\")\n",
    "fig.clear()"
   ]
  },
  {
   "cell_type": "code",
   "execution_count": 20,
   "metadata": {
    "collapsed": false
   },
   "outputs": [
    {
     "name": "stderr",
     "output_type": "stream",
     "text": [
      "/usr/local/lib/python3.5/site-packages/matplotlib/tight_layout.py:222: UserWarning: tight_layout : falling back to Agg renderer\n",
      "  warnings.warn(\"tight_layout : falling back to Agg renderer\")\n"
     ]
    }
   ],
   "source": [
    "fig, axs = plt.subplots(ncols=2, figsize=(6,3.3),dpi=300)\n",
    "ax = axs[0]\n",
    "make_factor_chart(ax, lesions.lesion, lesions.throughput)\n",
    "ax.set_ylim(1,10**6)\n",
    "ax.set_title(\"Throughput\")\n",
    "ax.set_ylabel(\"Points / s\")\n",
    "ax.set_xlabel(\"Optimization\")\n",
    "ax = axs[1]\n",
    "make_factor_chart(ax, lesions.lesion, lesions.kernels)\n",
    "ax.set_ylim(10,10**6)\n",
    "ax.set_title(\"Kernel Evaluations\")\n",
    "ax.set_ylabel(\"Kernels Evaluations / pt\")\n",
    "ax.set_xlabel(\"Optimization\")\n",
    "\n",
    "fig.tight_layout()\n",
    "fig.savefig(\"../figures/lesion_new.pdf\")\n",
    "fig.clear()"
   ]
  },
  {
   "cell_type": "code",
   "execution_count": null,
   "metadata": {
    "collapsed": true
   },
   "outputs": [],
   "source": []
  }
 ],
 "metadata": {
  "kernelspec": {
   "display_name": "Python 3",
   "language": "python",
   "name": "python3"
  },
  "language_info": {
   "codemirror_mode": {
    "name": "ipython",
    "version": 3
   },
   "file_extension": ".py",
   "mimetype": "text/x-python",
   "name": "python",
   "nbconvert_exporter": "python",
   "pygments_lexer": "ipython3",
   "version": "3.5.2"
  }
 },
 "nbformat": 4,
 "nbformat_minor": 1
}
