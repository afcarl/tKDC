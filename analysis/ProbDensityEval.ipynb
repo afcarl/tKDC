{
 "cells": [
  {
   "cell_type": "code",
   "execution_count": 1,
   "metadata": {
    "collapsed": true
   },
   "outputs": [],
   "source": [
    "import numpy as np\n",
    "import sklearn\n",
    "import scipy.stats\n",
    "import matplotlib\n",
    "matplotlib.use('PDF')\n",
    "%matplotlib inline\n",
    "import matplotlib.pyplot as plt\n",
    "import timeit\n",
    "import pandas as pd\n",
    "import math\n",
    "import itertools\n",
    "import time\n",
    "\n",
    "import sklearn.neighbors\n",
    "from sklearn.neighbors import (\n",
    "    KernelDensity,\n",
    "    KDTree,\n",
    ")"
   ]
  },
  {
   "cell_type": "code",
   "execution_count": 2,
   "metadata": {
    "collapsed": true
   },
   "outputs": [],
   "source": [
    "d = 4\n",
    "mu = np.zeros(d)\n",
    "cov = np.identity(d)"
   ]
  },
  {
   "cell_type": "code",
   "execution_count": 3,
   "metadata": {
    "collapsed": true
   },
   "outputs": [],
   "source": [
    "rv = scipy.stats.multivariate_normal(mu, cov)"
   ]
  },
  {
   "cell_type": "code",
   "execution_count": 4,
   "metadata": {
    "collapsed": false
   },
   "outputs": [],
   "source": [
    "samples = rv.rvs(size=10000000)\n",
    "s_pdfs = rv.pdf(samples)\n",
    "q_p = np.percentile(s_pdfs, 1)"
   ]
  },
  {
   "cell_type": "code",
   "execution_count": 5,
   "metadata": {
    "collapsed": false
   },
   "outputs": [],
   "source": [
    "n = 100000\n",
    "m = 20000\n",
    "score_samples = rv.rvs(size=n)\n",
    "score_pdfs = rv.pdf(score_samples)"
   ]
  },
  {
   "cell_type": "code",
   "execution_count": 11,
   "metadata": {
    "collapsed": true
   },
   "outputs": [],
   "source": [
    "def eval(t, pdfs):\n",
    "    predict = pdfs < t\n",
    "    true = score_pdfs[:m] < t\n",
    "    both = predict & true\n",
    "    return (np.sum(both), np.sum(predict), np.sum(true))"
   ]
  },
  {
   "cell_type": "markdown",
   "metadata": {},
   "source": [
    "# KDE"
   ]
  },
  {
   "cell_type": "code",
   "execution_count": 77,
   "metadata": {
    "collapsed": false
   },
   "outputs": [
    {
     "data": {
      "text/plain": [
       "0.26591479484724945"
      ]
     },
     "execution_count": 77,
     "metadata": {},
     "output_type": "execute_result"
    }
   ],
   "source": [
    "bw = (4/(d+4))**(1/(d+4)) * m ** (-1.0/(d+4))\n",
    "bw"
   ]
  },
  {
   "cell_type": "code",
   "execution_count": 78,
   "metadata": {
    "collapsed": false
   },
   "outputs": [
    {
     "name": "stdout",
     "output_type": "stream",
     "text": [
      "7.26484595601e-07\n",
      "(143, 161, 193)\n"
     ]
    }
   ],
   "source": [
    "kde = KernelDensity(\n",
    "    bandwidth=bw,\n",
    "    kernel='gaussian',\n",
    "    algorithm='kd_tree',\n",
    "    rtol=1e-3,\n",
    ")\n",
    "kde.fit(samples[:n])\n",
    "kde_scores = kde.score_samples(score_samples[:m])\n",
    "kde_pdfs = np.exp(kde_scores)\n",
    "kde_deltas = kdf_pdfs-score_pdfs[:m]\n",
    "print((np.mean(kde_deltas**2)))\n",
    "print(eval(q_p, kde_pdfs))"
   ]
  },
  {
   "cell_type": "code",
   "execution_count": 72,
   "metadata": {
    "collapsed": false
   },
   "outputs": [
    {
     "name": "stdout",
     "output_type": "stream",
     "text": [
      "4.03996208344e-06\n",
      "(182, 844, 193)\n"
     ]
    }
   ],
   "source": [
    "kde = KernelDensity(\n",
    "    bandwidth=0.1,\n",
    "    kernel='gaussian',\n",
    "    algorithm='kd_tree',\n",
    "    rtol=1e-3,\n",
    ")\n",
    "kde.fit(samples[:n])\n",
    "kde_scores = kde.score_samples(score_samples[:m])\n",
    "kde_pdfs = np.exp(kde_scores)\n",
    "kde_deltas = kde_pdfs-score_pdfs[:m]\n",
    "print((np.mean(kde_deltas**2)))\n",
    "print(eval(q_p, kde_pdfs))"
   ]
  },
  {
   "cell_type": "code",
   "execution_count": 79,
   "metadata": {
    "collapsed": false
   },
   "outputs": [
    {
     "name": "stdout",
     "output_type": "stream",
     "text": [
      "2.70921269421e-06\n",
      "(105, 105, 193)\n"
     ]
    }
   ],
   "source": [
    "kde = KernelDensity(\n",
    "    bandwidth=0.4,\n",
    "    kernel='gaussian',\n",
    "    algorithm='kd_tree',\n",
    "    rtol=1e-3,\n",
    ")\n",
    "kde.fit(samples[:n])\n",
    "kde_scores = kde.score_samples(score_samples[:m])\n",
    "kde_pdfs = np.exp(kde_scores)\n",
    "kde_deltas = kde_pdfs-score_pdfs[:m]\n",
    "print((np.mean(kde_deltas**2)))\n",
    "print(eval(q_p, kde_pdfs))"
   ]
  },
  {
   "cell_type": "markdown",
   "metadata": {},
   "source": [
    "# Histogram"
   ]
  },
  {
   "cell_type": "code",
   "execution_count": 80,
   "metadata": {
    "collapsed": false
   },
   "outputs": [
    {
     "data": {
      "text/plain": [
       "0.5137297436677244"
      ]
     },
     "execution_count": 80,
     "metadata": {},
     "output_type": "execute_result"
    }
   ],
   "source": [
    "bw = 3.5 * 1 * (n) ** (-1.0/(2+d))\n",
    "bw"
   ]
  },
  {
   "cell_type": "code",
   "execution_count": 47,
   "metadata": {
    "collapsed": false
   },
   "outputs": [
    {
     "data": {
      "text/plain": [
       "0.2480384600548332"
      ]
     },
     "execution_count": 47,
     "metadata": {},
     "output_type": "execute_result"
    }
   ],
   "source": [
    "math.log(n) * n ** (-1.0/3)"
   ]
  },
  {
   "cell_type": "code",
   "execution_count": 27,
   "metadata": {
    "collapsed": true
   },
   "outputs": [],
   "source": [
    "def calc_hist(bdelta):\n",
    "    bins_1d = np.arange(-4, 4.1, bdelta)\n",
    "    bins = np.array([bins_1d] * d)\n",
    "    def to_bin(x):\n",
    "        idxs = np.searchsorted(bins_1d, x)\n",
    "        return np.minimum(np.maximum(idxs,0),len(bins_1d)-2)\n",
    "    H, edges = np.histogramdd(samples[:n], bins=bins, normed=True)\n",
    "    hist_scores = [\n",
    "        H[tuple(to_bin(cursample))] for cursample in score_samples[:m]\n",
    "    ]\n",
    "    return hist_scores"
   ]
  },
  {
   "cell_type": "code",
   "execution_count": 81,
   "metadata": {
    "collapsed": false
   },
   "outputs": [
    {
     "name": "stdout",
     "output_type": "stream",
     "text": [
      "2.23197325223e-05\n",
      "(150, 1437, 193)\n"
     ]
    }
   ],
   "source": [
    "hist_scores = calc_hist(0.51)\n",
    "deltas = hist_scores-score_pdfs[:m]\n",
    "print((np.mean(deltas**2)))\n",
    "print(eval(q_p, hist_scores))"
   ]
  },
  {
   "cell_type": "code",
   "execution_count": 51,
   "metadata": {
    "collapsed": false
   },
   "outputs": [
    {
     "name": "stdout",
     "output_type": "stream",
     "text": [
      "1.54572120755e-05\n",
      "(187, 4213, 193)\n"
     ]
    }
   ],
   "source": [
    "hist_scores = calc_hist(0.3)\n",
    "deltas = hist_scores-score_pdfs[:m]\n",
    "print((np.mean(deltas**2)))\n",
    "print(eval(q_p, hist_scores))"
   ]
  },
  {
   "cell_type": "code",
   "execution_count": 52,
   "metadata": {
    "collapsed": false
   },
   "outputs": [
    {
     "name": "stdout",
     "output_type": "stream",
     "text": [
      "3.49451432945e-05\n",
      "(112, 1079, 193)\n"
     ]
    }
   ],
   "source": [
    "hist_scores = calc_hist(0.7)\n",
    "deltas = hist_scores-score_pdfs[:m]\n",
    "print((np.mean(deltas**2)))\n",
    "print(eval(q_p, hist_scores))"
   ]
  },
  {
   "cell_type": "markdown",
   "metadata": {},
   "source": [
    "# KNN"
   ]
  },
  {
   "cell_type": "code",
   "execution_count": 54,
   "metadata": {
    "collapsed": false
   },
   "outputs": [
    {
     "data": {
      "text/plain": [
       "316.22776601683796"
      ]
     },
     "execution_count": 54,
     "metadata": {},
     "output_type": "execute_result"
    }
   ],
   "source": [
    "bk = n ** (4/(4+d))\n",
    "bk"
   ]
  },
  {
   "cell_type": "code",
   "execution_count": 19,
   "metadata": {
    "collapsed": true
   },
   "outputs": [],
   "source": [
    "import scipy.special\n",
    "def vol_sphere(n,r):\n",
    "    return (math.pi)**(n/2)/(scipy.special.gamma(n/2+1)) * r**n"
   ]
  },
  {
   "cell_type": "code",
   "execution_count": 20,
   "metadata": {
    "collapsed": true
   },
   "outputs": [],
   "source": [
    "vsphere = vol_sphere(4,1)"
   ]
  },
  {
   "cell_type": "code",
   "execution_count": 21,
   "metadata": {
    "collapsed": true
   },
   "outputs": [],
   "source": [
    "tree = KDTree(samples[:n])"
   ]
  },
  {
   "cell_type": "code",
   "execution_count": 22,
   "metadata": {
    "collapsed": true
   },
   "outputs": [],
   "source": [
    "def calc_knn(k):\n",
    "    distances, _ = tree.query(score_samples[:m], k=k)\n",
    "    knndistances = distances[:,k-1]\n",
    "    knn_scores = (k/n) / (vsphere * np.power(knndistances, d))\n",
    "    return knn_scores"
   ]
  },
  {
   "cell_type": "code",
   "execution_count": 71,
   "metadata": {
    "collapsed": false
   },
   "outputs": [
    {
     "name": "stdout",
     "output_type": "stream",
     "text": [
      "0.000174160834315\n",
      "(124, 142, 193)\n"
     ]
    }
   ],
   "source": [
    "knn_scores = calc_knn(3)\n",
    "knn_deltas = knn_scores-score_pdfs[:m]\n",
    "print((np.mean(knn_deltas**2)))\n",
    "print(eval(q_p, knn_scores))"
   ]
  },
  {
   "cell_type": "code",
   "execution_count": 82,
   "metadata": {
    "collapsed": false
   },
   "outputs": [
    {
     "name": "stdout",
     "output_type": "stream",
     "text": [
      "3.77459536199e-07\n",
      "(19, 19, 193)\n"
     ]
    }
   ],
   "source": [
    "knn_scores = calc_knn(316)\n",
    "knn_deltas = knn_scores-score_pdfs[:m]\n",
    "print((np.mean(knn_deltas**2)))\n",
    "print(eval(q_p, knn_scores))"
   ]
  },
  {
   "cell_type": "code",
   "execution_count": 63,
   "metadata": {
    "collapsed": false
   },
   "outputs": [
    {
     "name": "stdout",
     "output_type": "stream",
     "text": [
      "6.20704965401e-07\n",
      "(6, 6, 193)\n"
     ]
    }
   ],
   "source": [
    "knn_scores = calc_knn(1000)\n",
    "knn_deltas = knn_scores-score_pdfs[:m]\n",
    "print((np.mean(knn_deltas**2)))\n",
    "print(eval(q_p, knn_scores))"
   ]
  }
 ],
 "metadata": {
  "kernelspec": {
   "display_name": "Python 3",
   "language": "python",
   "name": "python3"
  },
  "language_info": {
   "codemirror_mode": {
    "name": "ipython",
    "version": 3
   },
   "file_extension": ".py",
   "mimetype": "text/x-python",
   "name": "python",
   "nbconvert_exporter": "python",
   "pygments_lexer": "ipython3",
   "version": "3.5.2"
  }
 },
 "nbformat": 4,
 "nbformat_minor": 1
}
