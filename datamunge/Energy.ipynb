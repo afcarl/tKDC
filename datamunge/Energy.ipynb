{
 "cells": [
  {
   "cell_type": "code",
   "execution_count": 2,
   "metadata": {
    "collapsed": true
   },
   "outputs": [],
   "source": [
    "%matplotlib inline\n",
    "import matplotlib.pyplot as plt\n",
    "import pandas as pd\n",
    "import numpy as np"
   ]
  },
  {
   "cell_type": "code",
   "execution_count": 3,
   "metadata": {
    "collapsed": false
   },
   "outputs": [],
   "source": [
    "df = pd.read_csv(\"raw_tmy3.csv\")"
   ]
  },
  {
   "cell_type": "code",
   "execution_count": null,
   "metadata": {
    "collapsed": true
   },
   "outputs": [],
   "source": [
    "newcolumns = [\n",
    "    'Cooling:Electricity [kW](Hourly)',\n",
    "    'Electricity:Facility [kW](Hourly)',\n",
    "    'Fans:Electricity [kW](Hourly)',\n",
    "    'Gas:Facility [kW](Hourly)',\n",
    "    'Heating:Electricity [kW](Hourly)',\n",
    "    'Heating:Gas [kW](Hourly)',\n",
    "    'InteriorEquipment:Electricity [kW](Hourly)',\n",
    "    'InteriorLights:Electricity [kW](Hourly)'\n",
    "]"
   ]
  },
  {
   "cell_type": "code",
   "execution_count": 5,
   "metadata": {
    "collapsed": true
   },
   "outputs": [],
   "source": [
    "origcolumns = [\n",
    "    'Cooling:Electricity [kW](Hourly)',\n",
    "    'Electricity:Facility [kW](Hourly)',\n",
    "    'Fans:Electricity [kW](Hourly)',\n",
    "    'Gas:Facility [kW](Hourly)',\n",
    "#     'Heating:Electricity [kW](Hourly)',\n",
    "    'Heating:Gas [kW](Hourly)',\n",
    "    'InteriorEquipment:Electricity [kW](Hourly)',\n",
    "    'InteriorLights:Electricity [kW](Hourly)',\n",
    "    'Water Heater:WaterSystems:Gas [kW](Hourly)'\n",
    "]"
   ]
  },
  {
   "cell_type": "code",
   "execution_count": 6,
   "metadata": {
    "collapsed": false
   },
   "outputs": [],
   "source": [
    "dfs = df[origcolumns].dropna()"
   ]
  },
  {
   "cell_type": "code",
   "execution_count": 9,
   "metadata": {
    "collapsed": false
   },
   "outputs": [],
   "source": [
    "np.random.seed(0)\n",
    "shuffled = dfs.reindex(np.random.permutation(dfs.index))"
   ]
  },
  {
   "cell_type": "code",
   "execution_count": 11,
   "metadata": {
    "collapsed": false
   },
   "outputs": [
    {
     "data": {
      "text/html": [
       "<div>\n",
       "<table border=\"1\" class=\"dataframe\">\n",
       "  <thead>\n",
       "    <tr style=\"text-align: right;\">\n",
       "      <th></th>\n",
       "      <th>Cooling:Electricity [kW](Hourly)</th>\n",
       "      <th>Electricity:Facility [kW](Hourly)</th>\n",
       "      <th>Fans:Electricity [kW](Hourly)</th>\n",
       "      <th>Gas:Facility [kW](Hourly)</th>\n",
       "      <th>Heating:Gas [kW](Hourly)</th>\n",
       "      <th>InteriorEquipment:Electricity [kW](Hourly)</th>\n",
       "      <th>InteriorLights:Electricity [kW](Hourly)</th>\n",
       "      <th>Water Heater:WaterSystems:Gas [kW](Hourly)</th>\n",
       "    </tr>\n",
       "  </thead>\n",
       "  <tbody>\n",
       "    <tr>\n",
       "      <th>count</th>\n",
       "      <td>1.822080e+06</td>\n",
       "      <td>1.822080e+06</td>\n",
       "      <td>1.822080e+06</td>\n",
       "      <td>1.822080e+06</td>\n",
       "      <td>1.822080e+06</td>\n",
       "      <td>1.822080e+06</td>\n",
       "      <td>1.822080e+06</td>\n",
       "      <td>1.822080e+06</td>\n",
       "    </tr>\n",
       "    <tr>\n",
       "      <th>mean</th>\n",
       "      <td>6.784128e+01</td>\n",
       "      <td>2.414480e+02</td>\n",
       "      <td>2.009061e+01</td>\n",
       "      <td>1.008590e+02</td>\n",
       "      <td>6.610461e+01</td>\n",
       "      <td>6.438061e+01</td>\n",
       "      <td>4.674443e+01</td>\n",
       "      <td>2.224945e+01</td>\n",
       "    </tr>\n",
       "    <tr>\n",
       "      <th>std</th>\n",
       "      <td>1.442080e+02</td>\n",
       "      <td>3.475194e+02</td>\n",
       "      <td>3.006521e+01</td>\n",
       "      <td>1.944019e+02</td>\n",
       "      <td>1.713237e+02</td>\n",
       "      <td>8.860980e+01</td>\n",
       "      <td>8.176735e+01</td>\n",
       "      <td>6.309511e+01</td>\n",
       "    </tr>\n",
       "    <tr>\n",
       "      <th>min</th>\n",
       "      <td>0.000000e+00</td>\n",
       "      <td>1.925019e+00</td>\n",
       "      <td>0.000000e+00</td>\n",
       "      <td>2.000000e-02</td>\n",
       "      <td>0.000000e+00</td>\n",
       "      <td>1.650016e+00</td>\n",
       "      <td>2.750027e-01</td>\n",
       "      <td>2.000000e-02</td>\n",
       "    </tr>\n",
       "    <tr>\n",
       "      <th>25%</th>\n",
       "      <td>0.000000e+00</td>\n",
       "      <td>3.466840e+01</td>\n",
       "      <td>1.065055e+00</td>\n",
       "      <td>3.931954e+00</td>\n",
       "      <td>0.000000e+00</td>\n",
       "      <td>1.598889e+01</td>\n",
       "      <td>3.827051e+00</td>\n",
       "      <td>4.530870e-01</td>\n",
       "    </tr>\n",
       "    <tr>\n",
       "      <th>50%</th>\n",
       "      <td>2.654474e+00</td>\n",
       "      <td>9.756882e+01</td>\n",
       "      <td>4.496972e+00</td>\n",
       "      <td>2.436979e+01</td>\n",
       "      <td>2.819476e-02</td>\n",
       "      <td>2.924237e+01</td>\n",
       "      <td>1.586394e+01</td>\n",
       "      <td>2.889609e+00</td>\n",
       "    </tr>\n",
       "    <tr>\n",
       "      <th>75%</th>\n",
       "      <td>4.317880e+01</td>\n",
       "      <td>2.681394e+02</td>\n",
       "      <td>3.029920e+01</td>\n",
       "      <td>9.696293e+01</td>\n",
       "      <td>4.947303e+01</td>\n",
       "      <td>7.040331e+01</td>\n",
       "      <td>4.351334e+01</td>\n",
       "      <td>1.275180e+01</td>\n",
       "    </tr>\n",
       "    <tr>\n",
       "      <th>max</th>\n",
       "      <td>1.025821e+03</td>\n",
       "      <td>2.002722e+03</td>\n",
       "      <td>3.555147e+02</td>\n",
       "      <td>5.230707e+03</td>\n",
       "      <td>5.219752e+03</td>\n",
       "      <td>4.485665e+02</td>\n",
       "      <td>4.485665e+02</td>\n",
       "      <td>7.838759e+02</td>\n",
       "    </tr>\n",
       "  </tbody>\n",
       "</table>\n",
       "</div>"
      ],
      "text/plain": [
       "       Cooling:Electricity [kW](Hourly)  Electricity:Facility [kW](Hourly)  \\\n",
       "count                      1.822080e+06                       1.822080e+06   \n",
       "mean                       6.784128e+01                       2.414480e+02   \n",
       "std                        1.442080e+02                       3.475194e+02   \n",
       "min                        0.000000e+00                       1.925019e+00   \n",
       "25%                        0.000000e+00                       3.466840e+01   \n",
       "50%                        2.654474e+00                       9.756882e+01   \n",
       "75%                        4.317880e+01                       2.681394e+02   \n",
       "max                        1.025821e+03                       2.002722e+03   \n",
       "\n",
       "       Fans:Electricity [kW](Hourly)  Gas:Facility [kW](Hourly)  \\\n",
       "count                   1.822080e+06               1.822080e+06   \n",
       "mean                    2.009061e+01               1.008590e+02   \n",
       "std                     3.006521e+01               1.944019e+02   \n",
       "min                     0.000000e+00               2.000000e-02   \n",
       "25%                     1.065055e+00               3.931954e+00   \n",
       "50%                     4.496972e+00               2.436979e+01   \n",
       "75%                     3.029920e+01               9.696293e+01   \n",
       "max                     3.555147e+02               5.230707e+03   \n",
       "\n",
       "       Heating:Gas [kW](Hourly)  InteriorEquipment:Electricity [kW](Hourly)  \\\n",
       "count              1.822080e+06                                1.822080e+06   \n",
       "mean               6.610461e+01                                6.438061e+01   \n",
       "std                1.713237e+02                                8.860980e+01   \n",
       "min                0.000000e+00                                1.650016e+00   \n",
       "25%                0.000000e+00                                1.598889e+01   \n",
       "50%                2.819476e-02                                2.924237e+01   \n",
       "75%                4.947303e+01                                7.040331e+01   \n",
       "max                5.219752e+03                                4.485665e+02   \n",
       "\n",
       "       InteriorLights:Electricity [kW](Hourly)  \\\n",
       "count                             1.822080e+06   \n",
       "mean                              4.674443e+01   \n",
       "std                               8.176735e+01   \n",
       "min                               2.750027e-01   \n",
       "25%                               3.827051e+00   \n",
       "50%                               1.586394e+01   \n",
       "75%                               4.351334e+01   \n",
       "max                               4.485665e+02   \n",
       "\n",
       "       Water Heater:WaterSystems:Gas [kW](Hourly)  \n",
       "count                                1.822080e+06  \n",
       "mean                                 2.224945e+01  \n",
       "std                                  6.309511e+01  \n",
       "min                                  2.000000e-02  \n",
       "25%                                  4.530870e-01  \n",
       "50%                                  2.889609e+00  \n",
       "75%                                  1.275180e+01  \n",
       "max                                  7.838759e+02  "
      ]
     },
     "execution_count": 11,
     "metadata": {},
     "output_type": "execute_result"
    }
   ],
   "source": [
    "shuffled.describe()"
   ]
  },
  {
   "cell_type": "code",
   "execution_count": 10,
   "metadata": {
    "collapsed": false
   },
   "outputs": [
    {
     "data": {
      "text/html": [
       "<div>\n",
       "<table border=\"1\" class=\"dataframe\">\n",
       "  <thead>\n",
       "    <tr style=\"text-align: right;\">\n",
       "      <th></th>\n",
       "      <th>Cooling:Electricity [kW](Hourly)</th>\n",
       "      <th>Electricity:Facility [kW](Hourly)</th>\n",
       "      <th>Fans:Electricity [kW](Hourly)</th>\n",
       "      <th>Gas:Facility [kW](Hourly)</th>\n",
       "      <th>Heating:Gas [kW](Hourly)</th>\n",
       "      <th>InteriorEquipment:Electricity [kW](Hourly)</th>\n",
       "      <th>InteriorLights:Electricity [kW](Hourly)</th>\n",
       "      <th>Water Heater:WaterSystems:Gas [kW](Hourly)</th>\n",
       "    </tr>\n",
       "  </thead>\n",
       "  <tbody>\n",
       "    <tr>\n",
       "      <th>110814</th>\n",
       "      <td>448.983357</td>\n",
       "      <td>950.005897</td>\n",
       "      <td>28.718116</td>\n",
       "      <td>54.803104</td>\n",
       "      <td>52.609885</td>\n",
       "      <td>199.362908</td>\n",
       "      <td>49.840727</td>\n",
       "      <td>2.193219</td>\n",
       "    </tr>\n",
       "    <tr>\n",
       "      <th>390079</th>\n",
       "      <td>56.618095</td>\n",
       "      <td>180.257796</td>\n",
       "      <td>4.980460</td>\n",
       "      <td>1.103740</td>\n",
       "      <td>0.000000</td>\n",
       "      <td>70.403312</td>\n",
       "      <td>48.247488</td>\n",
       "      <td>1.103740</td>\n",
       "    </tr>\n",
       "    <tr>\n",
       "      <th>242105</th>\n",
       "      <td>51.474262</td>\n",
       "      <td>119.039229</td>\n",
       "      <td>4.734188</td>\n",
       "      <td>0.020000</td>\n",
       "      <td>0.000000</td>\n",
       "      <td>36.018179</td>\n",
       "      <td>26.804160</td>\n",
       "      <td>0.020000</td>\n",
       "    </tr>\n",
       "    <tr>\n",
       "      <th>1327334</th>\n",
       "      <td>21.565762</td>\n",
       "      <td>44.093216</td>\n",
       "      <td>4.260077</td>\n",
       "      <td>3.863269</td>\n",
       "      <td>0.000000</td>\n",
       "      <td>13.554968</td>\n",
       "      <td>4.712408</td>\n",
       "      <td>3.863269</td>\n",
       "    </tr>\n",
       "    <tr>\n",
       "      <th>22490</th>\n",
       "      <td>13.406961</td>\n",
       "      <td>45.759141</td>\n",
       "      <td>6.525781</td>\n",
       "      <td>0.020000</td>\n",
       "      <td>0.000000</td>\n",
       "      <td>10.029932</td>\n",
       "      <td>8.257187</td>\n",
       "      <td>0.020000</td>\n",
       "    </tr>\n",
       "  </tbody>\n",
       "</table>\n",
       "</div>"
      ],
      "text/plain": [
       "         Cooling:Electricity [kW](Hourly)  Electricity:Facility [kW](Hourly)  \\\n",
       "110814                         448.983357                         950.005897   \n",
       "390079                          56.618095                         180.257796   \n",
       "242105                          51.474262                         119.039229   \n",
       "1327334                         21.565762                          44.093216   \n",
       "22490                           13.406961                          45.759141   \n",
       "\n",
       "         Fans:Electricity [kW](Hourly)  Gas:Facility [kW](Hourly)  \\\n",
       "110814                       28.718116                  54.803104   \n",
       "390079                        4.980460                   1.103740   \n",
       "242105                        4.734188                   0.020000   \n",
       "1327334                       4.260077                   3.863269   \n",
       "22490                         6.525781                   0.020000   \n",
       "\n",
       "         Heating:Gas [kW](Hourly)  InteriorEquipment:Electricity [kW](Hourly)  \\\n",
       "110814                  52.609885                                  199.362908   \n",
       "390079                   0.000000                                   70.403312   \n",
       "242105                   0.000000                                   36.018179   \n",
       "1327334                  0.000000                                   13.554968   \n",
       "22490                    0.000000                                   10.029932   \n",
       "\n",
       "         InteriorLights:Electricity [kW](Hourly)  \\\n",
       "110814                                 49.840727   \n",
       "390079                                 48.247488   \n",
       "242105                                 26.804160   \n",
       "1327334                                 4.712408   \n",
       "22490                                   8.257187   \n",
       "\n",
       "         Water Heater:WaterSystems:Gas [kW](Hourly)  \n",
       "110814                                     2.193219  \n",
       "390079                                     1.103740  \n",
       "242105                                     0.020000  \n",
       "1327334                                    3.863269  \n",
       "22490                                      0.020000  "
      ]
     },
     "execution_count": 10,
     "metadata": {},
     "output_type": "execute_result"
    }
   ],
   "source": [
    "shuffled.head()"
   ]
  },
  {
   "cell_type": "code",
   "execution_count": 12,
   "metadata": {
    "collapsed": true
   },
   "outputs": [],
   "source": [
    "shuffled.to_csv(\"shuffled_otmy3.csv\", index=False)"
   ]
  },
  {
   "cell_type": "code",
   "execution_count": null,
   "metadata": {
    "collapsed": true
   },
   "outputs": [],
   "source": []
  }
 ],
 "metadata": {
  "kernelspec": {
   "display_name": "Python 3",
   "language": "python",
   "name": "python3"
  },
  "language_info": {
   "codemirror_mode": {
    "name": "ipython",
    "version": 3
   },
   "file_extension": ".py",
   "mimetype": "text/x-python",
   "name": "python",
   "nbconvert_exporter": "python",
   "pygments_lexer": "ipython3",
   "version": "3.5.2"
  }
 },
 "nbformat": 4,
 "nbformat_minor": 2
}
