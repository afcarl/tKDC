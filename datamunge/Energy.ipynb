{
 "cells": [
  {
   "cell_type": "code",
   "execution_count": 1,
   "metadata": {
    "collapsed": true
   },
   "outputs": [],
   "source": [
    "%matplotlib inline\n",
    "import matplotlib.pyplot as plt\n",
    "import pandas as pd\n",
    "import numpy as np"
   ]
  },
  {
   "cell_type": "code",
   "execution_count": 2,
   "metadata": {
    "collapsed": false
   },
   "outputs": [],
   "source": [
    "df = pd.read_csv(\"raw_tmy3.csv\")"
   ]
  },
  {
   "cell_type": "code",
   "execution_count": null,
   "metadata": {
    "collapsed": true
   },
   "outputs": [],
   "source": [
    "electricity_facility_kw,\n",
    "interiorequipment_electricity_kw,\n",
    "interiorlights_electricity_kw,\n",
    "fans_electricity_kw,\n",
    "cooling_electricity_kw,\n",
    "gas_facility_kw,\n",
    "water_heater_watersystems_gas_kw,\n",
    "heating_gas_kw"
   ]
  },
  {
   "cell_type": "code",
   "execution_count": 14,
   "metadata": {
    "collapsed": false
   },
   "outputs": [
    {
     "data": {
      "text/plain": [
       "Index(['Cooling:Electricity [kW](Hourly)', 'Date/Time',\n",
       "       'Electricity:Facility [kW](Hourly)',\n",
       "       'Electricity:Facility [kW](Monthly)', 'Fans:Electricity [kW](Hourly)',\n",
       "       'Gas:Facility [kW](Hourly)', 'Gas:Facility [kW](Monthly)',\n",
       "       'Heating:Electricity [kW](Hourly)', 'Heating:Gas [kW](Hourly)',\n",
       "       'InteriorEquipment:Electricity [kW](Hourly)',\n",
       "       'InteriorEquipment:Gas [kW](Hourly)',\n",
       "       'InteriorLights:Electricity [kW](Hourly)',\n",
       "       'Water Heater:WaterSystems:Gas [kW](Hourly)'],\n",
       "      dtype='object')"
      ]
     },
     "execution_count": 14,
     "metadata": {},
     "output_type": "execute_result"
    }
   ],
   "source": [
    "df.columns"
   ]
  },
  {
   "cell_type": "code",
   "execution_count": 5,
   "metadata": {
    "collapsed": false
   },
   "outputs": [],
   "source": [
    "dfs = df[[\n",
    "    'Cooling:Electricity [kW](Hourly)',\n",
    "    'Electricity:Facility [kW](Hourly)',\n",
    "    'Fans:Electricity [kW](Hourly)',\n",
    "    'Gas:Facility [kW](Hourly)',\n",
    "    'Heating:Electricity [kW](Hourly)',\n",
    "    'Heating:Gas [kW](Hourly)',\n",
    "    'InteriorEquipment:Electricity [kW](Hourly)',\n",
    "    'InteriorLights:Electricity [kW](Hourly)'\n",
    "]]"
   ]
  },
  {
   "cell_type": "code",
   "execution_count": 6,
   "metadata": {
    "collapsed": false
   },
   "outputs": [
    {
     "data": {
      "text/html": [
       "<div>\n",
       "<table border=\"1\" class=\"dataframe\">\n",
       "  <thead>\n",
       "    <tr style=\"text-align: right;\">\n",
       "      <th></th>\n",
       "      <th>Cooling:Electricity [kW](Hourly)</th>\n",
       "      <th>Electricity:Facility [kW](Hourly)</th>\n",
       "      <th>Fans:Electricity [kW](Hourly)</th>\n",
       "      <th>Gas:Facility [kW](Hourly)</th>\n",
       "      <th>Heating:Electricity [kW](Hourly)</th>\n",
       "      <th>Heating:Gas [kW](Hourly)</th>\n",
       "      <th>InteriorEquipment:Electricity [kW](Hourly)</th>\n",
       "      <th>InteriorLights:Electricity [kW](Hourly)</th>\n",
       "    </tr>\n",
       "  </thead>\n",
       "  <tbody>\n",
       "    <tr>\n",
       "      <th>count</th>\n",
       "      <td>2.242560e+06</td>\n",
       "      <td>2.242560e+06</td>\n",
       "      <td>2.242560e+06</td>\n",
       "      <td>2.242560e+06</td>\n",
       "      <td>2.242560e+06</td>\n",
       "      <td>2.242560e+06</td>\n",
       "      <td>2.242560e+06</td>\n",
       "      <td>2.242560e+06</td>\n",
       "    </tr>\n",
       "    <tr>\n",
       "      <th>mean</th>\n",
       "      <td>5.573749e+01</td>\n",
       "      <td>2.026605e+02</td>\n",
       "      <td>1.737484e+01</td>\n",
       "      <td>8.570944e+01</td>\n",
       "      <td>8.604808e-01</td>\n",
       "      <td>5.747153e+01</td>\n",
       "      <td>5.320615e+01</td>\n",
       "      <td>4.099851e+01</td>\n",
       "    </tr>\n",
       "    <tr>\n",
       "      <th>std</th>\n",
       "      <td>1.324653e+02</td>\n",
       "      <td>3.236626e+02</td>\n",
       "      <td>2.779136e+01</td>\n",
       "      <td>1.790108e+02</td>\n",
       "      <td>6.315979e+00</td>\n",
       "      <td>1.565745e+02</td>\n",
       "      <td>8.320484e+01</td>\n",
       "      <td>7.496627e+01</td>\n",
       "    </tr>\n",
       "    <tr>\n",
       "      <th>min</th>\n",
       "      <td>0.000000e+00</td>\n",
       "      <td>1.925019e+00</td>\n",
       "      <td>0.000000e+00</td>\n",
       "      <td>0.000000e+00</td>\n",
       "      <td>0.000000e+00</td>\n",
       "      <td>0.000000e+00</td>\n",
       "      <td>1.011600e+00</td>\n",
       "      <td>2.750027e-01</td>\n",
       "    </tr>\n",
       "    <tr>\n",
       "      <th>25%</th>\n",
       "      <td>0.000000e+00</td>\n",
       "      <td>2.570165e+01</td>\n",
       "      <td>4.674095e-01</td>\n",
       "      <td>2.188363e+00</td>\n",
       "      <td>0.000000e+00</td>\n",
       "      <td>0.000000e+00</td>\n",
       "      <td>8.089532e+00</td>\n",
       "      <td>3.788942e+00</td>\n",
       "    </tr>\n",
       "    <tr>\n",
       "      <th>50%</th>\n",
       "      <td>3.877530e-01</td>\n",
       "      <td>6.270715e+01</td>\n",
       "      <td>4.608322e+00</td>\n",
       "      <td>1.529165e+01</td>\n",
       "      <td>0.000000e+00</td>\n",
       "      <td>0.000000e+00</td>\n",
       "      <td>2.064387e+01</td>\n",
       "      <td>1.586394e+01</td>\n",
       "    </tr>\n",
       "    <tr>\n",
       "      <th>75%</th>\n",
       "      <td>2.590106e+01</td>\n",
       "      <td>2.218949e+02</td>\n",
       "      <td>2.585433e+01</td>\n",
       "      <td>7.898631e+01</td>\n",
       "      <td>0.000000e+00</td>\n",
       "      <td>4.133749e+01</td>\n",
       "      <td>5.323874e+01</td>\n",
       "      <td>4.351334e+01</td>\n",
       "    </tr>\n",
       "    <tr>\n",
       "      <th>max</th>\n",
       "      <td>1.025821e+03</td>\n",
       "      <td>2.002722e+03</td>\n",
       "      <td>3.555147e+02</td>\n",
       "      <td>5.230707e+03</td>\n",
       "      <td>3.230758e+02</td>\n",
       "      <td>5.219752e+03</td>\n",
       "      <td>4.485665e+02</td>\n",
       "      <td>4.485665e+02</td>\n",
       "    </tr>\n",
       "  </tbody>\n",
       "</table>\n",
       "</div>"
      ],
      "text/plain": [
       "       Cooling:Electricity [kW](Hourly)  Electricity:Facility [kW](Hourly)  \\\n",
       "count                      2.242560e+06                       2.242560e+06   \n",
       "mean                       5.573749e+01                       2.026605e+02   \n",
       "std                        1.324653e+02                       3.236626e+02   \n",
       "min                        0.000000e+00                       1.925019e+00   \n",
       "25%                        0.000000e+00                       2.570165e+01   \n",
       "50%                        3.877530e-01                       6.270715e+01   \n",
       "75%                        2.590106e+01                       2.218949e+02   \n",
       "max                        1.025821e+03                       2.002722e+03   \n",
       "\n",
       "       Fans:Electricity [kW](Hourly)  Gas:Facility [kW](Hourly)  \\\n",
       "count                   2.242560e+06               2.242560e+06   \n",
       "mean                    1.737484e+01               8.570944e+01   \n",
       "std                     2.779136e+01               1.790108e+02   \n",
       "min                     0.000000e+00               0.000000e+00   \n",
       "25%                     4.674095e-01               2.188363e+00   \n",
       "50%                     4.608322e+00               1.529165e+01   \n",
       "75%                     2.585433e+01               7.898631e+01   \n",
       "max                     3.555147e+02               5.230707e+03   \n",
       "\n",
       "       Heating:Electricity [kW](Hourly)  Heating:Gas [kW](Hourly)  \\\n",
       "count                      2.242560e+06              2.242560e+06   \n",
       "mean                       8.604808e-01              5.747153e+01   \n",
       "std                        6.315979e+00              1.565745e+02   \n",
       "min                        0.000000e+00              0.000000e+00   \n",
       "25%                        0.000000e+00              0.000000e+00   \n",
       "50%                        0.000000e+00              0.000000e+00   \n",
       "75%                        0.000000e+00              4.133749e+01   \n",
       "max                        3.230758e+02              5.219752e+03   \n",
       "\n",
       "       InteriorEquipment:Electricity [kW](Hourly)  \\\n",
       "count                                2.242560e+06   \n",
       "mean                                 5.320615e+01   \n",
       "std                                  8.320484e+01   \n",
       "min                                  1.011600e+00   \n",
       "25%                                  8.089532e+00   \n",
       "50%                                  2.064387e+01   \n",
       "75%                                  5.323874e+01   \n",
       "max                                  4.485665e+02   \n",
       "\n",
       "       InteriorLights:Electricity [kW](Hourly)  \n",
       "count                             2.242560e+06  \n",
       "mean                              4.099851e+01  \n",
       "std                               7.496627e+01  \n",
       "min                               2.750027e-01  \n",
       "25%                               3.788942e+00  \n",
       "50%                               1.586394e+01  \n",
       "75%                               4.351334e+01  \n",
       "max                               4.485665e+02  "
      ]
     },
     "execution_count": 6,
     "metadata": {},
     "output_type": "execute_result"
    }
   ],
   "source": [
    "dfs.describe()"
   ]
  },
  {
   "cell_type": "code",
   "execution_count": 21,
   "metadata": {
    "collapsed": false
   },
   "outputs": [],
   "source": [
    "dfs.to_csv(\"cleaned_tmy3.csv\", index=False)"
   ]
  },
  {
   "cell_type": "code",
   "execution_count": 27,
   "metadata": {
    "collapsed": true
   },
   "outputs": [],
   "source": [
    "df = pd.read_csv(\"cleaned_tmy3.csv\")"
   ]
  },
  {
   "cell_type": "code",
   "execution_count": 31,
   "metadata": {
    "collapsed": false
   },
   "outputs": [],
   "source": [
    "np.random.seed(0)\n",
    "shuffled = df.reindex(np.random.permutation(df.index))"
   ]
  },
  {
   "cell_type": "code",
   "execution_count": 32,
   "metadata": {
    "collapsed": false
   },
   "outputs": [
    {
     "data": {
      "text/html": [
       "<div>\n",
       "<table border=\"1\" class=\"dataframe\">\n",
       "  <thead>\n",
       "    <tr style=\"text-align: right;\">\n",
       "      <th></th>\n",
       "      <th>Cooling:Electricity [kW](Hourly)</th>\n",
       "      <th>Electricity:Facility [kW](Hourly)</th>\n",
       "      <th>Fans:Electricity [kW](Hourly)</th>\n",
       "      <th>Gas:Facility [kW](Hourly)</th>\n",
       "      <th>Heating:Electricity [kW](Hourly)</th>\n",
       "      <th>Heating:Gas [kW](Hourly)</th>\n",
       "      <th>InteriorEquipment:Electricity [kW](Hourly)</th>\n",
       "      <th>InteriorLights:Electricity [kW](Hourly)</th>\n",
       "    </tr>\n",
       "  </thead>\n",
       "  <tbody>\n",
       "    <tr>\n",
       "      <th>1438562</th>\n",
       "      <td>0.000000</td>\n",
       "      <td>16.913980</td>\n",
       "      <td>1.498155</td>\n",
       "      <td>47.288649</td>\n",
       "      <td>0.0</td>\n",
       "      <td>47.288649</td>\n",
       "      <td>1.011600</td>\n",
       "      <td>5.481225</td>\n",
       "    </tr>\n",
       "    <tr>\n",
       "      <th>838515</th>\n",
       "      <td>49.572789</td>\n",
       "      <td>156.464818</td>\n",
       "      <td>33.782104</td>\n",
       "      <td>187.130533</td>\n",
       "      <td>0.0</td>\n",
       "      <td>45.799594</td>\n",
       "      <td>28.119151</td>\n",
       "      <td>12.762043</td>\n",
       "    </tr>\n",
       "    <tr>\n",
       "      <th>305622</th>\n",
       "      <td>0.000000</td>\n",
       "      <td>168.945632</td>\n",
       "      <td>25.581888</td>\n",
       "      <td>157.856421</td>\n",
       "      <td>0.0</td>\n",
       "      <td>153.166421</td>\n",
       "      <td>18.691965</td>\n",
       "      <td>13.974760</td>\n",
       "    </tr>\n",
       "    <tr>\n",
       "      <th>431203</th>\n",
       "      <td>0.346043</td>\n",
       "      <td>50.525045</td>\n",
       "      <td>14.434331</td>\n",
       "      <td>0.000000</td>\n",
       "      <td>0.0</td>\n",
       "      <td>0.000000</td>\n",
       "      <td>8.377474</td>\n",
       "      <td>19.101197</td>\n",
       "    </tr>\n",
       "    <tr>\n",
       "      <th>37521</th>\n",
       "      <td>0.000000</td>\n",
       "      <td>69.320554</td>\n",
       "      <td>10.885136</td>\n",
       "      <td>3.354539</td>\n",
       "      <td>0.0</td>\n",
       "      <td>3.354539</td>\n",
       "      <td>9.104397</td>\n",
       "      <td>49.331021</td>\n",
       "    </tr>\n",
       "  </tbody>\n",
       "</table>\n",
       "</div>"
      ],
      "text/plain": [
       "         Cooling:Electricity [kW](Hourly)  Electricity:Facility [kW](Hourly)  \\\n",
       "1438562                          0.000000                          16.913980   \n",
       "838515                          49.572789                         156.464818   \n",
       "305622                           0.000000                         168.945632   \n",
       "431203                           0.346043                          50.525045   \n",
       "37521                            0.000000                          69.320554   \n",
       "\n",
       "         Fans:Electricity [kW](Hourly)  Gas:Facility [kW](Hourly)  \\\n",
       "1438562                       1.498155                  47.288649   \n",
       "838515                       33.782104                 187.130533   \n",
       "305622                       25.581888                 157.856421   \n",
       "431203                       14.434331                   0.000000   \n",
       "37521                        10.885136                   3.354539   \n",
       "\n",
       "         Heating:Electricity [kW](Hourly)  Heating:Gas [kW](Hourly)  \\\n",
       "1438562                               0.0                 47.288649   \n",
       "838515                                0.0                 45.799594   \n",
       "305622                                0.0                153.166421   \n",
       "431203                                0.0                  0.000000   \n",
       "37521                                 0.0                  3.354539   \n",
       "\n",
       "         InteriorEquipment:Electricity [kW](Hourly)  \\\n",
       "1438562                                    1.011600   \n",
       "838515                                    28.119151   \n",
       "305622                                    18.691965   \n",
       "431203                                     8.377474   \n",
       "37521                                      9.104397   \n",
       "\n",
       "         InteriorLights:Electricity [kW](Hourly)  \n",
       "1438562                                 5.481225  \n",
       "838515                                 12.762043  \n",
       "305622                                 13.974760  \n",
       "431203                                 19.101197  \n",
       "37521                                  49.331021  "
      ]
     },
     "execution_count": 32,
     "metadata": {},
     "output_type": "execute_result"
    }
   ],
   "source": [
    "shuffled.head()"
   ]
  },
  {
   "cell_type": "code",
   "execution_count": 34,
   "metadata": {
    "collapsed": true
   },
   "outputs": [],
   "source": [
    "shuffled.to_csv(\"shuffled_tmy3.csv\", index=False)"
   ]
  },
  {
   "cell_type": "code",
   "execution_count": null,
   "metadata": {
    "collapsed": true
   },
   "outputs": [],
   "source": []
  }
 ],
 "metadata": {
  "kernelspec": {
   "display_name": "Python 3",
   "language": "python",
   "name": "python3"
  },
  "language_info": {
   "codemirror_mode": {
    "name": "ipython",
    "version": 3
   },
   "file_extension": ".py",
   "mimetype": "text/x-python",
   "name": "python",
   "nbconvert_exporter": "python",
   "pygments_lexer": "ipython3",
   "version": "3.5.2"
  }
 },
 "nbformat": 4,
 "nbformat_minor": 2
}
