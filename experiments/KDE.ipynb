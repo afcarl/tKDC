{
 "cells": [
  {
   "cell_type": "code",
   "execution_count": 2,
   "metadata": {
    "collapsed": true
   },
   "outputs": [],
   "source": [
    "%matplotlib inline"
   ]
  },
  {
   "cell_type": "code",
   "execution_count": 56,
   "metadata": {
    "collapsed": true
   },
   "outputs": [],
   "source": [
    "import numpy as np\n",
    "import sklearn\n",
    "import scipy.stats\n",
    "import matplotlib\n",
    "import matplotlib.pyplot as plt\n",
    "import timeit\n",
    "import pandas as pd\n",
    "import math\n",
    "import itertools\n",
    "import time\n",
    "import pickle\n",
    "\n",
    "from sklearn.neighbors import (\n",
    "    KernelDensity,\n",
    "    KDTree,\n",
    ")\n",
    "from sklearn.preprocessing import (\n",
    "    RobustScaler\n",
    ")"
   ]
  },
  {
   "cell_type": "markdown",
   "metadata": {},
   "source": [
    "# Helper Functions"
   ]
  },
  {
   "cell_type": "code",
   "execution_count": 43,
   "metadata": {
    "collapsed": false
   },
   "outputs": [],
   "source": [
    "def get_self_density(d, n):\n",
    "    return scipy.stats.multivariate_normal.pdf(\n",
    "        np.zeros(d), \n",
    "        mean=np.zeros(d), \n",
    "        cov=np.identity(d)) / n;\n",
    "def estimate_kde_bw(data):\n",
    "    q3 = np.percentile(data, 75, axis=0)\n",
    "    q1 = np.percentile(data, 25, axis=0)\n",
    "    iqr = q3 - q1\n",
    "    bw = iqr * (data.shape[0])**(-1.0/(data.shape[1]+4))\n",
    "    return bw\n",
    "def get_scores(data, tol=0, bw=None):\n",
    "    print(\"Starting\", flush=True)\n",
    "    if bw is None:\n",
    "        bw = estimate_kde_bw(data)\n",
    "    print(\"BW calculated\", flush=True)\n",
    "    scaled_data = data / bw\n",
    "    \n",
    "    # Normalized Computations\n",
    "    kde = KernelDensity(\n",
    "        bandwidth=1,\n",
    "        kernel='gaussian',\n",
    "        algorithm='kd_tree',\n",
    "        rtol=tol,\n",
    "    )\n",
    "    kde.fit(scaled_data)\n",
    "    print(\"Trained\", flush=True)\n",
    "    scores = np.exp(kde.score_samples(scaled_data))\n",
    "    print(\"Scored\", flush=True)\n",
    "    \n",
    "    self_density = get_self_density(data.shape[1], data.shape[0])\n",
    "    scores_minus_self = scores - self_density\n",
    "    \n",
    "    # Denormalize\n",
    "    denorm_scores = scores_minus_self / np.prod(bw)\n",
    "    return denorm_scores\n",
    "def compare_outliers(scores1, scores2):\n",
    "    cut1 = np.percentile(scores1, 1.0)\n",
    "    flag1 = scores1 < cut1\n",
    "    \n",
    "    cut2 = np.percentile(scores2, 1.0)\n",
    "    flag2 = scores2 < cut2\n",
    "    return np.sum(flag1 & flag2) / np.sum(flag1 | flag2)"
   ]
  },
  {
   "cell_type": "code",
   "execution_count": 5,
   "metadata": {
    "collapsed": true
   },
   "outputs": [],
   "source": [
    "energy = pd.read_csv(\"../us_energy_1p0_metrics.csv\")"
   ]
  },
  {
   "cell_type": "code",
   "execution_count": 5,
   "metadata": {
    "collapsed": true
   },
   "outputs": [],
   "source": [
    "taxi = pd.read_csv(\"../taxi_data.csv\")"
   ]
  },
  {
   "cell_type": "markdown",
   "metadata": {
    "collapsed": true
   },
   "source": [
    "# Perf + Jaccard Benchmarks"
   ]
  },
  {
   "cell_type": "code",
   "execution_count": 46,
   "metadata": {
    "collapsed": true
   },
   "outputs": [],
   "source": [
    "def run_benchmarks(data, ns=[10000, 50000], tols=[0.0, 0.1], dims=[1, 2, 4, 8]):\n",
    "    timings = {}\n",
    "    scores = {}\n",
    "    combinations = itertools.product(ns, tols, dims)\n",
    "    for t in combinations:\n",
    "        n = t[0]\n",
    "        tol = t[1]\n",
    "        dim = t[2]\n",
    "        print(\"n: {}, tol: {}, dim: {}\".format(n, tol, dim))\n",
    "        columns = list(range(dim))\n",
    "        data = data[columns].iloc[:n].values\n",
    "        start = time.time()\n",
    "        scores[t] = get_scores(data, tol=tol)\n",
    "        elapsed = time.time() - start\n",
    "        print(\"Elapsed: {}\".format(elapsed))\n",
    "        timings[t] = elapsed\n",
    "    return {\"timings\": timings, \"scores\": scores}"
   ]
  },
  {
   "cell_type": "code",
   "execution_count": 53,
   "metadata": {
    "collapsed": false,
    "scrolled": true
   },
   "outputs": [
    {
     "name": "stdout",
     "output_type": "stream",
     "text": [
      "n: 10000, tol: 0.0, dim: 1\n",
      "Starting\n",
      "BW calculated\n",
      "Trained\n",
      "Scored\n",
      "Elapsed: 4.1302809715271\n",
      "n: 10000, tol: 0.0, dim: 2\n",
      "Starting\n",
      "BW calculated\n",
      "Trained\n",
      "Scored\n",
      "Elapsed: 3.8664679527282715\n",
      "n: 10000, tol: 0.0, dim: 4\n",
      "Starting\n",
      "BW calculated\n",
      "Trained\n",
      "Scored\n",
      "Elapsed: 4.413316011428833\n",
      "n: 10000, tol: 0.0, dim: 8\n",
      "Starting\n",
      "BW calculated\n",
      "Trained\n",
      "Scored\n",
      "Elapsed: 5.624083042144775\n",
      "n: 10000, tol: 0.1, dim: 1\n",
      "Starting\n",
      "BW calculated\n",
      "Trained\n",
      "Scored\n",
      "Elapsed: 1.5577480792999268\n",
      "n: 10000, tol: 0.1, dim: 2\n",
      "Starting\n",
      "BW calculated\n",
      "Trained\n",
      "Scored\n",
      "Elapsed: 1.5478770732879639\n",
      "n: 10000, tol: 0.1, dim: 4\n",
      "Starting\n",
      "BW calculated\n",
      "Trained\n",
      "Scored\n",
      "Elapsed: 2.051440954208374\n",
      "n: 10000, tol: 0.1, dim: 8\n",
      "Starting\n",
      "BW calculated\n",
      "Trained\n",
      "Scored\n",
      "Elapsed: 2.9179069995880127\n",
      "n: 50000, tol: 0.0, dim: 1\n",
      "Starting\n",
      "BW calculated\n",
      "Trained\n",
      "Scored\n",
      "Elapsed: 127.07230186462402\n",
      "n: 50000, tol: 0.0, dim: 2\n",
      "Starting\n",
      "BW calculated\n",
      "Trained\n",
      "Scored\n",
      "Elapsed: 122.14469289779663\n",
      "n: 50000, tol: 0.0, dim: 4\n",
      "Starting\n",
      "BW calculated\n",
      "Trained\n",
      "Scored\n",
      "Elapsed: 131.79677200317383\n",
      "n: 50000, tol: 0.0, dim: 8\n",
      "Starting\n",
      "BW calculated\n",
      "Trained\n",
      "Scored\n",
      "Elapsed: 198.65502095222473\n",
      "n: 50000, tol: 0.1, dim: 1\n",
      "Starting\n",
      "BW calculated\n",
      "Trained\n",
      "Scored\n",
      "Elapsed: 38.09627103805542\n",
      "n: 50000, tol: 0.1, dim: 2\n",
      "Starting\n",
      "BW calculated\n",
      "Trained\n",
      "Scored\n",
      "Elapsed: 38.75493597984314\n",
      "n: 50000, tol: 0.1, dim: 4\n",
      "Starting\n",
      "BW calculated\n",
      "Trained\n",
      "Scored\n",
      "Elapsed: 42.627718925476074\n",
      "n: 50000, tol: 0.1, dim: 8\n",
      "Starting\n",
      "BW calculated\n",
      "Trained\n",
      "Scored\n",
      "Elapsed: 72.32149314880371\n"
     ]
    }
   ],
   "source": [
    "results = run_benchmarks(\n",
    "    data=energy,\n",
    "    ns=[10000,50000],\n",
    "    tols=[0.0,0.1],\n",
    "    dims=[1,2,4,8]\n",
    ")"
   ]
  },
  {
   "cell_type": "code",
   "execution_count": 54,
   "metadata": {
    "collapsed": false
   },
   "outputs": [
    {
     "data": {
      "text/plain": [
       "{(10000, 0.0, 1): 4.1302809715271,\n",
       " (10000, 0.0, 2): 3.8664679527282715,\n",
       " (10000, 0.0, 4): 4.413316011428833,\n",
       " (10000, 0.0, 8): 5.624083042144775,\n",
       " (10000, 0.1, 1): 1.5577480792999268,\n",
       " (10000, 0.1, 2): 1.5478770732879639,\n",
       " (10000, 0.1, 4): 2.051440954208374,\n",
       " (10000, 0.1, 8): 2.9179069995880127,\n",
       " (50000, 0.0, 1): 127.07230186462402,\n",
       " (50000, 0.0, 2): 122.14469289779663,\n",
       " (50000, 0.0, 4): 131.79677200317383,\n",
       " (50000, 0.0, 8): 198.65502095222473,\n",
       " (50000, 0.1, 1): 38.09627103805542,\n",
       " (50000, 0.1, 2): 38.75493597984314,\n",
       " (50000, 0.1, 4): 42.627718925476074,\n",
       " (50000, 0.1, 8): 72.32149314880371}"
      ]
     },
     "execution_count": 54,
     "metadata": {},
     "output_type": "execute_result"
    }
   ],
   "source": [
    "results[\"timings\"]"
   ]
  },
  {
   "cell_type": "code",
   "execution_count": 59,
   "metadata": {
    "collapsed": false,
    "scrolled": true
   },
   "outputs": [],
   "source": [
    "with open(\"energy_benchmark.pickle\", 'wb') as f:\n",
    "    pickle.dump(results, f)"
   ]
  },
  {
   "cell_type": "code",
   "execution_count": 66,
   "metadata": {
    "collapsed": false
   },
   "outputs": [
    {
     "name": "stdout",
     "output_type": "stream",
     "text": [
      "Jaccard similarity between 0.0 and 0.1 for d2: 0.9801980198019802\n",
      "Jaccard similarity between 0.0 and 0.1 for d4: 0.9801980198019802\n",
      "Jaccard similarity between 0.0 and 0.1 for d8: 0.9157088122605364\n"
     ]
    }
   ],
   "source": [
    "for d in [2,4,8]:\n",
    "    jaccard = compare_outliers(\n",
    "        results[\"scores\"][(50000,0.0,d)],\n",
    "        results[\"scores\"][(50000,0.1,d)]\n",
    "    )\n",
    "    print(\"Jaccard similarity between 0.0 and 0.1 for d{}: {}\".format(\n",
    "         d,\n",
    "         jaccard))"
   ]
  },
  {
   "cell_type": "code",
   "execution_count": 81,
   "metadata": {
    "collapsed": true
   },
   "outputs": [],
   "source": [
    "prefix = \"/Users/egan/Documents/Projects/tKDE/experiments/end2end/scores/\"\n",
    "filenames = {\n",
    "    (50000, 0.01, 2): \"energy_n50_d2_tol1.csv\",\n",
    "    (50000, 0.01, 4): \"energy_n50_d4_tol1.csv\",\n",
    "    (50000, 0.01, 8): \"energy_n50_d8_tol1.csv\",\n",
    "    (50000, 0.1, 2): \"energy_n50_d2_tol10.csv\",\n",
    "    (50000, 0.1, 4): \"energy_n50_d4_tol10.csv\",\n",
    "    (50000, 0.1, 8): \"energy_n50_d8_tol10.csv\"\n",
    "}\n",
    "files = {k: prefix+filenames[k] for k in filenames}"
   ]
  },
  {
   "cell_type": "code",
   "execution_count": 84,
   "metadata": {
    "collapsed": false
   },
   "outputs": [
    {
     "name": "stdout",
     "output_type": "stream",
     "text": [
      "Jaccard similarity between exact and (50000, 0.01, 4): 0.9960079840319361\n",
      "Jaccard similarity between exact and (50000, 0.1, 2): 0.9920318725099602\n",
      "Jaccard similarity between exact and (50000, 0.1, 4): 0.9920318725099602\n",
      "Jaccard similarity between exact and (50000, 0.01, 2): 1.0\n",
      "Jaccard similarity between exact and (50000, 0.1, 8): 0.9960079840319361\n",
      "Jaccard similarity between exact and (50000, 0.01, 8): 0.9960079840319361\n"
     ]
    }
   ],
   "source": [
    "for k,f in files.items():\n",
    "    densities = pd.read_csv(f, header=None).values.flatten()\n",
    "    n=k[0]\n",
    "    d=k[2]\n",
    "    jaccard = compare_outliers(\n",
    "        results[\"scores\"][(n,0.0,d)],\n",
    "        densities\n",
    "    )\n",
    "    print(\"Jaccard similarity between exact and {}: {}\".format(\n",
    "         k,\n",
    "         jaccard))"
   ]
  }
 ],
 "metadata": {
  "kernelspec": {
   "display_name": "Python 3",
   "language": "python",
   "name": "python3"
  },
  "language_info": {
   "codemirror_mode": {
    "name": "ipython",
    "version": 3
   },
   "file_extension": ".py",
   "mimetype": "text/x-python",
   "name": "python",
   "nbconvert_exporter": "python",
   "pygments_lexer": "ipython3",
   "version": "3.5.2"
  }
 },
 "nbformat": 4,
 "nbformat_minor": 1
}
