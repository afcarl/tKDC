{
 "cells": [
  {
   "cell_type": "code",
   "execution_count": 10,
   "metadata": {
    "collapsed": true
   },
   "outputs": [],
   "source": [
    "%matplotlib inline\n",
    "%config InlineBackend.figure_format = 'png' \n",
    "import numpy as np\n",
    "import scipy\n",
    "import scipy.special\n",
    "import scipy.stats\n",
    "import math\n",
    "import matplotlib.pyplot as plt\n",
    "import sklearn.neighbors"
   ]
  },
  {
   "cell_type": "code",
   "execution_count": 3,
   "metadata": {
    "collapsed": false
   },
   "outputs": [],
   "source": [
    ""
   ]
  },
  {
   "cell_type": "code",
   "execution_count": 31,
   "metadata": {
    "collapsed": false
   },
   "outputs": [
    {
     "name": "stdout",
     "output_type": "stream",
     "text": [
      "bw: 0.14677992676220697\n"
     ]
    }
   ],
   "source": [
    "N = 100000\n",
    "data = np.random.multivariate_normal(mean=mu, cov=cov, size=N)\n",
    "bw = N ** (-1/(k+4))\n",
    "print(\"bw: {}\".format(bw))\n",
    "kernel = scipy.stats.multivariate_normal(\n",
    "    mean = mu,\n",
    "    cov = cov * bw * bw,\n",
    ")"
   ]
  },
  {
   "cell_type": "code",
   "execution_count": 48,
   "metadata": {
    "collapsed": false
   },
   "outputs": [
    {
     "data": {
      "text/plain": [
       "array([ 0.15686705])"
      ]
     },
     "execution_count": 48,
     "metadata": {},
     "output_type": "execute_result"
    }
   ],
   "source": [
    "kde = sklearn.neighbors.KernelDensity(bandwidth = bw).fit(data)\n",
    "np.exp(kde.score_samples([np.zeros(k)]))"
   ]
  },
  {
   "cell_type": "code",
   "execution_count": 72,
   "metadata": {
    "collapsed": false
   },
   "outputs": [],
   "source": [
    "def count_samples(k, n, p=0.01):\n",
    "    mu = np.zeros(k)\n",
    "    cov = np.diag(np.ones(k))\n",
    "    dist = scipy.stats.multivariate_normal(\n",
    "        mean = mu,\n",
    "        cov = cov,\n",
    "    )\n",
    "    \n",
    "    samples = np.random.multivariate_normal(mean=mu, cov=cov, size=n)\n",
    "    pdfs = dist.pdf(samples)\n",
    "    threshold = np.percentile(pdfs, p * 100)\n",
    "    print(\"Thresh: {}\".format(threshold))\n",
    "    error_factor = 2**k\n",
    "    print(\"Error Factor: {}\".format(error_factor))\n",
    "    \n",
    "    hi_cut = np.sum((pdfs / error_factor) > threshold)\n",
    "    lo_cut = np.sum((pdfs * error_factor) < threshold)\n",
    "    print(\"Hi: {}, Lo: {}\".format(hi_cut / n, lo_cut / n))"
   ]
  },
  {
   "cell_type": "code",
   "execution_count": 110,
   "metadata": {
    "collapsed": false
   },
   "outputs": [
    {
     "name": "stdout",
     "output_type": "stream",
     "text": [
      "8.64519844683e-07\n",
      "757\n",
      "borderline radius: 3.9534123604801388\n"
     ]
    }
   ],
   "source": [
    "k = 6\n",
    "p = 0.01\n",
    "n = 100000\n",
    "mu = np.zeros(k)\n",
    "cov = np.diag(np.ones(k))\n",
    "dist = scipy.stats.multivariate_normal(\n",
    "    mean = mu,\n",
    "    cov = cov,\n",
    ")\n",
    "samples = np.random.multivariate_normal(mean=mu, cov=cov, size=n)\n",
    "pdfs = dist.pdf(samples)\n",
    "threshold = np.percentile(pdfs, p * 100)\n",
    "print(threshold)\n",
    "borderline = samples[(pdfs > threshold) & (pdfs < 2 * threshold)]\n",
    "print(len(borderline))\n",
    "r = scipy.linalg.norm(borderline[0])\n",
    "print(\"borderline radius: {}\".format(r))"
   ]
  },
  {
   "cell_type": "code",
   "execution_count": 111,
   "metadata": {
    "collapsed": false
   },
   "outputs": [
    {
     "data": {
      "text/plain": [
       "1.649759234426973e-06"
      ]
     },
     "execution_count": 111,
     "metadata": {},
     "output_type": "execute_result"
    }
   ],
   "source": [
    "z = np.zeros(k)\n",
    "z[0] = 3.95\n",
    "dist.pdf(z)"
   ]
  },
  {
   "cell_type": "code",
   "execution_count": 112,
   "metadata": {
    "collapsed": false
   },
   "outputs": [
    {
     "data": {
      "text/plain": [
       "array([[ 0.,  0.,  0.],\n",
       "       [ 0.,  0.,  0.],\n",
       "       [ 0.,  0.,  0.],\n",
       "       [ 0.,  0.,  0.],\n",
       "       [ 0.,  0.,  0.],\n",
       "       [ 0.,  0.,  0.],\n",
       "       [ 0.,  0.,  0.],\n",
       "       [ 0.,  0.,  0.],\n",
       "       [ 0.,  0.,  0.],\n",
       "       [ 0.,  0.,  0.]])"
      ]
     },
     "execution_count": 112,
     "metadata": {},
     "output_type": "execute_result"
    }
   ],
   "source": [
    "np.zeros((10,3))"
   ]
  },
  {
   "cell_type": "code",
   "execution_count": 91,
   "metadata": {
    "collapsed": false
   },
   "outputs": [
    {
     "data": {
      "text/plain": [
       "[<matplotlib.lines.Line2D at 0x11c844898>]"
      ]
     },
     "execution_count": 91,
     "metadata": {},
     "output_type": "execute_result"
    },
    {
     "data": {
      "image/png": "[encoded data removed]",
      "text/plain": [
       "<matplotlib.figure.Figure at 0x11d048160>"
      ]
     },
     "metadata": {},
     "output_type": "display_data"
    }
   ],
   "source": [
    "plt.loglog(np.sort(pdfs))"
   ]
  },
  {
   "cell_type": "code",
   "execution_count": 114,
   "metadata": {
    "collapsed": false
   },
   "outputs": [
    {
     "data": {
      "text/plain": [
       "[<matplotlib.lines.Line2D at 0x1121be860>]"
      ]
     },
     "execution_count": 114,
     "metadata": {},
     "output_type": "execute_result"
    },
    {
     "data": {
      "image/png": "[encoded data removed]",
      "text/plain": [
       "<matplotlib.figure.Figure at 0x112181a20>"
      ]
     },
     "metadata": {},
     "output_type": "display_data"
    }
   ],
   "source": [
    "x = np.arange(0,4,.1)\n",
    "y = -2 * x * np.exp(-x * x)\n",
    "plt.plot(x, y)"
   ]
  },
  {
   "cell_type": "code",
   "execution_count": null,
   "metadata": {
    "collapsed": true
   },
   "outputs": [],
   "source": [
    ""
   ]
  }
 ],
 "metadata": {
  "kernelspec": {
   "display_name": "Python 3",
   "language": "python",
   "name": "python3"
  },
  "language_info": {
   "codemirror_mode": {
    "name": "ipython",
    "version": 3.0
   },
   "file_extension": ".py",
   "mimetype": "text/x-python",
   "name": "python",
   "nbconvert_exporter": "python",
   "pygments_lexer": "ipython3",
   "version": "3.5.2"
  }
 },
 "nbformat": 4,
 "nbformat_minor": 0
}