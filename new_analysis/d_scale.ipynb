{
 "cells": [
  {
   "cell_type": "code",
   "execution_count": 1,
   "metadata": {
    "collapsed": true
   },
   "outputs": [],
   "source": [
    "import matplotlib\n",
    "matplotlib.use('pdf')"
   ]
  },
  {
   "cell_type": "code",
   "execution_count": 2,
   "metadata": {
    "collapsed": true
   },
   "outputs": [],
   "source": [
    "import numpy as np\n",
    "import matplotlib.pyplot as plt\n",
    "import pandas as pd\n",
    "import math\n",
    "import os\n",
    "plt.style.use('default')"
   ]
  },
  {
   "cell_type": "code",
   "execution_count": 3,
   "metadata": {
    "collapsed": true
   },
   "outputs": [],
   "source": [
    "def human_format(x):\n",
    "    sigpart = 0\n",
    "    suffix = \"\"\n",
    "    if x < 1000:\n",
    "        return \"{:.3g}\".format(x)\n",
    "    elif x < 1000000:\n",
    "        sigpart = x / 1000\n",
    "        suffix = \"k\"\n",
    "    elif x < 1000000000:\n",
    "        sigpart = x / 1000000\n",
    "        suffix = \"M\"\n",
    "    else:\n",
    "        sigpart = x / 1000000000\n",
    "        suffix = \"B\"\n",
    "    return \"{:.3g} {}\".format(sigpart, suffix)\n",
    "def get_algorithm(path):\n",
    "    algs = [\"rkde\", \"ic2\", \"sklearn\", \"nocut\", \"simple\"]\n",
    "    for alg in algs:\n",
    "        if alg in path:\n",
    "            return alg\n",
    "def get_dataset(path):\n",
    "    datasets = {\n",
    "        \"bgauss\": \"gauss\",\n",
    "        \"hep\": \"hep\",\n",
    "        \"tmy3_4\": \"tmy3_4\",\n",
    "        \"tmy3.\": \"tmy3\",\n",
    "        \"mnist_64\": \"mnist\",\n",
    "        \"home\": \"home\",\n",
    "    }\n",
    "    for dataset in datasets.keys():\n",
    "        if dataset in path:\n",
    "            return datasets[dataset]"
   ]
  },
  {
   "cell_type": "code",
   "execution_count": 4,
   "metadata": {
    "collapsed": true
   },
   "outputs": [],
   "source": [
    "df = pd.read_csv(\"../experiments/d_raiders/scale_d.csv\")"
   ]
  },
  {
   "cell_type": "code",
   "execution_count": 5,
   "metadata": {
    "collapsed": false
   },
   "outputs": [
    {
     "data": {
      "text/html": [
       "<div>\n",
       "<table border=\"1\" class=\"dataframe\">\n",
       "  <thead>\n",
       "    <tr style=\"text-align: right;\">\n",
       "      <th></th>\n",
       "      <th>algorithm</th>\n",
       "      <th>dataset</th>\n",
       "      <th>dim</th>\n",
       "      <th>num_kernels</th>\n",
       "      <th>num_test</th>\n",
       "      <th>num_train</th>\n",
       "      <th>out_path</th>\n",
       "      <th>test_time</th>\n",
       "      <th>train_time</th>\n",
       "    </tr>\n",
       "  </thead>\n",
       "  <tbody>\n",
       "    <tr>\n",
       "      <th>0</th>\n",
       "      <td>ic2</td>\n",
       "      <td>bigdata/pmnist.csv</td>\n",
       "      <td>128</td>\n",
       "      <td>13761047</td>\n",
       "      <td>497</td>\n",
       "      <td>70000</td>\n",
       "      <td>./ic2/out/mnist_128.out</td>\n",
       "      <td>20027</td>\n",
       "      <td>245429</td>\n",
       "    </tr>\n",
       "    <tr>\n",
       "      <th>1</th>\n",
       "      <td>ic2</td>\n",
       "      <td>bigdata/pmnist.csv</td>\n",
       "      <td>4</td>\n",
       "      <td>161574342</td>\n",
       "      <td>97876</td>\n",
       "      <td>70000</td>\n",
       "      <td>./ic2/out/mnist_4.out</td>\n",
       "      <td>20001</td>\n",
       "      <td>1963</td>\n",
       "    </tr>\n",
       "    <tr>\n",
       "      <th>2</th>\n",
       "      <td>ic2</td>\n",
       "      <td>bigdata/pmnist.csv</td>\n",
       "      <td>64</td>\n",
       "      <td>23286200</td>\n",
       "      <td>1185</td>\n",
       "      <td>70000</td>\n",
       "      <td>./ic2/out/mnist_64.out</td>\n",
       "      <td>20010</td>\n",
       "      <td>77559</td>\n",
       "    </tr>\n",
       "    <tr>\n",
       "      <th>3</th>\n",
       "      <td>ic2</td>\n",
       "      <td>bigdata/pmnist.csv</td>\n",
       "      <td>32</td>\n",
       "      <td>54142113</td>\n",
       "      <td>2664</td>\n",
       "      <td>70000</td>\n",
       "      <td>./ic2/out/mnist_32.out</td>\n",
       "      <td>20002</td>\n",
       "      <td>37366</td>\n",
       "    </tr>\n",
       "    <tr>\n",
       "      <th>4</th>\n",
       "      <td>ic2</td>\n",
       "      <td>bigdata/pmnist.csv</td>\n",
       "      <td>2</td>\n",
       "      <td>261528485</td>\n",
       "      <td>1215929</td>\n",
       "      <td>70000</td>\n",
       "      <td>./ic2/out/mnist_2.out</td>\n",
       "      <td>20001</td>\n",
       "      <td>712</td>\n",
       "    </tr>\n",
       "    <tr>\n",
       "      <th>5</th>\n",
       "      <td>ic2</td>\n",
       "      <td>bigdata/pmnist.csv</td>\n",
       "      <td>1</td>\n",
       "      <td>291987663</td>\n",
       "      <td>6977570</td>\n",
       "      <td>70000</td>\n",
       "      <td>./ic2/out/mnist_1.out</td>\n",
       "      <td>20001</td>\n",
       "      <td>477</td>\n",
       "    </tr>\n",
       "    <tr>\n",
       "      <th>6</th>\n",
       "      <td>ic2</td>\n",
       "      <td>bigdata/pmnist.csv</td>\n",
       "      <td>16</td>\n",
       "      <td>82687978</td>\n",
       "      <td>4947</td>\n",
       "      <td>70000</td>\n",
       "      <td>./ic2/out/mnist_16.out</td>\n",
       "      <td>20003</td>\n",
       "      <td>18618</td>\n",
       "    </tr>\n",
       "    <tr>\n",
       "      <th>7</th>\n",
       "      <td>ic2</td>\n",
       "      <td>bigdata/pmnist.csv</td>\n",
       "      <td>8</td>\n",
       "      <td>123788131</td>\n",
       "      <td>11921</td>\n",
       "      <td>70000</td>\n",
       "      <td>./ic2/out/mnist_8.out</td>\n",
       "      <td>20001</td>\n",
       "      <td>8855</td>\n",
       "    </tr>\n",
       "    <tr>\n",
       "      <th>8</th>\n",
       "      <td>ic2</td>\n",
       "      <td>bigdata/pmnist.csv</td>\n",
       "      <td>256</td>\n",
       "      <td>9538099</td>\n",
       "      <td>316</td>\n",
       "      <td>70000</td>\n",
       "      <td>./ic2/out/mnist_256.out</td>\n",
       "      <td>20029</td>\n",
       "      <td>679610</td>\n",
       "    </tr>\n",
       "  </tbody>\n",
       "</table>\n",
       "</div>"
      ],
      "text/plain": [
       "  algorithm             dataset  dim  num_kernels  num_test  num_train  \\\n",
       "0       ic2  bigdata/pmnist.csv  128     13761047       497      70000   \n",
       "1       ic2  bigdata/pmnist.csv    4    161574342     97876      70000   \n",
       "2       ic2  bigdata/pmnist.csv   64     23286200      1185      70000   \n",
       "3       ic2  bigdata/pmnist.csv   32     54142113      2664      70000   \n",
       "4       ic2  bigdata/pmnist.csv    2    261528485   1215929      70000   \n",
       "5       ic2  bigdata/pmnist.csv    1    291987663   6977570      70000   \n",
       "6       ic2  bigdata/pmnist.csv   16     82687978      4947      70000   \n",
       "7       ic2  bigdata/pmnist.csv    8    123788131     11921      70000   \n",
       "8       ic2  bigdata/pmnist.csv  256      9538099       316      70000   \n",
       "\n",
       "                  out_path  test_time  train_time  \n",
       "0  ./ic2/out/mnist_128.out      20027      245429  \n",
       "1    ./ic2/out/mnist_4.out      20001        1963  \n",
       "2   ./ic2/out/mnist_64.out      20010       77559  \n",
       "3   ./ic2/out/mnist_32.out      20002       37366  \n",
       "4    ./ic2/out/mnist_2.out      20001         712  \n",
       "5    ./ic2/out/mnist_1.out      20001         477  \n",
       "6   ./ic2/out/mnist_16.out      20003       18618  \n",
       "7    ./ic2/out/mnist_8.out      20001        8855  \n",
       "8  ./ic2/out/mnist_256.out      20029      679610  "
      ]
     },
     "execution_count": 5,
     "metadata": {},
     "output_type": "execute_result"
    }
   ],
   "source": [
    "df"
   ]
  },
  {
   "cell_type": "code",
   "execution_count": 6,
   "metadata": {
    "collapsed": true
   },
   "outputs": [],
   "source": [
    "df[\"r_algorithm\"] = df[\"out_path\"].map(get_algorithm)\n",
    "df[\"r_dataset\"] = df[\"out_path\"].map(get_dataset)\n",
    "df[\"throughput\"] = (\n",
    "    1000 * df[\"num_test\"] / df[\"test_time\"]\n",
    ")\n",
    "df[\"a_throughput\"] = (\n",
    "    1000 * df[\"num_train\"] \n",
    "    / (df[\"test_time\"]*df[\"num_train\"]/df[\"num_test\"] + df[\"train_time\"])\n",
    ")"
   ]
  },
  {
   "cell_type": "code",
   "execution_count": 11,
   "metadata": {
    "collapsed": true
   },
   "outputs": [],
   "source": [
    "df = df.sort_values(by=[\"r_algorithm\", \"dim\"])"
   ]
  },
  {
   "cell_type": "code",
   "execution_count": 9,
   "metadata": {
    "collapsed": true
   },
   "outputs": [],
   "source": [
    "algorder = [\"ic2\"]"
   ]
  },
  {
   "cell_type": "code",
   "execution_count": 13,
   "metadata": {
    "collapsed": false
   },
   "outputs": [
    {
     "name": "stderr",
     "output_type": "stream",
     "text": [
      "/usr/local/lib/python3.5/site-packages/matplotlib/tight_layout.py:222: UserWarning: tight_layout : falling back to Agg renderer\n",
      "  warnings.warn(\"tight_layout : falling back to Agg renderer\")\n"
     ]
    }
   ],
   "source": [
    "fig = plt.figure(figsize=(6,4),dpi=300)\n",
    "ax = plt.subplot(111)\n",
    "for alg in algorder:\n",
    "    cur_df = df[df[\"r_algorithm\"] == alg]\n",
    "    ax.loglog(\n",
    "        cur_df[\"dim\"],\n",
    "        cur_df[\"throughput\"],\n",
    "        marker=\"o\",\n",
    "        label=alg)\n",
    "ax.set_xlabel(\"Dataset Dimension\")\n",
    "ax.set_ylabel(\"Query Throughput\")\n",
    "ax.set_title(\"MNIST Dataset\")\n",
    "ax.legend(loc=0)\n",
    "fig.tight_layout()\n",
    "fig.savefig(\"d_scale.pdf\")\n",
    "fig.clear()"
   ]
  },
  {
   "cell_type": "code",
   "execution_count": null,
   "metadata": {
    "collapsed": true
   },
   "outputs": [],
   "source": []
  }
 ],
 "metadata": {
  "kernelspec": {
   "display_name": "Python 3",
   "language": "python",
   "name": "python3"
  },
  "language_info": {
   "codemirror_mode": {
    "name": "ipython",
    "version": 3
   },
   "file_extension": ".py",
   "mimetype": "text/x-python",
   "name": "python",
   "nbconvert_exporter": "python",
   "pygments_lexer": "ipython3",
   "version": "3.5.2"
  }
 },
 "nbformat": 4,
 "nbformat_minor": 2
}
