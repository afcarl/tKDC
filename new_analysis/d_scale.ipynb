{
 "cells": [
  {
   "cell_type": "code",
   "execution_count": 56,
   "metadata": {
    "collapsed": false
   },
   "outputs": [],
   "source": [
    "import matplotlib\n",
    "matplotlib.use('pdf')"
   ]
  },
  {
   "cell_type": "code",
   "execution_count": 57,
   "metadata": {
    "collapsed": true
   },
   "outputs": [],
   "source": [
    "import numpy as np\n",
    "import matplotlib.pyplot as plt\n",
    "import pandas as pd\n",
    "import math\n",
    "import os\n",
    "plt.style.use('default')"
   ]
  },
  {
   "cell_type": "code",
   "execution_count": 58,
   "metadata": {
    "collapsed": false
   },
   "outputs": [],
   "source": [
    "def human_format(x):\n",
    "    sigpart = 0\n",
    "    suffix = \"\"\n",
    "    if x < 1000:\n",
    "        return \"{:.3g}\".format(x)\n",
    "    elif x < 1000000:\n",
    "        sigpart = x / 1000\n",
    "        suffix = \"k\"\n",
    "    elif x < 1000000000:\n",
    "        sigpart = x / 1000000\n",
    "        suffix = \"M\"\n",
    "    else:\n",
    "        sigpart = x / 1000000000\n",
    "        suffix = \"B\"\n",
    "    return \"{:.3g}{}\".format(sigpart, suffix)\n",
    "def get_algorithm(path):\n",
    "    algs = [\"rkde\", \"ic2\", \"sklearn\", \"nocut\", \"simple\"]\n",
    "    for alg in algs:\n",
    "        if alg in path:\n",
    "            return alg\n",
    "def get_dataset(path):\n",
    "    datasets = {\n",
    "        \"bgauss\": \"gauss\",\n",
    "        \"hep\": \"hep\",\n",
    "        \"tmy3_4\": \"tmy3_4\",\n",
    "        \"tmy3.\": \"tmy3\",\n",
    "        \"mnist_64\": \"mnist\",\n",
    "        \"home\": \"home\",\n",
    "    }\n",
    "    for dataset in datasets.keys():\n",
    "        if dataset in path:\n",
    "            return datasets[dataset]\n",
    "markers = {\n",
    "    \"ic2\": \"o\",\n",
    "    \"simple\": \"^\",\n",
    "    \"sklearn\": \"s\",\n",
    "    \"rkde\": \"d\",\n",
    "    \"nocut\": \"8\",\n",
    "    \"ks\": \"*\",\n",
    "}"
   ]
  },
  {
   "cell_type": "code",
   "execution_count": 59,
   "metadata": {
    "collapsed": true
   },
   "outputs": [],
   "source": [
    "df = pd.read_csv(\"../experiments/d_raiders/scale_d.csv\")"
   ]
  },
  {
   "cell_type": "code",
   "execution_count": 60,
   "metadata": {
    "collapsed": true
   },
   "outputs": [],
   "source": [
    "df[\"r_algorithm\"] = df[\"out_path\"].map(get_algorithm)\n",
    "df[\"r_dataset\"] = df[\"out_path\"].map(get_dataset)\n",
    "df[\"throughput\"] = (\n",
    "    1000 * df[\"num_test\"] / df[\"test_time\"]\n",
    ")\n",
    "df[\"a_throughput\"] = (\n",
    "    1000 * df[\"num_train\"] \n",
    "    / (df[\"test_time\"]*df[\"num_train\"]/df[\"num_test\"] + df[\"train_time\"])\n",
    ")"
   ]
  },
  {
   "cell_type": "code",
   "execution_count": 61,
   "metadata": {
    "collapsed": true
   },
   "outputs": [],
   "source": [
    "df = df.sort_values(by=[\"r_algorithm\", \"dim\"])"
   ]
  },
  {
   "cell_type": "code",
   "execution_count": 62,
   "metadata": {
    "collapsed": true
   },
   "outputs": [],
   "source": [
    "algorder = [\"ic2\", \"simple\", \"sklearn\", \"rkde\"]"
   ]
  },
  {
   "cell_type": "code",
   "execution_count": 63,
   "metadata": {
    "collapsed": false
   },
   "outputs": [
    {
     "name": "stderr",
     "output_type": "stream",
     "text": [
      "/usr/local/lib/python3.5/site-packages/matplotlib/tight_layout.py:222: UserWarning: tight_layout : falling back to Agg renderer\n",
      "  warnings.warn(\"tight_layout : falling back to Agg renderer\")\n"
     ]
    }
   ],
   "source": [
    "matplotlib.rcParams.update({'font.size': 11})\n",
    "from matplotlib.ticker import MultipleLocator, FormatStrFormatter\n",
    "fig = plt.figure(figsize=(6,3.5),dpi=300)\n",
    "ax = plt.subplot(111)\n",
    "for i,alg in enumerate(algorder):\n",
    "    cur_df = df[df[\"r_algorithm\"] == alg]\n",
    "    ax.loglog(\n",
    "        cur_df[\"dim\"],\n",
    "        cur_df[\"throughput\"],\n",
    "        marker=markers[alg],\n",
    "        linewidth=1.0,\n",
    "        markersize=4.0,\n",
    "        label=alg,\n",
    "        basex=2,\n",
    "    )\n",
    "majorFormatter = FormatStrFormatter('%d')\n",
    "ax.xaxis.set_major_formatter(majorFormatter)\n",
    "ax.set_xlabel(\"Dataset Dimension\")\n",
    "ax.set_ylabel(\"Query Throughput\")\n",
    "ax.set_title(\"Adjusting Dimension, mnist, n={}\".format(\n",
    "        human_format(df.num_train.iloc[0]),\n",
    "        df.dim.iloc[0]))\n",
    "ax.legend(loc=0, ncol=2)\n",
    "fig.tight_layout()\n",
    "fig.savefig(\"d_scale.pdf\")\n",
    "fig.clear()"
   ]
  },
  {
   "cell_type": "code",
   "execution_count": null,
   "metadata": {
    "collapsed": true
   },
   "outputs": [],
   "source": []
  }
 ],
 "metadata": {
  "kernelspec": {
   "display_name": "Python 3",
   "language": "python",
   "name": "python3"
  },
  "language_info": {
   "codemirror_mode": {
    "name": "ipython",
    "version": 3
   },
   "file_extension": ".py",
   "mimetype": "text/x-python",
   "name": "python",
   "nbconvert_exporter": "python",
   "pygments_lexer": "ipython3",
   "version": "3.5.2"
  }
 },
 "nbformat": 4,
 "nbformat_minor": 2
}
