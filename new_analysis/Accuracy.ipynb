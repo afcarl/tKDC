{
 "cells": [
  {
   "cell_type": "code",
   "execution_count": 2,
   "metadata": {
    "collapsed": true
   },
   "outputs": [],
   "source": [
    "import matplotlib\n",
    "matplotlib.use('pdf')"
   ]
  },
  {
   "cell_type": "code",
   "execution_count": 3,
   "metadata": {
    "collapsed": true
   },
   "outputs": [],
   "source": [
    "import numpy as np\n",
    "import matplotlib.pyplot as plt\n",
    "import pandas as pd\n",
    "import math\n",
    "import os\n",
    "plt.style.use('default')"
   ]
  },
  {
   "cell_type": "code",
   "execution_count": 61,
   "metadata": {
    "collapsed": true
   },
   "outputs": [],
   "source": [
    "def human_format(x):\n",
    "    sigpart = 0\n",
    "    suffix = \"\"\n",
    "    if x < 1000:\n",
    "        return \"{:.3g}\".format(x)\n",
    "    elif x < 1000000:\n",
    "        sigpart = x / 1000\n",
    "        suffix = \"k\"\n",
    "    elif x < 1000000000:\n",
    "        sigpart = x / 1000000\n",
    "        suffix = \"M\"\n",
    "    else:\n",
    "        sigpart = x / 1000000000\n",
    "        suffix = \"B\"\n",
    "    return \"{:.3g}{}\".format(sigpart, suffix)\n",
    "def get_algorithm(alg):\n",
    "    if alg == \"ic2\":\n",
    "        return \"tkdc\"\n",
    "    else:\n",
    "        return alg\n",
    "def get_dataset(path):\n",
    "    datasets = {\n",
    "        \"bgauss\": \"gauss\",\n",
    "        \"hep\": \"hep\",\n",
    "        \"tmy3_4\": \"tmy3_4\",\n",
    "        \"tmy3.\": \"tmy3\",\n",
    "        \"mnist_64\": \"mnist\",\n",
    "        \"home\": \"home\",\n",
    "        \"energy\": \"tmy3\",\n",
    "        \"shuttle\": \"shuttle\"\n",
    "    }\n",
    "    for dataset in datasets.keys():\n",
    "        if dataset in path:\n",
    "            return datasets[dataset]\n",
    "algorder = [\"tkdc\", \"simple\", \"sklearn\", \"rkde\", \"nocut\", \"ks\"]"
   ]
  },
  {
   "cell_type": "code",
   "execution_count": 52,
   "metadata": {
    "collapsed": false
   },
   "outputs": [
    {
     "data": {
      "text/html": [
       "<div>\n",
       "<table border=\"1\" class=\"dataframe\">\n",
       "  <thead>\n",
       "    <tr style=\"text-align: right;\">\n",
       "      <th></th>\n",
       "      <th>algorithm</th>\n",
       "      <th>dataset</th>\n",
       "      <th>dimension</th>\n",
       "      <th>true_below</th>\n",
       "      <th>est_below</th>\n",
       "      <th>tp_below</th>\n",
       "      <th>precision</th>\n",
       "      <th>recall</th>\n",
       "      <th>f_score</th>\n",
       "    </tr>\n",
       "  </thead>\n",
       "  <tbody>\n",
       "    <tr>\n",
       "      <th>0</th>\n",
       "      <td>sklearn_t0</td>\n",
       "      <td>energy</td>\n",
       "      <td>2</td>\n",
       "      <td>500</td>\n",
       "      <td>500</td>\n",
       "      <td>500</td>\n",
       "      <td>1.0</td>\n",
       "      <td>1.0</td>\n",
       "      <td>1.0</td>\n",
       "    </tr>\n",
       "    <tr>\n",
       "      <th>1</th>\n",
       "      <td>sklearn_t0</td>\n",
       "      <td>energy</td>\n",
       "      <td>4</td>\n",
       "      <td>500</td>\n",
       "      <td>500</td>\n",
       "      <td>500</td>\n",
       "      <td>1.0</td>\n",
       "      <td>1.0</td>\n",
       "      <td>1.0</td>\n",
       "    </tr>\n",
       "  </tbody>\n",
       "</table>\n",
       "</div>"
      ],
      "text/plain": [
       "    algorithm dataset  dimension  true_below  est_below  tp_below  precision  \\\n",
       "0  sklearn_t0  energy          2         500        500       500        1.0   \n",
       "1  sklearn_t0  energy          4         500        500       500        1.0   \n",
       "\n",
       "   recall  f_score  \n",
       "0     1.0      1.0  \n",
       "1     1.0      1.0  "
      ]
     },
     "execution_count": 52,
     "metadata": {},
     "output_type": "execute_result"
    }
   ],
   "source": [
    "df = pd.read_csv(\"../analysis/results/rawacc_2.csv\")\n",
    "df.head(2)"
   ]
  },
  {
   "cell_type": "code",
   "execution_count": 67,
   "metadata": {
    "collapsed": false
   },
   "outputs": [],
   "source": [
    "df[\"r_dataset\"] = df[\"dataset\"].map(get_dataset)\n",
    "df[\"r_algorithm\"] = df[\"algorithm\"].map(get_algorithm)"
   ]
  },
  {
   "cell_type": "code",
   "execution_count": 73,
   "metadata": {
    "collapsed": false
   },
   "outputs": [],
   "source": [
    "algorithms = [\"tkdc\", \"sklearn\", \"ks\"]\n",
    "datasets = [\"tmy3\", \"home\", \"shuttle\"]\n",
    "# colors = [\"0.2\", \"0.7\", \"1.0\"]\n",
    "dimensions = [[2], [4], [7,8]]\n",
    "colors = [\"C1\", \"C2\", \"C3\", \"C0\"]\n",
    "hatches = [\"\", \"//\", \"\\\\\\\\\"]"
   ]
  },
  {
   "cell_type": "code",
   "execution_count": 74,
   "metadata": {
    "collapsed": false
   },
   "outputs": [],
   "source": [
    "plt.style.use('default')"
   ]
  },
  {
   "cell_type": "code",
   "execution_count": 76,
   "metadata": {
    "collapsed": false
   },
   "outputs": [
    {
     "name": "stderr",
     "output_type": "stream",
     "text": [
      "/usr/local/lib/python3.5/site-packages/matplotlib/pyplot.py:524: RuntimeWarning: More than 20 figures have been opened. Figures created through the pyplot interface (`matplotlib.pyplot.figure`) are retained until explicitly closed and may consume too much memory. (To control this warning, see the rcParam `figure.max_open_warning`).\n",
      "  max_open_warning, RuntimeWarning)\n",
      "/usr/local/lib/python3.5/site-packages/matplotlib/tight_layout.py:222: UserWarning: tight_layout : falling back to Agg renderer\n",
      "  warnings.warn(\"tight_layout : falling back to Agg renderer\")\n"
     ]
    }
   ],
   "source": [
    "fig, axs = plt.subplots(nrows=3, ncols=1, figsize=(5,5),dpi=300)\n",
    "fig.subplots_adjust(hspace=0.5)\n",
    "for k in range(len(dimensions)):\n",
    "    dims = dimensions[k]\n",
    "    ax = axs[k]\n",
    "    for di in range(len(datasets)):\n",
    "        dname = datasets[di]\n",
    "        data = df[(df[\"r_dataset\"] == dname) & (df.dimension.isin(dims))]\n",
    "        data = data[data.r_algorithm.isin(algorithms)]\n",
    "        xlocs = np.arange(0,len(algorithms))*4 + di\n",
    "        if len(data) == 2:\n",
    "            xlocs = np.arange(0,len(algorithms)-1) * 4 + di\n",
    "        bars = ax.bar(\n",
    "            left=xlocs,\n",
    "            height=data.f_score,\n",
    "            label=dname,\n",
    "            color=\"0.7\",\n",
    "            edgecolor=\"0.0\",\n",
    "            hatch=hatches[di]\n",
    "        )\n",
    "        for bar, label in zip(bars, data.f_score):\n",
    "                height = bar.get_height()\n",
    "                ax.text(\n",
    "                    bar.get_x() + bar.get_width()/2, \n",
    "                    height,\n",
    "                    human_format(float(label)),\n",
    "                    ha='center', va='bottom', size = 8,\n",
    "                )\n",
    "    ax.set_xticks(np.arange(0,len(algorithms)) * 4 + 1)\n",
    "    ax.set_xlim(np.array([-.2,2.8])*4)\n",
    "    ax.set_xticklabels(data.r_algorithm)\n",
    "    ax.set_ylim(0.0,1.25)\n",
    "    ax.yaxis.grid(True, ls=\"dotted\", alpha=.5)\n",
    "    if k == 2:\n",
    "        ax.set_xlabel(\"Algorithm\")\n",
    "    ax.set_ylabel(\"F-score\")\n",
    "    ax.set_title(\"Dimensions: {}\".format(dims))\n",
    "    if k == 2:\n",
    "        ax.legend(loc=0)\n",
    "fig.tight_layout()\n",
    "fig.savefig(\"accuracy.pdf\")"
   ]
  },
  {
   "cell_type": "code",
   "execution_count": null,
   "metadata": {
    "collapsed": true
   },
   "outputs": [],
   "source": []
  }
 ],
 "metadata": {
  "kernelspec": {
   "display_name": "Python 3",
   "language": "python",
   "name": "python3"
  },
  "language_info": {
   "codemirror_mode": {
    "name": "ipython",
    "version": 3
   },
   "file_extension": ".py",
   "mimetype": "text/x-python",
   "name": "python",
   "nbconvert_exporter": "python",
   "pygments_lexer": "ipython3",
   "version": "3.5.2"
  }
 },
 "nbformat": 4,
 "nbformat_minor": 2
}
