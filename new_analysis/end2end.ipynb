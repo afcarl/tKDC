{
 "cells": [
  {
   "cell_type": "code",
   "execution_count": 1,
   "metadata": {
    "collapsed": false
   },
   "outputs": [],
   "source": [
    "import matplotlib\n",
    "matplotlib.use('pdf')"
   ]
  },
  {
   "cell_type": "code",
   "execution_count": 2,
   "metadata": {
    "collapsed": false
   },
   "outputs": [],
   "source": [
    "import numpy as np\n",
    "import matplotlib.pyplot as plt\n",
    "import pandas as pd\n",
    "import math\n",
    "import os\n",
    "plt.style.use('default')"
   ]
  },
  {
   "cell_type": "code",
   "execution_count": 3,
   "metadata": {
    "collapsed": true
   },
   "outputs": [],
   "source": [
    "df = pd.read_csv(\"../experiments/e2e_raiders/e2e.csv\")"
   ]
  },
  {
   "cell_type": "code",
   "execution_count": 4,
   "metadata": {
    "collapsed": false
   },
   "outputs": [],
   "source": [
    "def human_format(x):\n",
    "    sigpart = 0\n",
    "    suffix = \"\"\n",
    "    if x < 1000:\n",
    "        return \"{:.3g}\".format(x)\n",
    "    elif x < 1000000:\n",
    "        sigpart = x / 1000\n",
    "        suffix = \"k\"\n",
    "    elif x < 1000000000:\n",
    "        sigpart = x / 1000000\n",
    "        suffix = \"M\"\n",
    "    else:\n",
    "        sigpart = x / 1000000000\n",
    "        suffix = \"B\"\n",
    "    return \"{:.3g}{}\".format(sigpart, suffix)\n",
    "def get_algorithm(path):\n",
    "    algs = [\"rkde\", \"ic2\", \"sklearn\", \"nocut\", \"simple\", \"ks\"]\n",
    "    for alg in algs:\n",
    "        if alg in path:\n",
    "            return alg\n",
    "def get_dataset(path):\n",
    "    datasets = {\n",
    "        \"bgauss\": \"gauss\",\n",
    "        \"hep\": \"hep\",\n",
    "        \"tmy3_4\": \"tmy3_4\",\n",
    "        \"tmy3.\": \"tmy3\",\n",
    "        \"mnist_64\": \"mnist\",\n",
    "        \"home\": \"home\",\n",
    "    }\n",
    "    for dataset in datasets.keys():\n",
    "        if dataset in path:\n",
    "            return datasets[dataset]\n",
    "algorder = [\"ic2\", \"simple\", \"sklearn\", \"rkde\", \"nocut\", \"ks\"]"
   ]
  },
  {
   "cell_type": "code",
   "execution_count": 5,
   "metadata": {
    "collapsed": false
   },
   "outputs": [],
   "source": [
    "df[\"r_algorithm\"] = df[\"out_path\"].map(get_algorithm)\n",
    "df[\"r_dataset\"] = df[\"out_path\"].map(get_dataset)\n",
    "df[\"throughput\"] = (\n",
    "    1000 * df[\"num_test\"] / df[\"test_time\"]\n",
    ")\n",
    "df[\"a_throughput\"] = (\n",
    "    1000 * df[\"num_train\"] \n",
    "    / (df[\"test_time\"]*df[\"num_train\"]/df[\"num_test\"] + df[\"train_time\"])\n",
    ")"
   ]
  },
  {
   "cell_type": "code",
   "execution_count": 6,
   "metadata": {
    "collapsed": false
   },
   "outputs": [],
   "source": [
    "df[\"algorder\"] = df[\"r_algorithm\"].map(lambda alg: algorder.index(alg))\n",
    "df = df.sort_values(by=[\"r_dataset\",\"algorder\"])\n",
    "datasetorder = [\"gauss\", \"tmy3_4\", \"tmy3\", \"home\", \"hep\", \"mnist\"]"
   ]
  },
  {
   "cell_type": "code",
   "execution_count": 7,
   "metadata": {
    "collapsed": true
   },
   "outputs": [],
   "source": [
    "from matplotlib.ticker import LogFormatter"
   ]
  },
  {
   "cell_type": "code",
   "execution_count": 13,
   "metadata": {
    "collapsed": false
   },
   "outputs": [],
   "source": [
    "matplotlib.rcParams.update({'font.size': 10})"
   ]
  },
  {
   "cell_type": "code",
   "execution_count": 15,
   "metadata": {
    "collapsed": false
   },
   "outputs": [
    {
     "name": "stderr",
     "output_type": "stream",
     "text": [
      "/usr/local/lib/python3.5/site-packages/matplotlib/tight_layout.py:222: UserWarning: tight_layout : falling back to Agg renderer\n",
      "  warnings.warn(\"tight_layout : falling back to Agg renderer\")\n"
     ]
    }
   ],
   "source": [
    "fig, axs = plt.subplots(nrows=2, ncols=3, figsize=(10,5),dpi=300)\n",
    "fig.subplots_adjust(hspace=0.1)\n",
    "for di,dataset in enumerate(datasetorder):\n",
    "    ax = axs.ravel()[di]\n",
    "    cur_df = df[(df.r_dataset == dataset)]\n",
    "    xlocs = np.arange(0,len(cur_df))\n",
    "    throughputs = cur_df.a_throughput\n",
    "    if (di > 4):\n",
    "        uselog = False\n",
    "    else:\n",
    "        uselog = True\n",
    "    ax.bar(left=xlocs, height=throughputs, log=uselog)\n",
    "    rects = ax.patches\n",
    "    for rect, label in zip(rects, throughputs):\n",
    "        height = rect.get_height()\n",
    "        ax.text(\n",
    "            rect.get_x() + rect.get_width()/2, \n",
    "            height,\n",
    "            human_format(float(label)),\n",
    "            ha='center', va='bottom', size = 9,\n",
    "        )\n",
    "    \n",
    "    ax.set_xticks(np.arange(0,len(cur_df)))\n",
    "    ax.set_xticklabels(\n",
    "        cur_df.r_algorithm,\n",
    "        rotation=-45,\n",
    "    )\n",
    "    if dataset == \"tmy3_4\":\n",
    "        p_dataset = \"tmy3\"\n",
    "    else:\n",
    "        p_dataset = dataset\n",
    "    ax.set_title(\"Dataset: {}, n={}, d={}\".format(\n",
    "        p_dataset,\n",
    "        human_format(cur_df.num_train.iloc[0]),\n",
    "        cur_df.dim.iloc[0]\n",
    "    ))\n",
    "    ylim_min, ylim_max = ax.get_ylim()\n",
    "    if di == 0:\n",
    "        ax.set_ylim(ylim_min, 10**8)\n",
    "    elif di < 5:\n",
    "        ax.set_ylim(ylim_min, ylim_max*2)\n",
    "    else:\n",
    "        ax.set_ylim(ylim_min, ylim_max*1.1)\n",
    "    \n",
    "    if (di >= 3):\n",
    "        ax.set_xlabel(\"Algorithm\")\n",
    "    if (di == 0 or di == 3):\n",
    "        ax.set_ylabel(\"Throughput\")\n",
    "        \n",
    "\n",
    "#     ax.yaxis.grid(True)\n",
    "fig.tight_layout()\n",
    "fig.savefig(\"e2e.pdf\")"
   ]
  },
  {
   "cell_type": "code",
   "execution_count": null,
   "metadata": {
    "collapsed": true
   },
   "outputs": [],
   "source": []
  },
  {
   "cell_type": "code",
   "execution_count": 117,
   "metadata": {
    "collapsed": false
   },
   "outputs": [
    {
     "data": {
      "text/html": [
       "<div>\n",
       "<table border=\"1\" class=\"dataframe\">\n",
       "  <thead>\n",
       "    <tr style=\"text-align: right;\">\n",
       "      <th></th>\n",
       "      <th></th>\n",
       "      <th>r_algorithm</th>\n",
       "      <th>ic2</th>\n",
       "      <th>nocut</th>\n",
       "      <th>rkde</th>\n",
       "      <th>simple</th>\n",
       "      <th>sklearn</th>\n",
       "    </tr>\n",
       "    <tr>\n",
       "      <th>r_dataset</th>\n",
       "      <th>dim</th>\n",
       "      <th>num_train</th>\n",
       "      <th></th>\n",
       "      <th></th>\n",
       "      <th></th>\n",
       "      <th></th>\n",
       "      <th></th>\n",
       "    </tr>\n",
       "  </thead>\n",
       "  <tbody>\n",
       "    <tr>\n",
       "      <th>gauss</th>\n",
       "      <th>2</th>\n",
       "      <th>100000000</th>\n",
       "      <td>55186.145629</td>\n",
       "      <td>7.690865</td>\n",
       "      <td>4.869725</td>\n",
       "      <td>0.115648</td>\n",
       "      <td>8.956584</td>\n",
       "    </tr>\n",
       "    <tr>\n",
       "      <th>hep</th>\n",
       "      <th>27</th>\n",
       "      <th>10500000</th>\n",
       "      <td>12.597810</td>\n",
       "      <td>0.212976</td>\n",
       "      <td>0.345213</td>\n",
       "      <td>0.620794</td>\n",
       "      <td>0.438428</td>\n",
       "    </tr>\n",
       "    <tr>\n",
       "      <th>home</th>\n",
       "      <th>10</th>\n",
       "      <th>928991</th>\n",
       "      <td>1193.070282</td>\n",
       "      <td>18.639559</td>\n",
       "      <td>24.680088</td>\n",
       "      <td>10.255816</td>\n",
       "      <td>67.928238</td>\n",
       "    </tr>\n",
       "    <tr>\n",
       "      <th>mnist</th>\n",
       "      <th>64</th>\n",
       "      <th>70000</th>\n",
       "      <td>86.254592</td>\n",
       "      <td>NaN</td>\n",
       "      <td>NaN</td>\n",
       "      <td>49.099480</td>\n",
       "      <td>31.109122</td>\n",
       "    </tr>\n",
       "    <tr>\n",
       "      <th>tmy3</th>\n",
       "      <th>8</th>\n",
       "      <th>1822080</th>\n",
       "      <td>7760.649668</td>\n",
       "      <td>3.606713</td>\n",
       "      <td>7.911713</td>\n",
       "      <td>6.297175</td>\n",
       "      <td>7.198570</td>\n",
       "    </tr>\n",
       "  </tbody>\n",
       "</table>\n",
       "</div>"
      ],
      "text/plain": [
       "r_algorithm                       ic2      nocut       rkde     simple  \\\n",
       "r_dataset dim num_train                                                  \n",
       "gauss     2   100000000  55186.145629   7.690865   4.869725   0.115648   \n",
       "hep       27  10500000      12.597810   0.212976   0.345213   0.620794   \n",
       "home      10  928991      1193.070282  18.639559  24.680088  10.255816   \n",
       "mnist     64  70000         86.254592        NaN        NaN  49.099480   \n",
       "tmy3      8   1822080     7760.649668   3.606713   7.911713   6.297175   \n",
       "\n",
       "r_algorithm                sklearn  \n",
       "r_dataset dim num_train             \n",
       "gauss     2   100000000   8.956584  \n",
       "hep       27  10500000    0.438428  \n",
       "home      10  928991     67.928238  \n",
       "mnist     64  70000      31.109122  \n",
       "tmy3      8   1822080     7.198570  "
      ]
     },
     "execution_count": 117,
     "metadata": {},
     "output_type": "execute_result"
    }
   ],
   "source": [
    "pivoted = df.groupby(\n",
    "    [\"r_algorithm\", \"r_dataset\", \"dim\", \"num_train\"]\n",
    ")[\"a_throughput\"].mean().unstack(0)\n",
    "pivoted"
   ]
  },
  {
   "cell_type": "code",
   "execution_count": 54,
   "metadata": {
    "collapsed": false,
    "scrolled": true
   },
   "outputs": [
    {
     "data": {
      "text/html": [
       "<div>\n",
       "<table border=\"1\" class=\"dataframe\">\n",
       "  <thead>\n",
       "    <tr style=\"text-align: right;\">\n",
       "      <th>r_algorithm</th>\n",
       "      <th>r_dataset</th>\n",
       "      <th>dim</th>\n",
       "      <th>num_train</th>\n",
       "      <th>ic2</th>\n",
       "      <th>simple</th>\n",
       "      <th>sklearn</th>\n",
       "      <th>rkde</th>\n",
       "      <th>nocut</th>\n",
       "    </tr>\n",
       "  </thead>\n",
       "  <tbody>\n",
       "    <tr>\n",
       "      <th>0</th>\n",
       "      <td>gauss</td>\n",
       "      <td>2</td>\n",
       "      <td>100000000</td>\n",
       "      <td>55186.145629</td>\n",
       "      <td>0.115648</td>\n",
       "      <td>8.956584</td>\n",
       "      <td>4.869725</td>\n",
       "      <td>7.690865</td>\n",
       "    </tr>\n",
       "    <tr>\n",
       "      <th>1</th>\n",
       "      <td>tmy3</td>\n",
       "      <td>8</td>\n",
       "      <td>1822080</td>\n",
       "      <td>7760.649668</td>\n",
       "      <td>6.297175</td>\n",
       "      <td>7.198570</td>\n",
       "      <td>7.911713</td>\n",
       "      <td>3.606713</td>\n",
       "    </tr>\n",
       "    <tr>\n",
       "      <th>2</th>\n",
       "      <td>home</td>\n",
       "      <td>10</td>\n",
       "      <td>928991</td>\n",
       "      <td>1193.070282</td>\n",
       "      <td>10.255816</td>\n",
       "      <td>67.928238</td>\n",
       "      <td>24.680088</td>\n",
       "      <td>18.639559</td>\n",
       "    </tr>\n",
       "    <tr>\n",
       "      <th>3</th>\n",
       "      <td>hep</td>\n",
       "      <td>27</td>\n",
       "      <td>10500000</td>\n",
       "      <td>12.597810</td>\n",
       "      <td>0.620794</td>\n",
       "      <td>0.438428</td>\n",
       "      <td>0.345213</td>\n",
       "      <td>0.212976</td>\n",
       "    </tr>\n",
       "    <tr>\n",
       "      <th>4</th>\n",
       "      <td>mnist</td>\n",
       "      <td>64</td>\n",
       "      <td>70000</td>\n",
       "      <td>86.254592</td>\n",
       "      <td>49.099480</td>\n",
       "      <td>31.109122</td>\n",
       "      <td>NaN</td>\n",
       "      <td>NaN</td>\n",
       "    </tr>\n",
       "  </tbody>\n",
       "</table>\n",
       "</div>"
      ],
      "text/plain": [
       "r_algorithm r_dataset  dim  num_train           ic2     simple    sklearn  \\\n",
       "0               gauss    2  100000000  55186.145629   0.115648   8.956584   \n",
       "1                tmy3    8    1822080   7760.649668   6.297175   7.198570   \n",
       "2                home   10     928991   1193.070282  10.255816  67.928238   \n",
       "3                 hep   27   10500000     12.597810   0.620794   0.438428   \n",
       "4               mnist   64      70000     86.254592  49.099480  31.109122   \n",
       "\n",
       "r_algorithm       rkde      nocut  \n",
       "0             4.869725   7.690865  \n",
       "1             7.911713   3.606713  \n",
       "2            24.680088  18.639559  \n",
       "3             0.345213   0.212976  \n",
       "4                  NaN        NaN  "
      ]
     },
     "execution_count": 54,
     "metadata": {},
     "output_type": "execute_result"
    }
   ],
   "source": [
    "pivoted = pivoted.reset_index().sort_values(by=\"dim\")[[\n",
    "    \"r_dataset\",\n",
    "    \"dim\",\n",
    "    \"num_train\",\n",
    "    \"ic2\",\n",
    "    \"simple\",\n",
    "    \"sklearn\",\n",
    "    \"rkde\",\n",
    "    \"nocut\"\n",
    "]]\n",
    "pivoted"
   ]
  }
 ],
 "metadata": {
  "kernelspec": {
   "display_name": "Python 3",
   "language": "python",
   "name": "python3"
  },
  "language_info": {
   "codemirror_mode": {
    "name": "ipython",
    "version": 3
   },
   "file_extension": ".py",
   "mimetype": "text/x-python",
   "name": "python",
   "nbconvert_exporter": "python",
   "pygments_lexer": "ipython3",
   "version": "3.5.2"
  }
 },
 "nbformat": 4,
 "nbformat_minor": 2
}
