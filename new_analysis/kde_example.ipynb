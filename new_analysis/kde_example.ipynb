{
 "cells": [
  {
   "cell_type": "code",
   "execution_count": 1,
   "metadata": {
    "collapsed": false
   },
   "outputs": [],
   "source": [
    "import matplotlib\n",
    "matplotlib.use('pdf')"
   ]
  },
  {
   "cell_type": "code",
   "execution_count": 2,
   "metadata": {
    "collapsed": true
   },
   "outputs": [],
   "source": [
    "import numpy as np\n",
    "import matplotlib.pyplot as plt\n",
    "import pandas as pd\n",
    "import math\n",
    "import os\n",
    "import scipy.stats\n",
    "plt.style.use('default')"
   ]
  },
  {
   "cell_type": "code",
   "execution_count": 3,
   "metadata": {
    "collapsed": false
   },
   "outputs": [],
   "source": [
    "locs = np.array([-3, 1, 2, 5, 6])"
   ]
  },
  {
   "cell_type": "code",
   "execution_count": 4,
   "metadata": {
    "collapsed": false
   },
   "outputs": [],
   "source": [
    "xs = np.arange(-12,12,.01)"
   ]
  },
  {
   "cell_type": "code",
   "execution_count": 6,
   "metadata": {
    "collapsed": false
   },
   "outputs": [
    {
     "name": "stderr",
     "output_type": "stream",
     "text": [
      "/usr/local/lib/python3.5/site-packages/matplotlib/tight_layout.py:222: UserWarning: tight_layout : falling back to Agg renderer\n",
      "  warnings.warn(\"tight_layout : falling back to Agg renderer\")\n"
     ]
    }
   ],
   "source": [
    "plt.figure(figsize=(5,2.5), dpi=300)\n",
    "sum_ys = np.zeros(len(xs))\n",
    "for i,loc in enumerate(locs):\n",
    "    g_ys = 1/len(locs)*scipy.stats.norm(loc=loc, scale=1.5).pdf(xs)\n",
    "    sum_ys += g_ys\n",
    "    if i == 0:\n",
    "        label = \"Local Kernel\"\n",
    "    else:\n",
    "        label = None\n",
    "    plt.plot(xs, g_ys, c=\"C0\", ls=\"dashed\", label=label)\n",
    "plt.plot(xs, sum_ys, c=\"C1\", label=\"Combined Density\")\n",
    "plt.scatter(locs, np.zeros(len(locs)), marker=\"o\", label=\"Training Data\")\n",
    "plt.xlabel(\"x\")\n",
    "plt.ylabel(\"Probability Density p(x)\")\n",
    "plt.legend()\n",
    "fig = plt.gcf()\n",
    "fig.tight_layout()\n",
    "fig.savefig(\"kde_example.pdf\")"
   ]
  },
  {
   "cell_type": "code",
   "execution_count": null,
   "metadata": {
    "collapsed": true
   },
   "outputs": [],
   "source": []
  }
 ],
 "metadata": {
  "kernelspec": {
   "display_name": "Python 3",
   "language": "python",
   "name": "python3"
  },
  "language_info": {
   "codemirror_mode": {
    "name": "ipython",
    "version": 3
   },
   "file_extension": ".py",
   "mimetype": "text/x-python",
   "name": "python",
   "nbconvert_exporter": "python",
   "pygments_lexer": "ipython3",
   "version": "3.5.2"
  }
 },
 "nbformat": 4,
 "nbformat_minor": 2
}
