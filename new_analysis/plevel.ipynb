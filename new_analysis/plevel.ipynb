{
 "cells": [
  {
   "cell_type": "code",
   "execution_count": 1,
   "metadata": {
    "collapsed": true
   },
   "outputs": [],
   "source": [
    "import matplotlib\n",
    "matplotlib.use('pdf')"
   ]
  },
  {
   "cell_type": "code",
   "execution_count": 2,
   "metadata": {
    "collapsed": true
   },
   "outputs": [],
   "source": [
    "import numpy as np\n",
    "import matplotlib.pyplot as plt\n",
    "import pandas as pd\n",
    "import math\n",
    "import os\n",
    "plt.style.use('default')"
   ]
  },
  {
   "cell_type": "code",
   "execution_count": 13,
   "metadata": {
    "collapsed": true
   },
   "outputs": [],
   "source": [
    "def human_format(x):\n",
    "    sigpart = 0\n",
    "    suffix = \"\"\n",
    "    if x < 1000:\n",
    "        return \"{:.3g}\".format(x)\n",
    "    elif x < 1000000:\n",
    "        sigpart = x / 1000\n",
    "        suffix = \"k\"\n",
    "    elif x < 1000000000:\n",
    "        sigpart = x / 1000000\n",
    "        suffix = \"M\"\n",
    "    else:\n",
    "        sigpart = x / 1000000000\n",
    "        suffix = \"B\"\n",
    "    return \"{:.3g} {}\".format(sigpart, suffix)\n",
    "def get_algorithm(path):\n",
    "    algs = [\"rkde\", \"ic2\", \"sklearn\", \"nocut\", \"simple\"]\n",
    "    for alg in algs:\n",
    "        if alg in path:\n",
    "            return alg\n",
    "def get_dataset(path):\n",
    "    datasets = {\n",
    "        \"bgauss\": \"gauss\",\n",
    "        \"hep\": \"hep\",\n",
    "        \"tmy3_4\": \"tmy3_4\",\n",
    "        \"tmy3.\": \"tmy3\",\n",
    "        \"mnist_64\": \"mnist\",\n",
    "        \"home\": \"home\",\n",
    "    }\n",
    "    for dataset in datasets.keys():\n",
    "        if dataset in path:\n",
    "            return datasets[dataset]\n",
    "markers = {\n",
    "    \"ic2\": \"o\",\n",
    "    \"simple\": \"^\",\n",
    "    \"sklearn\": \"s\",\n",
    "    \"rkde\": \"d\",\n",
    "    \"nocut\": \"8\",\n",
    "    \"ks\": \"*\",\n",
    "}"
   ]
  },
  {
   "cell_type": "code",
   "execution_count": 4,
   "metadata": {
    "collapsed": true
   },
   "outputs": [],
   "source": [
    "def get_p(path):\n",
    "    underscore_idx = path.index(\"_\")\n",
    "    dot_idx = path.index(\".out\")\n",
    "    return int(path[underscore_idx+1:dot_idx])"
   ]
  },
  {
   "cell_type": "code",
   "execution_count": 8,
   "metadata": {
    "collapsed": true
   },
   "outputs": [],
   "source": [
    "df = pd.read_csv(\"../experiments/p_raiders/scale_p.csv\")"
   ]
  },
  {
   "cell_type": "code",
   "execution_count": 9,
   "metadata": {
    "collapsed": false
   },
   "outputs": [],
   "source": [
    "df[\"r_algorithm\"] = df[\"out_path\"].map(get_algorithm)\n",
    "df[\"r_dataset\"] = df[\"out_path\"].map(get_dataset)\n",
    "df[\"throughput\"] = (\n",
    "    1000 * df[\"num_test\"] / df[\"test_time\"]\n",
    ")\n",
    "df[\"a_throughput\"] = (\n",
    "    1000 * df[\"num_train\"] \n",
    "    / (df[\"test_time\"]*df[\"num_train\"]/df[\"num_test\"] + df[\"train_time\"])\n",
    ")\n",
    "df[\"p\"] = df[\"out_path\"].map(get_p)"
   ]
  },
  {
   "cell_type": "code",
   "execution_count": 10,
   "metadata": {
    "collapsed": true
   },
   "outputs": [],
   "source": [
    "df = df.sort_values(by=[\"r_algorithm\", \"p\"])"
   ]
  },
  {
   "cell_type": "code",
   "execution_count": 11,
   "metadata": {
    "collapsed": false
   },
   "outputs": [],
   "source": [
    "algorder = [\"ic2\"]"
   ]
  },
  {
   "cell_type": "code",
   "execution_count": 20,
   "metadata": {
    "collapsed": false
   },
   "outputs": [
    {
     "name": "stderr",
     "output_type": "stream",
     "text": [
      "/usr/local/lib/python3.5/site-packages/matplotlib/tight_layout.py:222: UserWarning: tight_layout : falling back to Agg renderer\n",
      "  warnings.warn(\"tight_layout : falling back to Agg renderer\")\n"
     ]
    }
   ],
   "source": [
    "fig = plt.figure(figsize=(6,3.5),dpi=300)\n",
    "ax = plt.subplot(111)\n",
    "for alg in algorder:\n",
    "    cur_df = df[df[\"r_algorithm\"] == alg]\n",
    "    ax.semilogy(\n",
    "        cur_df[\"p\"]/100,\n",
    "        cur_df[\"a_throughput\"],\n",
    "        marker=markers[alg],\n",
    "        label=alg,\n",
    "    )\n",
    "xs = np.arange(0,1.1,.1)\n",
    "cur_df = df[df[\"r_algorithm\"] == \"simple\"]\n",
    "ax.semilogy(\n",
    "    xs,\n",
    "    np.repeat(cur_df[\"a_throughput\"].mean(), len(xs)),\n",
    "    label=\"simple\",\n",
    "    ls=\"--\",\n",
    "    marker=markers[\"simple\"]\n",
    ")\n",
    "\n",
    "ax.semilogy(\n",
    "    xs,\n",
    "    np.repeat(11.3, len(xs)),\n",
    "    label=\"sklearn\",\n",
    "    ls=\"-.\",\n",
    "    marker=markers[\"sklearn\"]\n",
    ")\n",
    "\n",
    "ax.set_ylim(1,10**5)\n",
    "ax.set_xlabel(\"Quantile Threshold\")\n",
    "ax.set_ylabel(\"Query Throughput\")\n",
    "ax.set_title(\"Adjusting Threshold: tmy3, n={}, d={}\".format(\n",
    "        human_format(df.num_train.iloc[0]),\n",
    "        df.dim.iloc[0]))\n",
    "ax.legend(loc=0)\n",
    "ax.grid(True, ls=\"dotted\", alpha=0.5)\n",
    "fig.tight_layout()\n",
    "fig.savefig(\"p_scale.pdf\")\n",
    "fig.clear()"
   ]
  },
  {
   "cell_type": "code",
   "execution_count": null,
   "metadata": {
    "collapsed": true
   },
   "outputs": [],
   "source": []
  }
 ],
 "metadata": {
  "kernelspec": {
   "display_name": "Python 3",
   "language": "python",
   "name": "python3"
  },
  "language_info": {
   "codemirror_mode": {
    "name": "ipython",
    "version": 3
   },
   "file_extension": ".py",
   "mimetype": "text/x-python",
   "name": "python",
   "nbconvert_exporter": "python",
   "pygments_lexer": "ipython3",
   "version": "3.5.2"
  }
 },
 "nbformat": 4,
 "nbformat_minor": 2
}
